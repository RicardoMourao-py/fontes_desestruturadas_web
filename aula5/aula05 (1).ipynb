{
 "cells": [
  {
   "cell_type": "markdown",
   "id": "c762df0e",
   "metadata": {
    "id": "comprehensive-turkey"
   },
   "source": [
    "# Análise de texto de fontes desestruturadas e Web\n",
    "\n",
    "## Aula 05\n",
    "\n",
    "Nesta aula iremos aprender como extrair informações de páginas Web!\n",
    "\n",
    "\n",
    "A biblioteca utilizada será a **BeautifulSoup**, além da **requests** já vista na aula anterior.\n",
    "\n",
    "Para conhecer mais sobre ela, acesse https://beautiful-soup-4.readthedocs.io/en/latest/"
   ]
  },
  {
   "cell_type": "markdown",
   "id": "7e1e0ce8",
   "metadata": {
    "id": "decimal-turtle"
   },
   "source": [
    "## HTML\n",
    "\n",
    "As páginas Web são construídas utilizando uma linguagem de marcação, a **HyperText Markup Language**. Nela, são utilizadas *tags* para definir alterações em partes da página, como criação de imagens, *hyperlinks*, tabelas, listas, cabeçalhos, parágrafos, etc.\n",
    "\n",
    "Muito do conteúdo produzido por empresas e clientes acabam sendo disponibilizados em páginas Web. Hoje podemos comprar, vender, interagir, etc utilizando navegadores, que interpretam páginas HTML.\n",
    "\n",
    "Do ponto de vista dos programadores, queremos percorrer tais páginas e extrair conteúdos de interesse (notícia, preço de um produto, uma imagem, etc.). Estas informações de interesse estarão distribuídas em um emaranhado de *tags*, portanto, as páginas Web são consideradas como sendo semi-estruturadas ou desestruturadas.\n",
    "\n",
    "Para acessar este conteúdo de interesse com facilidade, podemos utilizar ferramentas de *Web scraping* e *parsers*, que conseguem entender a estrutura da linguagem que define as páginas e possuem recursos que facilitam a extração de conteúdos específicos. Em nossa aula, utilizaremos o **BeautifulSoup** como ferramenta de *scraping*. Podemos personalizar o *parser* mas esta informação fica para depois!"
   ]
  },
  {
   "cell_type": "markdown",
   "id": "3f521e60",
   "metadata": {
    "id": "aerial-arlington"
   },
   "source": [
    "## Instalando a biblioteca *BeautifulSoup*\n",
    "\n",
    "Primeiro, vamos instalar a principal biblioteca de nossa aula!"
   ]
  },
  {
   "cell_type": "code",
   "execution_count": 1,
   "id": "5e109fa6",
   "metadata": {
    "colab": {
     "base_uri": "https://localhost:8080/"
    },
    "id": "lined-polymer",
    "outputId": "844f4dc8-d2e7-40bf-b1ea-0fe02e1f21e1"
   },
   "outputs": [
    {
     "name": "stdout",
     "output_type": "stream",
     "text": [
      "Looking in indexes: https://pypi.org/simple, https://us-python.pkg.dev/colab-wheels/public/simple/\n",
      "Requirement already satisfied: BeautifulSoup4 in /usr/local/lib/python3.9/dist-packages (4.6.3)\n"
     ]
    }
   ],
   "source": [
    "!pip install BeautifulSoup4"
   ]
  },
  {
   "cell_type": "markdown",
   "id": "dfa7b56b",
   "metadata": {
    "id": "defensive-capacity"
   },
   "source": [
    "Caso a biblioteca já esteja instalada, porém com uma versão antiga, podemos atualizá-la com:"
   ]
  },
  {
   "cell_type": "code",
   "execution_count": 2,
   "id": "ba1d558c",
   "metadata": {
    "colab": {
     "base_uri": "https://localhost:8080/"
    },
    "id": "improved-focus",
    "outputId": "ea386b60-424f-46e7-bd17-f574cc015c33"
   },
   "outputs": [
    {
     "name": "stdout",
     "output_type": "stream",
     "text": [
      "Looking in indexes: https://pypi.org/simple, https://us-python.pkg.dev/colab-wheels/public/simple/\n",
      "Requirement already satisfied: BeautifulSoup4 in /usr/local/lib/python3.9/dist-packages (4.6.3)\n",
      "Collecting BeautifulSoup4\n",
      "  Downloading beautifulsoup4-4.11.2-py3-none-any.whl (129 kB)\n",
      "\u001b[2K     \u001b[90m━━━━━━━━━━━━━━━━━━━━━━━━━━━━━━━━━━━━━━━\u001b[0m \u001b[32m129.4/129.4 KB\u001b[0m \u001b[31m3.5 MB/s\u001b[0m eta \u001b[36m0:00:00\u001b[0m\n",
      "\u001b[?25hCollecting soupsieve>1.2\n",
      "  Downloading soupsieve-2.4-py3-none-any.whl (37 kB)\n",
      "Installing collected packages: soupsieve, BeautifulSoup4\n",
      "  Attempting uninstall: BeautifulSoup4\n",
      "    Found existing installation: beautifulsoup4 4.6.3\n",
      "    Uninstalling beautifulsoup4-4.6.3:\n",
      "      Successfully uninstalled beautifulsoup4-4.6.3\n",
      "Successfully installed BeautifulSoup4-4.11.2 soupsieve-2.4\n"
     ]
    }
   ],
   "source": [
    "!pip install -U BeautifulSoup4"
   ]
  },
  {
   "cell_type": "markdown",
   "id": "76f44ec9",
   "metadata": {
    "id": "weird-patrol"
   },
   "source": [
    "## Importando as bibliotecas necessárias\n",
    "\n",
    "Agora, vamos importar as bibliotecas necessárias:"
   ]
  },
  {
   "cell_type": "code",
   "execution_count": 3,
   "id": "3a0cef38",
   "metadata": {
    "id": "unlike-france"
   },
   "outputs": [],
   "source": [
    "# para trabalhar com diretórios / sistema operacional\n",
    "import os\n",
    "\n",
    "# para nos comunicarmos com a Web\n",
    "import requests\n",
    "\n",
    "# para extrair informações de páginas HTML\n",
    "import bs4\n",
    "from bs4 import BeautifulSoup\n",
    "\n",
    "# utilizada para nos indicar o caminho do executável do Python\n",
    "import sys\n",
    "\n",
    "# Para criar um Data Frame\n",
    "import pandas as pd\n",
    "\n",
    "# Renderizar HTML\n",
    "import IPython"
   ]
  },
  {
   "cell_type": "markdown",
   "id": "f4ec5458",
   "metadata": {
    "id": "acquired-regard"
   },
   "source": [
    "Caso obtenha algum erro, utilize o **!pip install** para instalar a biblioteca ausente!\n",
    "\n",
    "Vamos conferir com qual versão da biblioteca **xxxx** estamos trabalhando?"
   ]
  },
  {
   "cell_type": "code",
   "execution_count": 4,
   "id": "3262f1ef",
   "metadata": {
    "colab": {
     "base_uri": "https://localhost:8080/"
    },
    "id": "removable-calvin",
    "outputId": "163d03ad-2094-4b91-8330-a6c29eee2e8d"
   },
   "outputs": [
    {
     "name": "stdout",
     "output_type": "stream",
     "text": [
      "4.11.2\n"
     ]
    }
   ],
   "source": [
    "print(bs4.__version__)"
   ]
  },
  {
   "cell_type": "markdown",
   "id": "39d01b57",
   "metadata": {
    "id": "fewer-voluntary"
   },
   "source": [
    "Você também pode conferir de onde está executando o Python e qual a versão"
   ]
  },
  {
   "cell_type": "code",
   "execution_count": 5,
   "id": "67b58c95",
   "metadata": {
    "colab": {
     "base_uri": "https://localhost:8080/"
    },
    "id": "aggregate-secondary",
    "outputId": "8d94dc68-e625-4ac4-c091-775a3493b598"
   },
   "outputs": [
    {
     "name": "stdout",
     "output_type": "stream",
     "text": [
      "Executável:\n",
      "/usr/bin/python3\n",
      "\n",
      "Versão do Python:\n",
      "3.9.16 (main, Dec  7 2022, 01:11:51) \n",
      "[GCC 9.4.0]\n"
     ]
    }
   ],
   "source": [
    "print('Executável:')\n",
    "print(sys.executable)\n",
    "\n",
    "print('\\nVersão do Python:')\n",
    "print(sys.version)"
   ]
  },
  {
   "cell_type": "markdown",
   "id": "2fb559fd",
   "metadata": {
    "id": "multiple-premium"
   },
   "source": [
    "Vamos conferir em qual diretório iremos trabalhar (é o diretório do notebook)"
   ]
  },
  {
   "cell_type": "code",
   "execution_count": 6,
   "id": "c45f580e",
   "metadata": {
    "colab": {
     "base_uri": "https://localhost:8080/"
    },
    "id": "revolutionary-quantity",
    "outputId": "25d050c1-e5c9-4372-ba08-df50d0a97a26"
   },
   "outputs": [
    {
     "name": "stdout",
     "output_type": "stream",
     "text": [
      "O seu notebook está na pasta:\n",
      "/content\n"
     ]
    }
   ],
   "source": [
    "print('O seu notebook está na pasta:')\n",
    "print(os.getcwd())"
   ]
  },
  {
   "cell_type": "markdown",
   "id": "1feb9bff",
   "metadata": {
    "id": "detected-vulnerability"
   },
   "source": [
    "## Interagindo com HTML\n",
    "\n",
    "Iremos utilizar o arquivo **amostra.html** para nos familiarizarmos com as *tags* HTML.\n",
    "\n",
    "Primeiro, vamos baixar o arquivo amostra.html para a mesma pasta do nosso Jupyter notebook."
   ]
  },
  {
   "cell_type": "code",
   "execution_count": 22,
   "id": "7184fbed",
   "metadata": {
    "id": "trying-incentive"
   },
   "outputs": [],
   "source": [
    "url = 'https://atd-insper.s3.us-east-2.amazonaws.com/aula04/amostra.html'\n",
    "\n",
    "# Faça aqui o get da página!\n",
    "req = requests.get(url)\n",
    "\n",
    "req.encoding = 'utf-8'"
   ]
  },
  {
   "cell_type": "markdown",
   "id": "a52167e7",
   "metadata": {
    "id": "angry-juice"
   },
   "source": [
    "Conferindo o código de resposta"
   ]
  },
  {
   "cell_type": "code",
   "execution_count": 23,
   "id": "9ee9a1fe",
   "metadata": {
    "colab": {
     "base_uri": "https://localhost:8080/"
    },
    "id": "organized-outline",
    "outputId": "551c04a4-2820-43f9-db2e-3dd98fd53c86"
   },
   "outputs": [
    {
     "data": {
      "text/plain": [
       "200"
      ]
     },
     "execution_count": 23,
     "metadata": {},
     "output_type": "execute_result"
    }
   ],
   "source": [
    "# Seu código AQUI!\n",
    "req.status_code"
   ]
  },
  {
   "cell_type": "markdown",
   "id": "393bdf39",
   "metadata": {
    "id": "mediterranean-fluid"
   },
   "source": [
    "e o texto de resposta"
   ]
  },
  {
   "cell_type": "code",
   "execution_count": 24,
   "id": "9bf7397a",
   "metadata": {
    "colab": {
     "base_uri": "https://localhost:8080/"
    },
    "id": "catholic-damage",
    "outputId": "49a3381c-6950-4253-acf3-203daa19e3df"
   },
   "outputs": [
    {
     "name": "stdout",
     "output_type": "stream",
     "text": [
      "<!DOCTYPE html>\n",
      "<html>\n",
      "    <head>\n",
      "        <meta charset=\"UTF-8\">\n",
      "        <title>Este é o título da página!</title>\n",
      "    </head>\n",
      "\n",
      "    <body>\n",
      "\n",
      "        <h1>Este é um exemplo de página Web!</h1>\n",
      "\n",
      "        <p>Estamos utilizando HTML, que é uma linguagem de <b>Marcação</b> de <i>texto</i></p>\n",
      "\n",
      "        <h2>Este é um cabeçalho</h2>\n",
      "\n",
      "        <p>E este é um parágrafo.</p>\n",
      "\n",
      "        <p>Link para o <a href=\"https://www.google.com\">Google</a></p>\n",
      "    </body>\n",
      "</html>\n",
      "\n"
     ]
    }
   ],
   "source": [
    "# Seu código AQUI!\n",
    "print(req.text)"
   ]
  },
  {
   "cell_type": "code",
   "execution_count": 25,
   "id": "7eb379f5",
   "metadata": {
    "colab": {
     "base_uri": "https://localhost:8080/",
     "height": 190
    },
    "id": "39bc1186",
    "outputId": "47c0741e-1b81-4e8f-be9d-ff4f9f925a47"
   },
   "outputs": [
    {
     "data": {
      "text/html": [
       "<!DOCTYPE html>\n",
       "<html>\n",
       "    <head>\n",
       "        <meta charset=\"UTF-8\">\n",
       "        <title>Este é o título da página!</title>\n",
       "    </head>\n",
       "\n",
       "    <body>\n",
       "\n",
       "        <h1>Este é um exemplo de página Web!</h1>\n",
       "\n",
       "        <p>Estamos utilizando HTML, que é uma linguagem de <b>Marcação</b> de <i>texto</i></p>\n",
       "\n",
       "        <h2>Este é um cabeçalho</h2>\n",
       "\n",
       "        <p>E este é um parágrafo.</p>\n",
       "\n",
       "        <p>Link para o <a href=\"https://www.google.com\">Google</a></p>\n",
       "    </body>\n",
       "</html>\n"
      ],
      "text/plain": [
       "<IPython.core.display.HTML object>"
      ]
     },
     "execution_count": 25,
     "metadata": {},
     "output_type": "execute_result"
    }
   ],
   "source": [
    "IPython.display.HTML(req.text)"
   ]
  },
  {
   "cell_type": "markdown",
   "id": "4773443f",
   "metadata": {
    "id": "worthy-resolution"
   },
   "source": [
    "Agora, vamos salvar a resposta em um arquivo"
   ]
  },
  {
   "cell_type": "code",
   "execution_count": 27,
   "id": "dbd3a692",
   "metadata": {
    "id": "dressed-tobacco"
   },
   "outputs": [],
   "source": [
    "# Seu código AQUI!\n",
    "with open('amostra.html', 'w') as arq:\n",
    "  arq.write(req.text)"
   ]
  },
  {
   "cell_type": "markdown",
   "id": "78873e71",
   "metadata": {
    "id": "directed-privilege"
   },
   "source": [
    "Pronto! Confira se foi criado um arquivo **amostra.html** na pasta onde está o seu Jupyter notebook."
   ]
  },
  {
   "cell_type": "code",
   "execution_count": 28,
   "id": "f35391db",
   "metadata": {
    "colab": {
     "base_uri": "https://localhost:8080/"
    },
    "id": "cloudy-creek",
    "outputId": "1ebbf218-0df9-4a80-b91d-7f430b650e53"
   },
   "outputs": [
    {
     "name": "stdout",
     "output_type": "stream",
     "text": [
      "amostra.html  sample_data\n"
     ]
    }
   ],
   "source": [
    "!dir #Para listar conteúdo na pasta atual"
   ]
  },
  {
   "cell_type": "code",
   "execution_count": 29,
   "id": "ca12c768",
   "metadata": {
    "colab": {
     "base_uri": "https://localhost:8080/"
    },
    "id": "f49abb2c",
    "outputId": "78b924d5-d96f-427a-ed95-51aa9ec51543"
   },
   "outputs": [
    {
     "name": "stdout",
     "output_type": "stream",
     "text": [
      "amostra.html  sample_data\n"
     ]
    }
   ],
   "source": [
    "!ls #Para listar conteúdo na pasta atual"
   ]
  },
  {
   "cell_type": "markdown",
   "id": "72ae4f0f",
   "metadata": {
    "id": "liberal-facility"
   },
   "source": [
    "Agora você pode abrir este arquivo no navegador. Confira como a página é exibida.\n",
    "\n",
    "Você também pode abrir o arquivo **amostra.html** em um editor de textos qualquer (bloco de notas, sublime, notepad++, vcode) para realizar alterações."
   ]
  },
  {
   "cell_type": "markdown",
   "id": "4734d086",
   "metadata": {
    "id": "brief-statement"
   },
   "source": [
    "## Extraindo informações dos arquivos HTML\n",
    "\n",
    "Vamos aprender como utilizar o **BeautifulSoup** para extrair informações de interesse dos arquivos HTML?"
   ]
  },
  {
   "cell_type": "markdown",
   "id": "dac695b4",
   "metadata": {
    "id": "tender-battle"
   },
   "source": [
    "Para obter o código HTML, podemos abrir o arquivo **amostra.html** caso ele já esteja em nossa máquina:"
   ]
  },
  {
   "cell_type": "code",
   "execution_count": 30,
   "id": "8b5e9aa5",
   "metadata": {
    "id": "removed-excuse"
   },
   "outputs": [],
   "source": [
    "# Seu código AQUI!\n",
    "with open('amostra.html', 'r') as arq:\n",
    "  amostra = arq.read()"
   ]
  },
  {
   "cell_type": "markdown",
   "id": "902cf4c3",
   "metadata": {
    "id": "1834b338"
   },
   "source": [
    "Caso contrário, podemos fazer uma requisição para obter seu conteúdo:"
   ]
  },
  {
   "cell_type": "code",
   "execution_count": 32,
   "id": "7d8410dd",
   "metadata": {
    "id": "a57ccf78"
   },
   "outputs": [],
   "source": [
    "url = 'https://atd-insper.s3.us-east-2.amazonaws.com/aula04/amostra.html'\n",
    "\n",
    "# Seu código AQUI!\n",
    "req = requests.get(url)\n",
    "req.encoding = 'utf-8'\n",
    "\n",
    "amostra = req.text"
   ]
  },
  {
   "cell_type": "markdown",
   "id": "31f45537",
   "metadata": {
    "id": "secure-fusion"
   },
   "source": [
    "Agora, vamos configurar o BeautifulSoup para uso com o conteúdo da página de amostra. Precisamos informar a *string* contendo o código HTML e também o *parser*, que faz a separação dos *tags* de marcação utilizadas."
   ]
  },
  {
   "cell_type": "code",
   "execution_count": 33,
   "id": "d2ad79e7",
   "metadata": {
    "id": "sharing-council"
   },
   "outputs": [],
   "source": [
    "soup = BeautifulSoup(amostra, 'html.parser')"
   ]
  },
  {
   "cell_type": "markdown",
   "id": "263b1157",
   "metadata": {
    "id": "dominican-catch"
   },
   "source": [
    "Agora, podemos encontrar uma tag qualquer, por exêmplo **\\<h2\\>**:"
   ]
  },
  {
   "cell_type": "code",
   "execution_count": 34,
   "id": "8c7b91d9",
   "metadata": {
    "colab": {
     "base_uri": "https://localhost:8080/"
    },
    "id": "catholic-tribute",
    "outputId": "d5ea4837-a243-4ed9-a116-aefa2fe9126b"
   },
   "outputs": [
    {
     "data": {
      "text/plain": [
       "<h2>Este é um cabeçalho</h2>"
      ]
     },
     "execution_count": 34,
     "metadata": {},
     "output_type": "execute_result"
    }
   ],
   "source": [
    "soup.find('h2')"
   ]
  },
  {
   "cell_type": "markdown",
   "id": "2b1097fb",
   "metadata": {
    "id": "regular-delight"
   },
   "source": [
    "Caso queira exibir apenas o texto da tag encontrada, faça:"
   ]
  },
  {
   "cell_type": "code",
   "execution_count": 35,
   "id": "9feb5620",
   "metadata": {
    "colab": {
     "base_uri": "https://localhost:8080/"
    },
    "id": "classical-particular",
    "outputId": "b595601b-bce5-44c2-e79f-8b1ec043d3f7"
   },
   "outputs": [
    {
     "name": "stdout",
     "output_type": "stream",
     "text": [
      "O conteúdo do título é: Este é um cabeçalho\n"
     ]
    }
   ],
   "source": [
    "h2 = soup.find('h2')\n",
    "print('O conteúdo do título é: {}'.format(h2.text))"
   ]
  },
  {
   "cell_type": "markdown",
   "id": "4171a6a4",
   "metadata": {
    "id": "facial-ukraine"
   },
   "source": [
    "Podemos também procurar por todas as ocorrências de uma tag:"
   ]
  },
  {
   "cell_type": "code",
   "execution_count": 36,
   "id": "d0a538e8",
   "metadata": {
    "colab": {
     "base_uri": "https://localhost:8080/"
    },
    "id": "incoming-provider",
    "outputId": "031282c8-113b-477c-f429-334ebaa62cae"
   },
   "outputs": [
    {
     "data": {
      "text/plain": [
       "[<p>Estamos utilizando HTML, que é uma linguagem de <b>Marcação</b> de <i>texto</i></p>,\n",
       " <p>E este é um parágrafo.</p>,\n",
       " <p>Link para o <a href=\"https://www.google.com\">Google</a></p>]"
      ]
     },
     "execution_count": 36,
     "metadata": {},
     "output_type": "execute_result"
    }
   ],
   "source": [
    "soup.find_all('p')"
   ]
  },
  {
   "cell_type": "markdown",
   "id": "58e476b0",
   "metadata": {
    "id": "authentic-grove"
   },
   "source": [
    "Agora, vamos encontrar um link:"
   ]
  },
  {
   "cell_type": "code",
   "execution_count": 39,
   "id": "d5f893b4",
   "metadata": {
    "colab": {
     "base_uri": "https://localhost:8080/"
    },
    "id": "prescribed-sweet",
    "outputId": "10ba9d21-b9b3-4e9d-a955-813eedb887b5"
   },
   "outputs": [
    {
     "data": {
      "text/plain": [
       "<a href=\"https://www.google.com\">Google</a>"
      ]
     },
     "execution_count": 39,
     "metadata": {},
     "output_type": "execute_result"
    }
   ],
   "source": [
    "link = soup.find('a')\n",
    "link"
   ]
  },
  {
   "cell_type": "markdown",
   "id": "d137ffd6",
   "metadata": {
    "id": "provincial-suffering"
   },
   "source": [
    "Será que conseguimos extrair o texto que aparece para o usuário?"
   ]
  },
  {
   "cell_type": "code",
   "execution_count": 41,
   "id": "af5840ed",
   "metadata": {
    "colab": {
     "base_uri": "https://localhost:8080/",
     "height": 35
    },
    "id": "quiet-concord",
    "outputId": "2bf99d38-4b57-48d7-e1d1-7d5530789671"
   },
   "outputs": [
    {
     "data": {
      "application/vnd.google.colaboratory.intrinsic+json": {
       "type": "string"
      },
      "text/plain": [
       "'Google'"
      ]
     },
     "execution_count": 41,
     "metadata": {},
     "output_type": "execute_result"
    }
   ],
   "source": [
    "link.text"
   ]
  },
  {
   "cell_type": "markdown",
   "id": "afd73150",
   "metadata": {
    "id": "sapphire-visitor"
   },
   "source": [
    "E como fazemos para extrair a URL do link?"
   ]
  },
  {
   "cell_type": "code",
   "execution_count": 60,
   "id": "c722618f",
   "metadata": {
    "colab": {
     "base_uri": "https://localhost:8080/",
     "height": 35
    },
    "id": "million-oxygen",
    "outputId": "0acb7ea1-4e9f-41b9-e376-7b23224b4e94"
   },
   "outputs": [
    {
     "data": {
      "application/vnd.google.colaboratory.intrinsic+json": {
       "type": "string"
      },
      "text/plain": [
       "'https://www.google.com'"
      ]
     },
     "execution_count": 60,
     "metadata": {},
     "output_type": "execute_result"
    }
   ],
   "source": [
    "link['href']"
   ]
  },
  {
   "cell_type": "markdown",
   "id": "4eb1d533",
   "metadata": {
    "id": "operating-armor"
   },
   "source": [
    "## Exemplo de aplicação\n",
    "\n",
    "Suponha que tenhamos uma página Web com diversos produtos listados.\n",
    "\n",
    "Acesse https://atd-insper.s3.us-east-2.amazonaws.com/aula05/produtos.html\n",
    "\n",
    "Vamos utilizar o BeautifulSoup para extrair as informações da página, construindo um **pandas DataFrame** contendo o **`produto`**, **`descrição`** e **`preço`**.\n",
    "\n",
    "Primeiro, vamos extrair a página com o *requests*:"
   ]
  },
  {
   "cell_type": "code",
   "execution_count": 42,
   "id": "eded066a",
   "metadata": {
    "colab": {
     "base_uri": "https://localhost:8080/"
    },
    "id": "rental-algeria",
    "outputId": "1f488441-c197-4c4f-fe72-a5d80e7e6607"
   },
   "outputs": [
    {
     "name": "stdout",
     "output_type": "stream",
     "text": [
      "\n",
      "<!DOCTYPE html>\n",
      "<html>\n",
      "\t<head>\n",
      "        <meta charset=\"UTF-8\">\n",
      "        <title>Exemplo Produtos</title>\n",
      "    </head>\n",
      "<body>\n",
      "\n",
      "<div class=\"menu\" id=\"my_menu\" align=\"right\">\n",
      "\t<a href=\"#\">HOME</a> | <a href=\"macielcv@insper.edu.br\">CONTATO</a> | <a href=\"https://www.google.com\">GOOGLE</a>\n",
      "</div>\n",
      "\n",
      "\n",
      "<div class=\"produto\" id=\"produto_1\" align=\"left\" style=\"width:600px;height:160px; background-color:rgb(115, 185, 174);\">\n",
      "\t<h4>Notebook Dell Core i5-8265U 8GB 1TB Tela 15.6” Windows 10 Inspiron I15-3583-A3XP</h4>\n",
      "\t<p>Com o notebook Dell Inspiron I15-3583-A3XP você conta com todos os recursos essenciais para o seu dia a dia. Sua estrutura leve e fina garante a portabilidade ideal para levar aonde quiser.</p>\n",
      "    <span class=\"preco_produto\" id=\"preco_produto_1\">R$&nbsp;4.299,00</span>\n",
      "</div>\n",
      "\n",
      "\n",
      "<div class=\"produto\" id=\"produto_2\" align=\"left\" style=\"width:600px;height:160px; background-color:rgb(115, 185, 174);\">\n",
      "\t<h4>Notebook Dell Core i7-8565U 8GB 2TB Placa de Vídeo 2GB Tela Full HD 15.6” Windows 10 Inspiron I15-3583-A40B</h4>\n",
      "\t<p>Intel® Core™ i7-8565U Quad Core 1.8 GHz com Turbo Max até 4.6 GHz. Windows 10 Home Single Language 64 bits.</p>\n",
      "    <span class=\"preco_produto\" id=\"preco_produto_2\">R$&nbsp;5.499,00</span>\n",
      "</div>\n",
      "\n",
      "\n",
      "<div class=\"produto\" id=\"produto_3\" align=\"left\" style=\"width:600px;height:160px; background-color:rgb(115, 185, 174);\">\n",
      "\t<h4>Notebook Gamer Dell G3 3500-U10P</h4>\n",
      "\t<p>Sua EXPERIÊNCIA Gamer Ainda Mais Intensa E Real: GRÁFICOS Poderosos, Desempenho Extremamente RÁPIDO E Sistema TÉRMICO Especial. Com o novo notebook Dell G3, você terá uma incrível experiência em um notebook com um design fino, leve e com uma performance incrível.</p>\n",
      "    <span class=\"preco_produto\" id=\"preco_produto_3\">R$&nbsp;6.049,00</span>\n",
      "</div>\n",
      "\n",
      "\n",
      "<div class=\"produto\" id=\"produto_4\" align=\"left\" style=\"width:600px;height:160px; background-color:rgb(115, 185, 174);\">\n",
      "\t<h4>Notebook Lenovo Core i3-8130U 4GB 1TB Tela 15.6” Windows 10 Ideapad S145</h4>\n",
      "\t<p>Design sofisticado leve e compacto, possui tela antirreflexo de 15.6\" para mais conforto visual e definição de imagem. Um notebook perfeito para produtividade e entretenimento com WiFi AC ultrarrápido e teclado numérico.</p>\n",
      "    <span class=\"preco_produto\" id=\"preco_produto_4\">R$&nbsp;3.199,00</span>\n",
      "</div>\n",
      "\n",
      "\n",
      "<div class=\"produto\" id=\"produto_5\" align=\"left\" style=\"width:600px;height:160px; background-color:rgb(115, 185, 174);\">\n",
      "\t<h4>Notebook Lenovo BS145 Intel Core I5 4Gb 256Gb SSD W10 Pro</h4>\n",
      "\t<p>O teclado numérico BS145 integrado garante uma digitação mais rápida e ergonômica, especialmente para facilitar o trabalho com cálculos e planilhas. Tela anti-reflexo de 15,6 polegadas que pode ser aberta em 180 °, dando a você mais flexibilidade no ajuste do ângulo de visão e tornando a integridade da dobradiça mais segura.</p>\n",
      "    <span class=\"preco_produto\" id=\"preco_produto_5\">R$&nbsp;6.781,00</span>\n",
      "</div>\n",
      "\n",
      "</body>\n",
      "</html>\n"
     ]
    }
   ],
   "source": [
    "url = 'https://atd-insper.s3.us-east-2.amazonaws.com/aula05/produtos.html'\n",
    "pag_prod = requests.get(url)\n",
    "\n",
    "pag_prod.encoding = 'utf-8'\n",
    "\n",
    "print(pag_prod.text)"
   ]
  },
  {
   "cell_type": "markdown",
   "id": "ac9131bc",
   "metadata": {
    "id": "3d385fe6"
   },
   "source": [
    "Podemos abrir diretamente a URL em um navegador para verificar seu conteúdo, ou então renderizar dentro do notebook com:"
   ]
  },
  {
   "cell_type": "code",
   "execution_count": 43,
   "id": "893e4bed",
   "metadata": {
    "colab": {
     "base_uri": "https://localhost:8080/",
     "height": 927
    },
    "id": "ca888c2c",
    "outputId": "8c10189b-f9e8-4b27-d3f8-d2c3ba85f801"
   },
   "outputs": [
    {
     "data": {
      "text/html": [
       "\n",
       "<!DOCTYPE html>\n",
       "<html>\n",
       "\t<head>\n",
       "        <meta charset=\"UTF-8\">\n",
       "        <title>Exemplo Produtos</title>\n",
       "    </head>\n",
       "<body>\n",
       "\n",
       "<div class=\"menu\" id=\"my_menu\" align=\"right\">\n",
       "\t<a href=\"#\">HOME</a> | <a href=\"macielcv@insper.edu.br\">CONTATO</a> | <a href=\"https://www.google.com\">GOOGLE</a>\n",
       "</div>\n",
       "\n",
       "\n",
       "<div class=\"produto\" id=\"produto_1\" align=\"left\" style=\"width:600px;height:160px; background-color:rgb(115, 185, 174);\">\n",
       "\t<h4>Notebook Dell Core i5-8265U 8GB 1TB Tela 15.6” Windows 10 Inspiron I15-3583-A3XP</h4>\n",
       "\t<p>Com o notebook Dell Inspiron I15-3583-A3XP você conta com todos os recursos essenciais para o seu dia a dia. Sua estrutura leve e fina garante a portabilidade ideal para levar aonde quiser.</p>\n",
       "    <span class=\"preco_produto\" id=\"preco_produto_1\">R$&nbsp;4.299,00</span>\n",
       "</div>\n",
       "\n",
       "\n",
       "<div class=\"produto\" id=\"produto_2\" align=\"left\" style=\"width:600px;height:160px; background-color:rgb(115, 185, 174);\">\n",
       "\t<h4>Notebook Dell Core i7-8565U 8GB 2TB Placa de Vídeo 2GB Tela Full HD 15.6” Windows 10 Inspiron I15-3583-A40B</h4>\n",
       "\t<p>Intel® Core™ i7-8565U Quad Core 1.8 GHz com Turbo Max até 4.6 GHz. Windows 10 Home Single Language 64 bits.</p>\n",
       "    <span class=\"preco_produto\" id=\"preco_produto_2\">R$&nbsp;5.499,00</span>\n",
       "</div>\n",
       "\n",
       "\n",
       "<div class=\"produto\" id=\"produto_3\" align=\"left\" style=\"width:600px;height:160px; background-color:rgb(115, 185, 174);\">\n",
       "\t<h4>Notebook Gamer Dell G3 3500-U10P</h4>\n",
       "\t<p>Sua EXPERIÊNCIA Gamer Ainda Mais Intensa E Real: GRÁFICOS Poderosos, Desempenho Extremamente RÁPIDO E Sistema TÉRMICO Especial. Com o novo notebook Dell G3, você terá uma incrível experiência em um notebook com um design fino, leve e com uma performance incrível.</p>\n",
       "    <span class=\"preco_produto\" id=\"preco_produto_3\">R$&nbsp;6.049,00</span>\n",
       "</div>\n",
       "\n",
       "\n",
       "<div class=\"produto\" id=\"produto_4\" align=\"left\" style=\"width:600px;height:160px; background-color:rgb(115, 185, 174);\">\n",
       "\t<h4>Notebook Lenovo Core i3-8130U 4GB 1TB Tela 15.6” Windows 10 Ideapad S145</h4>\n",
       "\t<p>Design sofisticado leve e compacto, possui tela antirreflexo de 15.6\" para mais conforto visual e definição de imagem. Um notebook perfeito para produtividade e entretenimento com WiFi AC ultrarrápido e teclado numérico.</p>\n",
       "    <span class=\"preco_produto\" id=\"preco_produto_4\">R$&nbsp;3.199,00</span>\n",
       "</div>\n",
       "\n",
       "\n",
       "<div class=\"produto\" id=\"produto_5\" align=\"left\" style=\"width:600px;height:160px; background-color:rgb(115, 185, 174);\">\n",
       "\t<h4>Notebook Lenovo BS145 Intel Core I5 4Gb 256Gb SSD W10 Pro</h4>\n",
       "\t<p>O teclado numérico BS145 integrado garante uma digitação mais rápida e ergonômica, especialmente para facilitar o trabalho com cálculos e planilhas. Tela anti-reflexo de 15,6 polegadas que pode ser aberta em 180 °, dando a você mais flexibilidade no ajuste do ângulo de visão e tornando a integridade da dobradiça mais segura.</p>\n",
       "    <span class=\"preco_produto\" id=\"preco_produto_5\">R$&nbsp;6.781,00</span>\n",
       "</div>\n",
       "\n",
       "</body>\n",
       "</html>"
      ],
      "text/plain": [
       "<IPython.core.display.HTML object>"
      ]
     },
     "execution_count": 43,
     "metadata": {},
     "output_type": "execute_result"
    }
   ],
   "source": [
    "IPython.display.HTML(pag_prod.text)"
   ]
  },
  {
   "cell_type": "markdown",
   "id": "8cab3ea2",
   "metadata": {
    "id": "established-evidence"
   },
   "source": [
    "Vamos utilizar o BeautifulSoup"
   ]
  },
  {
   "cell_type": "code",
   "execution_count": 44,
   "id": "65b8fd00",
   "metadata": {
    "id": "ancient-advancement"
   },
   "outputs": [],
   "source": [
    "soup = BeautifulSoup(pag_prod.content, 'html.parser')"
   ]
  },
  {
   "cell_type": "markdown",
   "id": "d6086629",
   "metadata": {
    "id": "standing-elevation"
   },
   "source": [
    "E extrair a lista de produtos. Podemos perceber que os produtos estão separados em `div` com classe `produto`. Assim, podemos utilizar o método `find_all` para obter uma lista de *tags* encontradas no HTML."
   ]
  },
  {
   "cell_type": "code",
   "execution_count": 46,
   "id": "9d3cbd9d",
   "metadata": {
    "colab": {
     "base_uri": "https://localhost:8080/"
    },
    "id": "laughing-islam",
    "outputId": "68ecb38c-0d9e-4a6e-cd2c-12ce5d6dbd03"
   },
   "outputs": [
    {
     "data": {
      "text/plain": [
       "[<div align=\"left\" class=\"produto\" id=\"produto_1\" style=\"width:600px;height:160px; background-color:rgb(115, 185, 174);\">\n",
       " <h4>Notebook Dell Core i5-8265U 8GB 1TB Tela 15.6” Windows 10 Inspiron I15-3583-A3XP</h4>\n",
       " <p>Com o notebook Dell Inspiron I15-3583-A3XP você conta com todos os recursos essenciais para o seu dia a dia. Sua estrutura leve e fina garante a portabilidade ideal para levar aonde quiser.</p>\n",
       " <span class=\"preco_produto\" id=\"preco_produto_1\">R$ 4.299,00</span>\n",
       " </div>,\n",
       " <div align=\"left\" class=\"produto\" id=\"produto_2\" style=\"width:600px;height:160px; background-color:rgb(115, 185, 174);\">\n",
       " <h4>Notebook Dell Core i7-8565U 8GB 2TB Placa de Vídeo 2GB Tela Full HD 15.6” Windows 10 Inspiron I15-3583-A40B</h4>\n",
       " <p>Intel® Core™ i7-8565U Quad Core 1.8 GHz com Turbo Max até 4.6 GHz. Windows 10 Home Single Language 64 bits.</p>\n",
       " <span class=\"preco_produto\" id=\"preco_produto_2\">R$ 5.499,00</span>\n",
       " </div>,\n",
       " <div align=\"left\" class=\"produto\" id=\"produto_3\" style=\"width:600px;height:160px; background-color:rgb(115, 185, 174);\">\n",
       " <h4>Notebook Gamer Dell G3 3500-U10P</h4>\n",
       " <p>Sua EXPERIÊNCIA Gamer Ainda Mais Intensa E Real: GRÁFICOS Poderosos, Desempenho Extremamente RÁPIDO E Sistema TÉRMICO Especial. Com o novo notebook Dell G3, você terá uma incrível experiência em um notebook com um design fino, leve e com uma performance incrível.</p>\n",
       " <span class=\"preco_produto\" id=\"preco_produto_3\">R$ 6.049,00</span>\n",
       " </div>,\n",
       " <div align=\"left\" class=\"produto\" id=\"produto_4\" style=\"width:600px;height:160px; background-color:rgb(115, 185, 174);\">\n",
       " <h4>Notebook Lenovo Core i3-8130U 4GB 1TB Tela 15.6” Windows 10 Ideapad S145</h4>\n",
       " <p>Design sofisticado leve e compacto, possui tela antirreflexo de 15.6\" para mais conforto visual e definição de imagem. Um notebook perfeito para produtividade e entretenimento com WiFi AC ultrarrápido e teclado numérico.</p>\n",
       " <span class=\"preco_produto\" id=\"preco_produto_4\">R$ 3.199,00</span>\n",
       " </div>,\n",
       " <div align=\"left\" class=\"produto\" id=\"produto_5\" style=\"width:600px;height:160px; background-color:rgb(115, 185, 174);\">\n",
       " <h4>Notebook Lenovo BS145 Intel Core I5 4Gb 256Gb SSD W10 Pro</h4>\n",
       " <p>O teclado numérico BS145 integrado garante uma digitação mais rápida e ergonômica, especialmente para facilitar o trabalho com cálculos e planilhas. Tela anti-reflexo de 15,6 polegadas que pode ser aberta em 180 °, dando a você mais flexibilidade no ajuste do ângulo de visão e tornando a integridade da dobradiça mais segura.</p>\n",
       " <span class=\"preco_produto\" id=\"preco_produto_5\">R$ 6.781,00</span>\n",
       " </div>]"
      ]
     },
     "execution_count": 46,
     "metadata": {},
     "output_type": "execute_result"
    }
   ],
   "source": [
    "lista_produto = soup.find_all('div', class_='produto')\n",
    "lista_produto"
   ]
  },
  {
   "cell_type": "markdown",
   "id": "96402314",
   "metadata": {
    "id": "introductory-poland"
   },
   "source": [
    "Podemos obter um produto qualquer da lista ao informar o índice:"
   ]
  },
  {
   "cell_type": "code",
   "execution_count": 47,
   "id": "928329f9",
   "metadata": {
    "colab": {
     "base_uri": "https://localhost:8080/"
    },
    "id": "fifty-milan",
    "outputId": "2352d2a8-e914-4115-dd51-9af2a0b72343"
   },
   "outputs": [
    {
     "data": {
      "text/plain": [
       "<div align=\"left\" class=\"produto\" id=\"produto_1\" style=\"width:600px;height:160px; background-color:rgb(115, 185, 174);\">\n",
       "<h4>Notebook Dell Core i5-8265U 8GB 1TB Tela 15.6” Windows 10 Inspiron I15-3583-A3XP</h4>\n",
       "<p>Com o notebook Dell Inspiron I15-3583-A3XP você conta com todos os recursos essenciais para o seu dia a dia. Sua estrutura leve e fina garante a portabilidade ideal para levar aonde quiser.</p>\n",
       "<span class=\"preco_produto\" id=\"preco_produto_1\">R$ 4.299,00</span>\n",
       "</div>"
      ]
     },
     "execution_count": 47,
     "metadata": {},
     "output_type": "execute_result"
    }
   ],
   "source": [
    "produto = lista_produto[0]\n",
    "produto"
   ]
  },
  {
   "cell_type": "markdown",
   "id": "63b0a398",
   "metadata": {
    "id": "undefined-advertising"
   },
   "source": [
    "Então, podemos obter as informações de **PRODUTO**, **DESCRIÇÃO** e **PREÇO** ao procurar pelas *tags* que os identificam!"
   ]
  },
  {
   "cell_type": "code",
   "execution_count": 48,
   "id": "0e4954c3",
   "metadata": {
    "colab": {
     "base_uri": "https://localhost:8080/"
    },
    "id": "sacred-relation",
    "outputId": "3953d485-ae7f-479e-a6bf-cba9438b747b"
   },
   "outputs": [
    {
     "name": "stdout",
     "output_type": "stream",
     "text": [
      "Produto....:  Notebook Dell Core i5-8265U 8GB 1TB Tela 15.6” Windows 10 Inspiron I15-3583-A3XP\n",
      "\n",
      "Descrição..:  Com o notebook Dell Inspiron I15-3583-A3XP você conta com todos os recursos essenciais para o seu dia a dia. Sua estrutura leve e fina garante a portabilidade ideal para levar aonde quiser.\n",
      "\n",
      "Preço......:  R$ 4.299,00\n"
     ]
    }
   ],
   "source": [
    "produto_titulo = produto.find('h4').text\n",
    "descricao = produto.find('p').text\n",
    "preco = produto.find('span', class_='preco_produto').text\n",
    "\n",
    "print('Produto....: ', produto_titulo)\n",
    "print('\\nDescrição..: ', descricao)\n",
    "print('\\nPreço......: ', preco)"
   ]
  },
  {
   "cell_type": "markdown",
   "id": "573c1ce1",
   "metadata": {
    "id": "comprehensive-tomorrow"
   },
   "source": [
    "### Obter todos os produtos e construir o DataFrame!\n",
    "\n",
    "Para obter as informações de todos os produtos de forma fácil, podemos iterar (laço, estrutura de repetição **for**) sobre as *divs* de todos os produtos e extrair as informações para cada uma delas.\n",
    "\n",
    "Podemos guardar cada produto, descrição e preço em uma **lista**, o que facilitará a construção do DataFrame."
   ]
  },
  {
   "cell_type": "code",
   "execution_count": 49,
   "id": "f36af6d5",
   "metadata": {
    "id": "instructional-closer"
   },
   "outputs": [],
   "source": [
    "# Cria listas vazias.\n",
    "lista_prod_titulo = []\n",
    "lista_descricao = []\n",
    "lista_preco = []\n",
    "\n",
    "# Um laço FOR pela lista de produtos\n",
    "for produto in soup.find_all('div', class_='produto'):\n",
    "    \n",
    "    # Extrai cada informação do produto\n",
    "    produto_titulo = produto.find('h4').text\n",
    "    descricao = produto.find('p').text\n",
    "    preco = produto.find('span').text\n",
    "    \n",
    "    preco = preco.replace('R$\\xa0', '')\n",
    "    preco = float(preco.replace(\".\", \"\").replace(\",\", \".\"))\n",
    "\n",
    "    \n",
    "    lista_prod_titulo.append(produto_titulo)\n",
    "    lista_descricao.append(descricao)\n",
    "    lista_preco.append(preco)"
   ]
  },
  {
   "cell_type": "markdown",
   "id": "14dc45be",
   "metadata": {
    "id": "olive-means"
   },
   "source": [
    "Agora, com as listas de produto, descrição e preço, podemos construir o DataFrame!"
   ]
  },
  {
   "cell_type": "code",
   "execution_count": 50,
   "id": "b8f5af68",
   "metadata": {
    "colab": {
     "base_uri": "https://localhost:8080/",
     "height": 206
    },
    "id": "solved-preliminary",
    "outputId": "9999053c-6d5f-4871-8326-ca611d565c13"
   },
   "outputs": [
    {
     "data": {
      "text/html": [
       "\n",
       "  <div id=\"df-b84dc34b-6c79-4041-9968-38c058dbb112\">\n",
       "    <div class=\"colab-df-container\">\n",
       "      <div>\n",
       "<style scoped>\n",
       "    .dataframe tbody tr th:only-of-type {\n",
       "        vertical-align: middle;\n",
       "    }\n",
       "\n",
       "    .dataframe tbody tr th {\n",
       "        vertical-align: top;\n",
       "    }\n",
       "\n",
       "    .dataframe thead th {\n",
       "        text-align: right;\n",
       "    }\n",
       "</style>\n",
       "<table border=\"1\" class=\"dataframe\">\n",
       "  <thead>\n",
       "    <tr style=\"text-align: right;\">\n",
       "      <th></th>\n",
       "      <th>Produto</th>\n",
       "      <th>Descrição</th>\n",
       "      <th>Preço</th>\n",
       "    </tr>\n",
       "  </thead>\n",
       "  <tbody>\n",
       "    <tr>\n",
       "      <th>0</th>\n",
       "      <td>Notebook Dell Core i5-8265U 8GB 1TB Tela 15.6”...</td>\n",
       "      <td>Com o notebook Dell Inspiron I15-3583-A3XP voc...</td>\n",
       "      <td>4299.0</td>\n",
       "    </tr>\n",
       "    <tr>\n",
       "      <th>1</th>\n",
       "      <td>Notebook Dell Core i7-8565U 8GB 2TB Placa de V...</td>\n",
       "      <td>Intel® Core™ i7-8565U Quad Core 1.8 GHz com Tu...</td>\n",
       "      <td>5499.0</td>\n",
       "    </tr>\n",
       "    <tr>\n",
       "      <th>2</th>\n",
       "      <td>Notebook Gamer Dell G3 3500-U10P</td>\n",
       "      <td>Sua EXPERIÊNCIA Gamer Ainda Mais Intensa E Rea...</td>\n",
       "      <td>6049.0</td>\n",
       "    </tr>\n",
       "    <tr>\n",
       "      <th>3</th>\n",
       "      <td>Notebook Lenovo Core i3-8130U 4GB 1TB Tela 15....</td>\n",
       "      <td>Design sofisticado leve e compacto, possui tel...</td>\n",
       "      <td>3199.0</td>\n",
       "    </tr>\n",
       "    <tr>\n",
       "      <th>4</th>\n",
       "      <td>Notebook Lenovo BS145 Intel Core I5 4Gb 256Gb ...</td>\n",
       "      <td>O teclado numérico BS145 integrado garante uma...</td>\n",
       "      <td>6781.0</td>\n",
       "    </tr>\n",
       "  </tbody>\n",
       "</table>\n",
       "</div>\n",
       "      <button class=\"colab-df-convert\" onclick=\"convertToInteractive('df-b84dc34b-6c79-4041-9968-38c058dbb112')\"\n",
       "              title=\"Convert this dataframe to an interactive table.\"\n",
       "              style=\"display:none;\">\n",
       "        \n",
       "  <svg xmlns=\"http://www.w3.org/2000/svg\" height=\"24px\"viewBox=\"0 0 24 24\"\n",
       "       width=\"24px\">\n",
       "    <path d=\"M0 0h24v24H0V0z\" fill=\"none\"/>\n",
       "    <path d=\"M18.56 5.44l.94 2.06.94-2.06 2.06-.94-2.06-.94-.94-2.06-.94 2.06-2.06.94zm-11 1L8.5 8.5l.94-2.06 2.06-.94-2.06-.94L8.5 2.5l-.94 2.06-2.06.94zm10 10l.94 2.06.94-2.06 2.06-.94-2.06-.94-.94-2.06-.94 2.06-2.06.94z\"/><path d=\"M17.41 7.96l-1.37-1.37c-.4-.4-.92-.59-1.43-.59-.52 0-1.04.2-1.43.59L10.3 9.45l-7.72 7.72c-.78.78-.78 2.05 0 2.83L4 21.41c.39.39.9.59 1.41.59.51 0 1.02-.2 1.41-.59l7.78-7.78 2.81-2.81c.8-.78.8-2.07 0-2.86zM5.41 20L4 18.59l7.72-7.72 1.47 1.35L5.41 20z\"/>\n",
       "  </svg>\n",
       "      </button>\n",
       "      \n",
       "  <style>\n",
       "    .colab-df-container {\n",
       "      display:flex;\n",
       "      flex-wrap:wrap;\n",
       "      gap: 12px;\n",
       "    }\n",
       "\n",
       "    .colab-df-convert {\n",
       "      background-color: #E8F0FE;\n",
       "      border: none;\n",
       "      border-radius: 50%;\n",
       "      cursor: pointer;\n",
       "      display: none;\n",
       "      fill: #1967D2;\n",
       "      height: 32px;\n",
       "      padding: 0 0 0 0;\n",
       "      width: 32px;\n",
       "    }\n",
       "\n",
       "    .colab-df-convert:hover {\n",
       "      background-color: #E2EBFA;\n",
       "      box-shadow: 0px 1px 2px rgba(60, 64, 67, 0.3), 0px 1px 3px 1px rgba(60, 64, 67, 0.15);\n",
       "      fill: #174EA6;\n",
       "    }\n",
       "\n",
       "    [theme=dark] .colab-df-convert {\n",
       "      background-color: #3B4455;\n",
       "      fill: #D2E3FC;\n",
       "    }\n",
       "\n",
       "    [theme=dark] .colab-df-convert:hover {\n",
       "      background-color: #434B5C;\n",
       "      box-shadow: 0px 1px 3px 1px rgba(0, 0, 0, 0.15);\n",
       "      filter: drop-shadow(0px 1px 2px rgba(0, 0, 0, 0.3));\n",
       "      fill: #FFFFFF;\n",
       "    }\n",
       "  </style>\n",
       "\n",
       "      <script>\n",
       "        const buttonEl =\n",
       "          document.querySelector('#df-b84dc34b-6c79-4041-9968-38c058dbb112 button.colab-df-convert');\n",
       "        buttonEl.style.display =\n",
       "          google.colab.kernel.accessAllowed ? 'block' : 'none';\n",
       "\n",
       "        async function convertToInteractive(key) {\n",
       "          const element = document.querySelector('#df-b84dc34b-6c79-4041-9968-38c058dbb112');\n",
       "          const dataTable =\n",
       "            await google.colab.kernel.invokeFunction('convertToInteractive',\n",
       "                                                     [key], {});\n",
       "          if (!dataTable) return;\n",
       "\n",
       "          const docLinkHtml = 'Like what you see? Visit the ' +\n",
       "            '<a target=\"_blank\" href=https://colab.research.google.com/notebooks/data_table.ipynb>data table notebook</a>'\n",
       "            + ' to learn more about interactive tables.';\n",
       "          element.innerHTML = '';\n",
       "          dataTable['output_type'] = 'display_data';\n",
       "          await google.colab.output.renderOutput(dataTable, element);\n",
       "          const docLink = document.createElement('div');\n",
       "          docLink.innerHTML = docLinkHtml;\n",
       "          element.appendChild(docLink);\n",
       "        }\n",
       "      </script>\n",
       "    </div>\n",
       "  </div>\n",
       "  "
      ],
      "text/plain": [
       "                                             Produto  \\\n",
       "0  Notebook Dell Core i5-8265U 8GB 1TB Tela 15.6”...   \n",
       "1  Notebook Dell Core i7-8565U 8GB 2TB Placa de V...   \n",
       "2                   Notebook Gamer Dell G3 3500-U10P   \n",
       "3  Notebook Lenovo Core i3-8130U 4GB 1TB Tela 15....   \n",
       "4  Notebook Lenovo BS145 Intel Core I5 4Gb 256Gb ...   \n",
       "\n",
       "                                           Descrição   Preço  \n",
       "0  Com o notebook Dell Inspiron I15-3583-A3XP voc...  4299.0  \n",
       "1  Intel® Core™ i7-8565U Quad Core 1.8 GHz com Tu...  5499.0  \n",
       "2  Sua EXPERIÊNCIA Gamer Ainda Mais Intensa E Rea...  6049.0  \n",
       "3  Design sofisticado leve e compacto, possui tel...  3199.0  \n",
       "4  O teclado numérico BS145 integrado garante uma...  6781.0  "
      ]
     },
     "execution_count": 50,
     "metadata": {},
     "output_type": "execute_result"
    }
   ],
   "source": [
    "df = pd.DataFrame({'Produto': lista_prod_titulo,\n",
    "                   'Descrição': lista_descricao,\n",
    "                   'Preço': lista_preco\n",
    "                  })\n",
    "df"
   ]
  },
  {
   "cell_type": "markdown",
   "id": "425427cc",
   "metadata": {
    "id": "unusual-square"
   },
   "source": [
    "Você conseguiria pensar em alguma aplicação prática feita a partir deste exemplo?"
   ]
  },
  {
   "cell_type": "markdown",
   "id": "5c41b5e0",
   "metadata": {
    "id": "vqUgyzUnWLym"
   },
   "source": [
    "R: Extração de informações. Ex: Informações de ações."
   ]
  },
  {
   "cell_type": "markdown",
   "id": "af4421ec",
   "metadata": {
    "id": "0e94414d"
   },
   "source": [
    "**Exercício 1)** Abra o arquivo **amostra.html** em um editor de textos de sua preferência:\n",
    "\n",
    "**a)** altere o título da página.\n",
    "\n",
    "**b)** Adicione, antes da seção de links, mais três subtítulos (todos nível 2, com a tag \\<h2\\>).\n",
    "\n",
    "**c)** Adicione, ao final da página, link para três páginas quaisquer de seu interesse."
   ]
  },
  {
   "cell_type": "code",
   "execution_count": 52,
   "id": "a239465e",
   "metadata": {
    "id": "8838e2fe"
   },
   "outputs": [],
   "source": [
    "%pycat amostra.html"
   ]
  },
  {
   "cell_type": "code",
   "execution_count": 53,
   "id": "e2faea68",
   "metadata": {
    "colab": {
     "base_uri": "https://localhost:8080/"
    },
    "id": "0da8dcce",
    "outputId": "ae2d4fc2-d081-4884-b4a9-533cf35db849"
   },
   "outputs": [
    {
     "name": "stdout",
     "output_type": "stream",
     "text": [
      "Writing amostra2.html\n"
     ]
    }
   ],
   "source": [
    "%%writefile amostra2.html\n",
    "<!DOCTYPE html>\n",
    "<html>\n",
    "    <head>\n",
    "        <meta charset=\"UTF-8\">\n",
    "        <title>Este é o título da página!</title>\n",
    "    </head>\n",
    "\n",
    "    <body>\n",
    "\n",
    "        <h1>Este é um exemplo de página Web!</h1>\n",
    "\n",
    "        <p>Estamos utilizando HTML, que é uma linguagem de <b>Marcação</b> de <i>texto</i></p>\n",
    "\n",
    "        <h2>Este é um cabeçalho</h2>\n",
    "\n",
    "        <p>E este é um parágrafo.</p>\n",
    "\n",
    "        <p>Link para o <a href=\"https://www.google.com\">Google</a></p>\n",
    "    </body>\n",
    "</html>"
   ]
  },
  {
   "cell_type": "code",
   "execution_count": 54,
   "id": "26a13109",
   "metadata": {
    "colab": {
     "base_uri": "https://localhost:8080/",
     "height": 190
    },
    "id": "cba23af9",
    "outputId": "793e7ba1-5c7c-4561-dc79-ee7bad8407f2"
   },
   "outputs": [
    {
     "data": {
      "text/html": [
       "<!DOCTYPE html>\n",
       "<html>\n",
       "    <head>\n",
       "        <meta charset=\"UTF-8\">\n",
       "        <title>Este é o título da página!</title>\n",
       "    </head>\n",
       "\n",
       "    <body>\n",
       "\n",
       "        <h1>Este é um exemplo de página Web!</h1>\n",
       "\n",
       "        <p>Estamos utilizando HTML, que é uma linguagem de <b>Marcação</b> de <i>texto</i></p>\n",
       "\n",
       "        <h2>Este é um cabeçalho</h2>\n",
       "\n",
       "        <p>E este é um parágrafo.</p>\n",
       "\n",
       "        <p>Link para o <a href=\"https://www.google.com\">Google</a></p>\n",
       "    </body>\n",
       "</html>\n"
      ],
      "text/plain": [
       "<IPython.core.display.HTML object>"
      ]
     },
     "execution_count": 54,
     "metadata": {},
     "output_type": "execute_result"
    }
   ],
   "source": [
    "IPython.display.HTML(filename='amostra2.html')"
   ]
  },
  {
   "cell_type": "markdown",
   "id": "5782b27b",
   "metadata": {
    "id": "8e8cf3ca"
   },
   "source": [
    "**Exercício 2)** Crie um novo arquivo HTML chamado **noticia.html** no editor de textos.\n",
    "\n",
    "**a)** Crie um título para a página.\n",
    "\n",
    "**b)** Crie um cabeçalho no arquivo (título, tag \\<h1\\>), contendo o texto \"**`A missão do século 19 que deu início à oceanografia`**\".\n",
    "\n",
    "**c)** Adicione parágrafos contendo os textos:\n",
    "\n",
    "*`Ela já foi uma casa residencial, mas atualmente a imponente estrutura de pedra na Boswall Road, na costa sul de Edimburgo, na Escócia, faz parte de uma clínica de cuidados paliativos.`*\n",
    "\n",
    "*`A construção tem o mesmo nome da parte mais profunda do oceano e de duas espaçonaves da Nasa, agência espacial americana. Uma era o módulo de comando da missão Apollo 17, enquanto a outra era um ônibus espacial, que explodiu em pleno ar após o lançamento — Challenger.`*\n",
    "\n",
    "*`Challenger Lodge já foi propriedade de John Murray, célebre precursor da oceanografia, cujas expedições o levaram aos lugares mais longínquos de Edimburgo, mas ainda no planeta Terra.`*\n",
    "\n",
    "*`A embarcação em que viveu por três anos na década de 1870 é o que une a casa na costa escocesa, a parte mais profunda do oceano e as espaçonaves da Nasa.`*\n",
    "\n",
    "*`O HMS Challenger era um navio da Marinha Real Britânica construído na década de 1850. Ele entrou para a história não pelo histórico de combates, mas graças a uma reputação conquistada por algo muito mais minucioso.`*\n",
    "\n",
    "**d)** Entre o texto e o cabeçalho, adicione uma imagem para a seguinte URL:\n",
    "https://ichef.bbci.co.uk/news/800/cpsprodpb/12746/production/_117309557_foto_01.jpg\n",
    "\n",
    "Dica: utilize a tag \\<img src=\"URL_DA_IMAGEM\"\\>\n",
    "\n",
    "**e)** escolha três palavras para deixar em negrito.\n",
    "\n",
    "**f)** No texto, no último parágrafo, deixe \"Marinha Real Britânica\" em itálico. Ainda, deixe \"Britânica\" também em negrito.\n"
   ]
  },
  {
   "cell_type": "code",
   "execution_count": 65,
   "id": "13239404",
   "metadata": {
    "colab": {
     "base_uri": "https://localhost:8080/"
    },
    "id": "82cea3ce",
    "outputId": "7754d6df-5d68-4822-e79a-211fa9cfe2a0"
   },
   "outputs": [
    {
     "name": "stdout",
     "output_type": "stream",
     "text": [
      "Overwriting noticia.html\n"
     ]
    }
   ],
   "source": [
    "%%writefile noticia.html\n",
    "<!DOCTYPE html>\n",
    "<html>\n",
    "    <head>\n",
    "        <meta charset=\"UTF-8\">\n",
    "        <title>Este é o título da página!</title>\n",
    "    </head>\n",
    "\n",
    "    <body>\n",
    "\n",
    "        <h1>NOTÍCIAS</h1>\n",
    "\n",
    "        <h2>A missão do século 19 que deu início à oceanografia</h2>\n",
    "\n",
    "        <img src=\"https://ichef.bbci.co.uk/news/800/cpsprodpb/12746/production/_117309557_foto_01.jpg\">\n",
    "\n",
    "        <p>Ela já foi uma casa residencial, mas atualmente a imponente estrutura de pedra na Boswall Road, na costa sul de Edimburgo, na Escócia, faz parte de uma clínica de cuidados paliativos.\n",
    "\n",
    "        A construção tem o mesmo nome da parte mais profunda do oceano e de duas espaçonaves da Nasa, agência espacial americana. Uma era o módulo de comando da missão Apollo 17, enquanto a outra era um ônibus espacial, que explodiu em pleno ar após o lançamento — Challenger.\n",
    "\n",
    "        <b>Challenger</b> Lodge já foi propriedade de <b>John Murray</b>, célebre precursor da oceanografia, cujas expedições o levaram aos lugares mais longínquos de Edimburgo, mas ainda no planeta Terra.\n",
    "\n",
    "        A embarcação em que viveu por três anos na década de 1870 é o que une a casa na costa escocesa, a parte mais profunda do oceano e as espaçonaves da Nasa.\n",
    "\n",
    "        O <b>HMS Challenger</b> era um navio da <i>Marinha Real <b>Britânica</b></i> construído na década de 1850. Ele entrou para a história não pelo histórico de combates, mas graças a uma reputação conquistada por algo muito mais minucioso.</p>\n",
    "\n",
    "    </body>\n",
    "</html>"
   ]
  },
  {
   "cell_type": "code",
   "execution_count": 66,
   "id": "a455fbaa",
   "metadata": {
    "colab": {
     "base_uri": "https://localhost:8080/",
     "height": 688
    },
    "id": "24d5482b",
    "outputId": "97841f2d-491b-4b9a-c71a-8014d2c8d416"
   },
   "outputs": [
    {
     "data": {
      "text/html": [
       "<!DOCTYPE html>\n",
       "<html>\n",
       "    <head>\n",
       "        <meta charset=\"UTF-8\">\n",
       "        <title>Este é o título da página!</title>\n",
       "    </head>\n",
       "\n",
       "    <body>\n",
       "\n",
       "        <h1>NOTÍCIAS</h1>\n",
       "\n",
       "        <h2>A missão do século 19 que deu início à oceanografia</h2>\n",
       "\n",
       "        <img src=\"https://ichef.bbci.co.uk/news/800/cpsprodpb/12746/production/_117309557_foto_01.jpg\">\n",
       "\n",
       "        <p>Ela já foi uma casa residencial, mas atualmente a imponente estrutura de pedra na Boswall Road, na costa sul de Edimburgo, na Escócia, faz parte de uma clínica de cuidados paliativos.\n",
       "\n",
       "        A construção tem o mesmo nome da parte mais profunda do oceano e de duas espaçonaves da Nasa, agência espacial americana. Uma era o módulo de comando da missão Apollo 17, enquanto a outra era um ônibus espacial, que explodiu em pleno ar após o lançamento — Challenger.\n",
       "\n",
       "        <b>Challenger</b> Lodge já foi propriedade de <b>John Murray</b>, célebre precursor da oceanografia, cujas expedições o levaram aos lugares mais longínquos de Edimburgo, mas ainda no planeta Terra.\n",
       "\n",
       "        A embarcação em que viveu por três anos na década de 1870 é o que une a casa na costa escocesa, a parte mais profunda do oceano e as espaçonaves da Nasa.\n",
       "\n",
       "        O <b>HMS Challenger</b> era um navio da <i>Marinha Real <b>Britânica</b></i> construído na década de 1850. Ele entrou para a história não pelo histórico de combates, mas graças a uma reputação conquistada por algo muito mais minucioso.</p>\n",
       "\n",
       "    </body>\n",
       "</html>\n"
      ],
      "text/plain": [
       "<IPython.core.display.HTML object>"
      ]
     },
     "execution_count": 66,
     "metadata": {},
     "output_type": "execute_result"
    }
   ],
   "source": [
    "IPython.display.HTML(filename='noticia.html')"
   ]
  },
  {
   "cell_type": "markdown",
   "id": "27a468f9",
   "metadata": {
    "id": "9a81595e"
   },
   "source": [
    "### Exercícios com noticia.html"
   ]
  },
  {
   "cell_type": "markdown",
   "id": "795f85de",
   "metadata": {
    "id": "bedc56d3"
   },
   "source": [
    "**Exercício 3)** Abra o arquivo **noticia.html** e exiba seu conteúdo:"
   ]
  },
  {
   "cell_type": "code",
   "execution_count": 67,
   "id": "e19634c2",
   "metadata": {
    "colab": {
     "base_uri": "https://localhost:8080/"
    },
    "id": "dc1e8bf4",
    "outputId": "e9ac1050-318b-439f-ba75-49c17cae6642"
   },
   "outputs": [
    {
     "name": "stdout",
     "output_type": "stream",
     "text": [
      "<!DOCTYPE html>\n",
      "<html>\n",
      "    <head>\n",
      "        <meta charset=\"UTF-8\">\n",
      "        <title>Este é o título da página!</title>\n",
      "    </head>\n",
      "\n",
      "    <body>\n",
      "\n",
      "        <h1>NOTÍCIAS</h1>\n",
      "\n",
      "        <h2>A missão do século 19 que deu início à oceanografia</h2>\n",
      "\n",
      "        <img src=\"https://ichef.bbci.co.uk/news/800/cpsprodpb/12746/production/_117309557_foto_01.jpg\">\n",
      "\n",
      "        <p>Ela já foi uma casa residencial, mas atualmente a imponente estrutura de pedra na Boswall Road, na costa sul de Edimburgo, na Escócia, faz parte de uma clínica de cuidados paliativos.\n",
      "\n",
      "        A construção tem o mesmo nome da parte mais profunda do oceano e de duas espaçonaves da Nasa, agência espacial americana. Uma era o módulo de comando da missão Apollo 17, enquanto a outra era um ônibus espacial, que explodiu em pleno ar após o lançamento — Challenger.\n",
      "\n",
      "        <b>Challenger</b> Lodge já foi propriedade de <b>John Murray</b>, célebre precursor da oceanografia, cujas expedições o levaram aos lugares mais longínquos de Edimburgo, mas ainda no planeta Terra.\n",
      "\n",
      "        A embarcação em que viveu por três anos na década de 1870 é o que une a casa na costa escocesa, a parte mais profunda do oceano e as espaçonaves da Nasa.\n",
      "\n",
      "        O <b>HMS Challenger</b> era um navio da <i>Marinha Real <b>Britânica</b></i> construído na década de 1850. Ele entrou para a história não pelo histórico de combates, mas graças a uma reputação conquistada por algo muito mais minucioso.</p>\n",
      "\n",
      "    </body>\n",
      "</html>\n",
      "\n"
     ]
    }
   ],
   "source": [
    "# Seu código AQUI!\n",
    "with open('noticia.html', 'r') as arq:\n",
    "  noticia = arq.read()\n",
    "\n",
    "print(noticia)"
   ]
  },
  {
   "cell_type": "markdown",
   "id": "5758722a",
   "metadata": {
    "id": "aa256742"
   },
   "source": [
    "**Exercício 4)** Extraia a URL da imagem exibida na notícia:"
   ]
  },
  {
   "cell_type": "code",
   "execution_count": 68,
   "id": "ae36f8af",
   "metadata": {
    "colab": {
     "base_uri": "https://localhost:8080/",
     "height": 35
    },
    "id": "c52080cd",
    "outputId": "5fd35884-ac73-4881-f0c2-9d947f1c7129"
   },
   "outputs": [
    {
     "data": {
      "application/vnd.google.colaboratory.intrinsic+json": {
       "type": "string"
      },
      "text/plain": [
       "'https://ichef.bbci.co.uk/news/800/cpsprodpb/12746/production/_117309557_foto_01.jpg'"
      ]
     },
     "execution_count": 68,
     "metadata": {},
     "output_type": "execute_result"
    }
   ],
   "source": [
    "soup = BeautifulSoup(noticia, 'html.parser')\n",
    "link = soup.find('img')\n",
    "link['src']"
   ]
  },
  {
   "cell_type": "markdown",
   "id": "a02e9524",
   "metadata": {
    "id": "2cf53732"
   },
   "source": [
    "**Exercício 5)** Procure todas as ocorrências de negrito:"
   ]
  },
  {
   "cell_type": "code",
   "execution_count": 69,
   "id": "f60f95ad",
   "metadata": {
    "colab": {
     "base_uri": "https://localhost:8080/"
    },
    "id": "58a779a1",
    "outputId": "6403b039-3fbf-40d8-fde4-7ff85c480ec9"
   },
   "outputs": [
    {
     "data": {
      "text/plain": [
       "[<b>Challenger</b>,\n",
       " <b>John Murray</b>,\n",
       " <b>HMS Challenger</b>,\n",
       " <b>Britânica</b>]"
      ]
     },
     "execution_count": 69,
     "metadata": {},
     "output_type": "execute_result"
    }
   ],
   "source": [
    "soup.find_all('b')"
   ]
  },
  {
   "cell_type": "markdown",
   "id": "f53f7554",
   "metadata": {
    "id": "b0c59710"
   },
   "source": [
    "**Exercício 6)** Procure todas as ocorrências de itálico. Dos termos em itálico, um também está em negrito. Extraia apenas a palavra em negrito desta ocorrência."
   ]
  },
  {
   "cell_type": "code",
   "execution_count": 74,
   "id": "f46a2a59",
   "metadata": {
    "colab": {
     "base_uri": "https://localhost:8080/"
    },
    "id": "281567ff",
    "outputId": "fbd75968-6290-49d7-fd98-4c809ce39c2b"
   },
   "outputs": [
    {
     "data": {
      "text/plain": [
       "<b>Britânica</b>"
      ]
     },
     "execution_count": 74,
     "metadata": {},
     "output_type": "execute_result"
    }
   ],
   "source": [
    "soup.find_all('i')[0].find('b')"
   ]
  },
  {
   "cell_type": "markdown",
   "id": "b1c423f6",
   "metadata": {
    "id": "spread-winning"
   },
   "source": [
    "# Referências\n",
    "\n",
    "O conteúdo para o exercício do arquivo noticia.html foi extraído de https://www.bbc.com/portuguese/vert-fut-56209925"
   ]
  }
 ],
 "metadata": {
  "colab": {
   "provenance": []
  },
  "kernelspec": {
   "display_name": "Python 3 (ipykernel)",
   "language": "python",
   "name": "python3"
  },
  "language_info": {
   "codemirror_mode": {
    "name": "ipython",
    "version": 3
   },
   "file_extension": ".py",
   "mimetype": "text/x-python",
   "name": "python",
   "nbconvert_exporter": "python",
   "pygments_lexer": "ipython3",
   "version": "3.8.3"
  }
 },
 "nbformat": 4,
 "nbformat_minor": 5
}
