{
 "cells": [
  {
   "cell_type": "markdown",
   "id": "25bdd3dc",
   "metadata": {
    "id": "comprehensive-turkey"
   },
   "source": [
    "# Análise de texto de fontes desestruturadas e Web\n",
    "\n",
    "## Aula 04\n",
    "\n",
    "Neste aula iremos aprender como obter e analisar dados da Web (*World Wide Web*) utilizando bibliotecas Python.\n",
    "\n",
    "<img src=\"https://atd-insper.s3.us-east-2.amazonaws.com/aula04/img/requests-sidebar.png\">\n",
    "\n",
    "A biblioteca utilizada será a **requests**, cujo lema é *HTTP for humans!* Nosso objetivo será entender como podemos requisitar estes recursos disponíveis na Web.\n",
    "\n",
    "Para conhecer mais sobre ela, acesse https://requests.readthedocs.io/"
   ]
  },
  {
   "cell_type": "markdown",
   "id": "a9bedefa",
   "metadata": {
    "id": "aerial-arlington"
   },
   "source": [
    "## Instalando a biblioteca *requests*\n",
    "\n",
    "Primeiro, vamos instalar a principal biblioteca da aula!"
   ]
  },
  {
   "cell_type": "code",
   "execution_count": 1,
   "id": "ef66e1a4",
   "metadata": {
    "colab": {
     "base_uri": "https://localhost:8080/"
    },
    "id": "lined-polymer",
    "outputId": "0ebd41b5-23ca-4c0a-8e2b-7dd9e83050b4"
   },
   "outputs": [
    {
     "name": "stdout",
     "output_type": "stream",
     "text": [
      "Looking in indexes: https://pypi.org/simple, https://us-python.pkg.dev/colab-wheels/public/simple/\n",
      "Requirement already satisfied: requests in /usr/local/lib/python3.8/dist-packages (2.25.1)\n",
      "Requirement already satisfied: idna<3,>=2.5 in /usr/local/lib/python3.8/dist-packages (from requests) (2.10)\n",
      "Requirement already satisfied: certifi>=2017.4.17 in /usr/local/lib/python3.8/dist-packages (from requests) (2022.12.7)\n",
      "Requirement already satisfied: urllib3<1.27,>=1.21.1 in /usr/local/lib/python3.8/dist-packages (from requests) (1.26.14)\n",
      "Requirement already satisfied: chardet<5,>=3.0.2 in /usr/local/lib/python3.8/dist-packages (from requests) (4.0.0)\n"
     ]
    }
   ],
   "source": [
    "!pip install requests"
   ]
  },
  {
   "cell_type": "markdown",
   "id": "6591a295",
   "metadata": {
    "id": "defensive-capacity"
   },
   "source": [
    "Caso a bibliteca instalada seja de uma versão anterior, podemos atualizar com:"
   ]
  },
  {
   "cell_type": "code",
   "execution_count": 2,
   "id": "9b3b338d",
   "metadata": {
    "colab": {
     "base_uri": "https://localhost:8080/"
    },
    "id": "improved-focus",
    "outputId": "5184bacd-6d05-4be4-fd62-90af582f06fe"
   },
   "outputs": [
    {
     "name": "stdout",
     "output_type": "stream",
     "text": [
      "Looking in indexes: https://pypi.org/simple, https://us-python.pkg.dev/colab-wheels/public/simple/\n",
      "Requirement already satisfied: pip in /usr/local/lib/python3.8/dist-packages (22.0.4)\n",
      "Collecting pip\n",
      "  Downloading pip-23.0.1-py3-none-any.whl (2.1 MB)\n",
      "\u001b[2K     \u001b[90m━━━━━━━━━━━━━━━━━━━━━━━━━━━━━━━━━━━━━━━━\u001b[0m \u001b[32m2.1/2.1 MB\u001b[0m \u001b[31m17.8 MB/s\u001b[0m eta \u001b[36m0:00:00\u001b[0m\n",
      "\u001b[?25hInstalling collected packages: pip\n",
      "  Attempting uninstall: pip\n",
      "    Found existing installation: pip 22.0.4\n",
      "    Uninstalling pip-22.0.4:\n",
      "      Successfully uninstalled pip-22.0.4\n",
      "Successfully installed pip-23.0.1\n",
      "Looking in indexes: https://pypi.org/simple, https://us-python.pkg.dev/colab-wheels/public/simple/\n",
      "Requirement already satisfied: requests in /usr/local/lib/python3.8/dist-packages (2.25.1)\n",
      "Collecting requests\n",
      "  Downloading requests-2.28.2-py3-none-any.whl (62 kB)\n",
      "\u001b[2K     \u001b[90m━━━━━━━━━━━━━━━━━━━━━━━━━━━━━━━━━━━━━━━━\u001b[0m \u001b[32m62.8/62.8 kB\u001b[0m \u001b[31m1.8 MB/s\u001b[0m eta \u001b[36m0:00:00\u001b[0m\n",
      "\u001b[?25hRequirement already satisfied: idna<4,>=2.5 in /usr/local/lib/python3.8/dist-packages (from requests) (2.10)\n",
      "Requirement already satisfied: certifi>=2017.4.17 in /usr/local/lib/python3.8/dist-packages (from requests) (2022.12.7)\n",
      "Requirement already satisfied: urllib3<1.27,>=1.21.1 in /usr/local/lib/python3.8/dist-packages (from requests) (1.26.14)\n",
      "Requirement already satisfied: charset-normalizer<4,>=2 in /usr/local/lib/python3.8/dist-packages (from requests) (3.0.1)\n",
      "Installing collected packages: requests\n",
      "  Attempting uninstall: requests\n",
      "    Found existing installation: requests 2.25.1\n",
      "    Uninstalling requests-2.25.1:\n",
      "      Successfully uninstalled requests-2.25.1\n",
      "Successfully installed requests-2.28.2\n",
      "\u001b[33mWARNING: Running pip as the 'root' user can result in broken permissions and conflicting behaviour with the system package manager. It is recommended to use a virtual environment instead: https://pip.pypa.io/warnings/venv\u001b[0m\u001b[33m\n",
      "\u001b[0m"
     ]
    }
   ],
   "source": [
    "!pip install -U pip\n",
    "!pip install -U requests"
   ]
  },
  {
   "cell_type": "markdown",
   "id": "6dde1e12",
   "metadata": {
    "id": "weird-patrol"
   },
   "source": [
    "## Importando as bibliotecas necessárias\n",
    "\n",
    "Agora, vamos importar as bibliotecas necessárias:"
   ]
  },
  {
   "cell_type": "code",
   "execution_count": 3,
   "id": "1fefcd23",
   "metadata": {
    "id": "unlike-france"
   },
   "outputs": [],
   "source": [
    "# para trabalhar com diretórios / sistema operacional\n",
    "import os\n",
    "\n",
    "# para nos comunicarmos com a Web\n",
    "import requests\n",
    "\n",
    "# para pegar o executável do Python\n",
    "import sys"
   ]
  },
  {
   "cell_type": "markdown",
   "id": "b50de77b",
   "metadata": {
    "id": "acquired-regard"
   },
   "source": [
    "Caso obtenha algum erro, utilize o **!pip install** para instalar a biblioteca ausente!\n",
    "\n",
    "Vamos conferir com qual versão da biblioteca **requests** estamos trabalhando?"
   ]
  },
  {
   "cell_type": "code",
   "execution_count": 4,
   "id": "438b7729",
   "metadata": {
    "colab": {
     "base_uri": "https://localhost:8080/"
    },
    "id": "removable-calvin",
    "outputId": "5b18a337-ad74-4df6-933b-be7b72c72dac"
   },
   "outputs": [
    {
     "name": "stdout",
     "output_type": "stream",
     "text": [
      "2.28.2\n"
     ]
    }
   ],
   "source": [
    "print(requests.__version__)"
   ]
  },
  {
   "cell_type": "markdown",
   "id": "15382e14",
   "metadata": {
    "id": "fewer-voluntary"
   },
   "source": [
    "Você também pode conferir de onde está executando o Python e qual a versão"
   ]
  },
  {
   "cell_type": "code",
   "execution_count": 5,
   "id": "b55b0f09",
   "metadata": {
    "colab": {
     "base_uri": "https://localhost:8080/"
    },
    "id": "aggregate-secondary",
    "outputId": "4b73b11f-149c-4251-a3ab-627a8fb805ac"
   },
   "outputs": [
    {
     "name": "stdout",
     "output_type": "stream",
     "text": [
      "Executável:\n",
      "/usr/bin/python3\n",
      "\n",
      "Versão do Python:\n",
      "3.8.10 (default, Nov 14 2022, 12:59:47) \n",
      "[GCC 9.4.0]\n"
     ]
    }
   ],
   "source": [
    "print('Executável:')\n",
    "print(sys.executable)\n",
    "\n",
    "print('\\nVersão do Python:')\n",
    "print(sys.version)"
   ]
  },
  {
   "cell_type": "markdown",
   "id": "131c6f3c",
   "metadata": {
    "id": "multiple-premium"
   },
   "source": [
    "Vamos conferir em qual diretório iremos trabalhar (é o diretório do notebook)?"
   ]
  },
  {
   "cell_type": "code",
   "execution_count": 6,
   "id": "c94494cb",
   "metadata": {
    "colab": {
     "base_uri": "https://localhost:8080/"
    },
    "id": "revolutionary-quantity",
    "outputId": "6482cc3e-937c-45fb-9014-40ceefdcc095"
   },
   "outputs": [
    {
     "name": "stdout",
     "output_type": "stream",
     "text": [
      "O seu notebook está na pasta:\n",
      "/content\n"
     ]
    }
   ],
   "source": [
    "print('O seu notebook está na pasta:')\n",
    "print(os.getcwd())"
   ]
  },
  {
   "cell_type": "markdown",
   "id": "7e1ebd68",
   "metadata": {
    "id": "detected-vulnerability"
   },
   "source": [
    "## Validação de CEP!\n",
    "\n",
    "É comum que exista a necessidade de comunicação entre aplicações. Isto é feito pela disponibilização de uma API (*Application Programming Interface - Interface de Programação de Aplicativos*).\n",
    "\n",
    "Uma API atua como uma camada que provê **comunicação**, ou seja, espeficifa uma interface que outras aplicações devem utilizar caso queiram se comunicar, permitindo que diferentes sistemas conversem entre si sem precisar entender exatamente o que cada um faz.\n",
    "\n",
    "Apesar do termos ser comumente utilizado em um contexto Web, nos computador as aplicações precisam conhecer a API do sistema operacional para solicitar recursos, e nós programadores precisamos conhecer a API do pandas, sklearn, matplotlib, etc. caso queiramos utilizar recursos destes pacotes no Python!\n",
    "\n",
    "Como um primeiro exemplo, iremos utilizar a API do viacep para validar **CEP**s!  Abra o site https://viacep.com.br e veja como este webservice (https://pt.wikipedia.org/wiki/Web_service) é disponibilizado."
   ]
  },
  {
   "cell_type": "code",
   "execution_count": 13,
   "id": "f6118e12",
   "metadata": {
    "colab": {
     "base_uri": "https://localhost:8080/"
    },
    "id": "trying-incentive",
    "outputId": "69df132a-ac22-4071-cf9a-5a4abb285916"
   },
   "outputs": [
    {
     "data": {
      "text/plain": [
       "<Response [200]>"
      ]
     },
     "execution_count": 13,
     "metadata": {},
     "output_type": "execute_result"
    }
   ],
   "source": [
    "cep = '04546-042'\n",
    "\n",
    "# Complete a URL\n",
    "url_cep = f'https://viacep.com.br/ws/{cep}/piped/'\n",
    "\n",
    "req = requests.get(url_cep)\n",
    "req"
   ]
  },
  {
   "cell_type": "markdown",
   "id": "9c47e5c6",
   "metadata": {
    "id": "physical-matrix"
   },
   "source": [
    "Perceba, pela **rota** descrita na **URL**, que escolhemos o formato `piped`. Então, esperamos que as informações do CEP consultado volte como uma string separada por pipes `|`.\n",
    "\n",
    "\n",
    "Com a requisição feita, vamos conferir o código de resposta:"
   ]
  },
  {
   "cell_type": "code",
   "execution_count": 14,
   "id": "ab8a2933",
   "metadata": {
    "colab": {
     "base_uri": "https://localhost:8080/",
     "height": 52
    },
    "id": "institutional-infrastructure",
    "outputId": "aab8e0f6-7325-4e9e-a4cf-4228906a2a48",
    "scrolled": false
   },
   "outputs": [
    {
     "data": {
      "application/vnd.google.colaboratory.intrinsic+json": {
       "type": "string"
      },
      "text/plain": [
       "'cep:04546-042|logradouro:Rua Quatá|complemento:de 251/252 a 449/450|bairro:Vila Olímpia|localidade:São Paulo|uf:SP|ibge:3550308|gia:1004|ddd:11|siafi:7107'"
      ]
     },
     "execution_count": 14,
     "metadata": {},
     "output_type": "execute_result"
    }
   ],
   "source": [
    "req.text"
   ]
  },
  {
   "cell_type": "markdown",
   "id": "feeb619f",
   "metadata": {
    "id": "3a4bfe2e"
   },
   "source": [
    "O tipo de conteúdo retornado:"
   ]
  },
  {
   "cell_type": "code",
   "execution_count": 15,
   "id": "012303cf",
   "metadata": {
    "colab": {
     "base_uri": "https://localhost:8080/",
     "height": 35
    },
    "id": "e356616f",
    "outputId": "894e549e-7af5-443e-94e4-875b0095374b"
   },
   "outputs": [
    {
     "data": {
      "application/vnd.google.colaboratory.intrinsic+json": {
       "type": "string"
      },
      "text/plain": [
       "'text/plain; charset=utf-8'"
      ]
     },
     "execution_count": 15,
     "metadata": {},
     "output_type": "execute_result"
    }
   ],
   "source": [
    "req.headers['content-type']"
   ]
  },
  {
   "cell_type": "markdown",
   "id": "8f7a979a",
   "metadata": {
    "id": "0b917e6d"
   },
   "source": [
    "Perceba que obtivemos `text/plain`, o que significa que a resposta veio como uma string, em codificação `utf-8` (exploraremos depois a codificação)."
   ]
  },
  {
   "cell_type": "code",
   "execution_count": 16,
   "id": "89236a83",
   "metadata": {
    "colab": {
     "base_uri": "https://localhost:8080/"
    },
    "id": "attended-curve",
    "outputId": "5a4cf7b9-4ec8-4dcf-bc72-ba937b30eb90",
    "scrolled": true
   },
   "outputs": [
    {
     "name": "stdout",
     "output_type": "stream",
     "text": [
      "Texto de resposta:\n",
      "\n",
      "cep:04546-042|logradouro:Rua Quatá|complemento:de 251/252 a 449/450|bairro:Vila Olímpia|localidade:São Paulo|uf:SP|ibge:3550308|gia:1004|ddd:11|siafi:7107\n"
     ]
    }
   ],
   "source": [
    "print('Texto de resposta:\\n')\n",
    "print(req.text)"
   ]
  },
  {
   "cell_type": "markdown",
   "id": "05cf3263",
   "metadata": {
    "id": "patient-vermont"
   },
   "source": [
    "E se fizermos a requisição de um CEP inválido?!"
   ]
  },
  {
   "cell_type": "code",
   "execution_count": 17,
   "id": "71294f9d",
   "metadata": {
    "colab": {
     "base_uri": "https://localhost:8080/"
    },
    "id": "positive-holly",
    "outputId": "4191e7b0-95d5-4193-b434-606de3098ac1"
   },
   "outputs": [
    {
     "data": {
      "text/plain": [
       "<Response [400]>"
      ]
     },
     "execution_count": 17,
     "metadata": {},
     "output_type": "execute_result"
    }
   ],
   "source": [
    "cep = '12345'\n",
    "\n",
    "# Complete a URL\n",
    "url_cep = f'https://viacep.com.br/ws/{cep}/piped/'\n",
    "\n",
    "req = requests.get(url_cep)\n",
    "req"
   ]
  },
  {
   "cell_type": "markdown",
   "id": "27f2a9c6",
   "metadata": {
    "id": "macro-coach"
   },
   "source": [
    "Conferindo o código de resposta:"
   ]
  },
  {
   "cell_type": "code",
   "execution_count": 18,
   "id": "4658e0bc",
   "metadata": {
    "colab": {
     "base_uri": "https://localhost:8080/"
    },
    "id": "guilty-responsibility",
    "outputId": "4f0e177c-ba33-4045-cc02-edae37f4cf53",
    "scrolled": true
   },
   "outputs": [
    {
     "name": "stdout",
     "output_type": "stream",
     "text": [
      "Código de status da resposta: 400\n"
     ]
    }
   ],
   "source": [
    "print('Código de status da resposta: {}'.format(req.status_code))"
   ]
  },
  {
   "cell_type": "markdown",
   "id": "36daed8f",
   "metadata": {
    "id": "0d276a71"
   },
   "source": [
    "Iremos estudar nos próximos tópicos o significado do status de resposta. Por enquanto, você tem algum palpite sobre em quais situações ele pode ser útil?!"
   ]
  },
  {
   "cell_type": "raw",
   "id": "891cadeb",
   "metadata": {
    "id": "34200524"
   },
   "source": [
    "Útil para identificar possíveis erros."
   ]
  },
  {
   "cell_type": "markdown",
   "id": "aa5ca5e4",
   "metadata": {
    "id": "a3b5e2b7"
   },
   "source": [
    "## Códigos de status de respostas HTTP\n",
    "\n",
    "\n",
    "Quando solicitamos um recurso, quais são as respostas possíveis? É importante perceber que nem sempre o recurso solicitado estará disponível.\n",
    "\n",
    "Vamos fazer uma requisição GET ao Google."
   ]
  },
  {
   "cell_type": "code",
   "execution_count": 19,
   "id": "49d18e27",
   "metadata": {
    "colab": {
     "base_uri": "https://localhost:8080/"
    },
    "id": "05e352f9",
    "outputId": "ccc5cdf1-ce4d-4db1-a533-778a9dc0f2d7"
   },
   "outputs": [
    {
     "data": {
      "text/plain": [
       "<Response [200]>"
      ]
     },
     "execution_count": 19,
     "metadata": {},
     "output_type": "execute_result"
    }
   ],
   "source": [
    "resposta = requests.get('http://www.google.com/')\n",
    "resposta"
   ]
  },
  {
   "cell_type": "markdown",
   "id": "0ccfd691",
   "metadata": {
    "id": "32479619"
   },
   "source": [
    "Vamos conferir o código de resposta:"
   ]
  },
  {
   "cell_type": "code",
   "execution_count": 20,
   "id": "018f577b",
   "metadata": {
    "colab": {
     "base_uri": "https://localhost:8080/"
    },
    "id": "cc63af34",
    "outputId": "d5acad25-9400-480d-f621-0bee642a3e20"
   },
   "outputs": [
    {
     "name": "stdout",
     "output_type": "stream",
     "text": [
      "Código de status da resposta: 200\n"
     ]
    }
   ],
   "source": [
    "print('Código de status da resposta: {}'.format(resposta.status_code))"
   ]
  },
  {
   "cell_type": "code",
   "execution_count": 21,
   "id": "d638abb9",
   "metadata": {
    "colab": {
     "base_uri": "https://localhost:8080/"
    },
    "id": "b8619ff2",
    "outputId": "979ffb29-139d-40de-f140-6d8a2b7f7752"
   },
   "outputs": [
    {
     "data": {
      "text/plain": [
       "True"
      ]
     },
     "execution_count": 21,
     "metadata": {},
     "output_type": "execute_result"
    }
   ],
   "source": [
    "resposta.ok"
   ]
  },
  {
   "cell_type": "markdown",
   "id": "21b190b6",
   "metadata": {
    "id": "ab09ad32"
   },
   "source": [
    "Agora, vamos realizar uma consulta utilizando uma URL inexistente:"
   ]
  },
  {
   "cell_type": "code",
   "execution_count": 22,
   "id": "93add6a6",
   "metadata": {
    "colab": {
     "base_uri": "https://localhost:8080/"
    },
    "id": "6ed0d8ce",
    "outputId": "9ef61518-7a85-4bea-83d7-b7199faaeacc"
   },
   "outputs": [
    {
     "data": {
      "text/plain": [
       "<Response [404]>"
      ]
     },
     "execution_count": 22,
     "metadata": {},
     "output_type": "execute_result"
    }
   ],
   "source": [
    "resposta = requests.get('http://www.google.com/abacadabra')\n",
    "resposta"
   ]
  },
  {
   "cell_type": "code",
   "execution_count": 23,
   "id": "ede8a628",
   "metadata": {
    "colab": {
     "base_uri": "https://localhost:8080/"
    },
    "id": "b768bc09",
    "outputId": "1b90077b-d4e9-4b0e-90e4-24db04e87c2f"
   },
   "outputs": [
    {
     "name": "stdout",
     "output_type": "stream",
     "text": [
      "Código de status da resposta: 404\n"
     ]
    }
   ],
   "source": [
    "print('Código de status da resposta: {}'.format(resposta.status_code))"
   ]
  },
  {
   "cell_type": "markdown",
   "id": "10e13eed",
   "metadata": {
    "id": "c4150c55"
   },
   "source": [
    "Perceba que temos um novo código `404` e que a requisição não está ok!"
   ]
  },
  {
   "cell_type": "code",
   "execution_count": 24,
   "id": "3c7630d6",
   "metadata": {
    "colab": {
     "base_uri": "https://localhost:8080/"
    },
    "id": "643640a0",
    "outputId": "1d085c07-4e58-426f-fea6-521c3ffe9025"
   },
   "outputs": [
    {
     "data": {
      "text/plain": [
       "False"
      ]
     },
     "execution_count": 24,
     "metadata": {},
     "output_type": "execute_result"
    }
   ],
   "source": [
    "resposta.ok"
   ]
  },
  {
   "cell_type": "markdown",
   "id": "34f66707",
   "metadata": {
    "id": "548ee1be"
   },
   "source": [
    "E por último esta consulta retorna:"
   ]
  },
  {
   "cell_type": "code",
   "execution_count": 25,
   "id": "babdc734",
   "metadata": {
    "colab": {
     "base_uri": "https://localhost:8080/"
    },
    "id": "f3101fdf",
    "outputId": "b8415aa7-a85f-411b-fa28-d8357632d622"
   },
   "outputs": [
    {
     "data": {
      "text/plain": [
       "<Response [403]>"
      ]
     },
     "execution_count": 25,
     "metadata": {},
     "output_type": "execute_result"
    }
   ],
   "source": [
    "url = 'https://atd-insper.s3.us-east-2.amazonaws.com/aula04/fatura.pdf'\n",
    "\n",
    "resposta = requests.get(url)\n",
    "resposta"
   ]
  },
  {
   "cell_type": "markdown",
   "id": "ced9d251",
   "metadata": {
    "id": "f674335e"
   },
   "source": [
    "Acesse https://developer.mozilla.org/pt-BR/docs/Web/HTTP/Status ou https://pt.wikipedia.org/wiki/Lista_de_códigos_de_estado_HTTP para ver mais informações sobre os códigos de status da resposta. Eles podem indicar desde um sucesso, recurso inexistente até uma ausência de permissão para acesso."
   ]
  },
  {
   "cell_type": "markdown",
   "id": "67e415ce",
   "metadata": {
    "id": "forbidden-modern"
   },
   "source": [
    "**Exercício 1** Crie um bloco de código (preferencialmente uma função) que consulte um CEP. Caso o CEP seja válido, imprima o endereço. Caso o CEP seja inválido, imprima a mensagem \"*CEP inválido!*\""
   ]
  },
  {
   "cell_type": "code",
   "execution_count": 65,
   "id": "93715b50",
   "metadata": {
    "id": "understanding-alcohol"
   },
   "outputs": [],
   "source": [
    "def consulta_cep(cep):\n",
    "    # Seu codigo aqui!\n",
    "    url_cep = f'https://viacep.com.br/ws/{cep}/piped/'\n",
    "    requisicao = requests.get(url_cep)\n",
    "    if requisicao.ok:\n",
    "      if requisicao.text[5:]=='true':\n",
    "        print('CEP não existe')\n",
    "      else: \n",
    "        print(url_cep)\n",
    "    else:\n",
    "      print('CEP inválido')\n",
    "    return requisicao"
   ]
  },
  {
   "cell_type": "code",
   "execution_count": 64,
   "id": "ddfe67b4",
   "metadata": {
    "colab": {
     "base_uri": "https://localhost:8080/",
     "height": 52
    },
    "id": "sunset-temperature",
    "outputId": "ceb9cf89-b30d-446c-aa4e-0d67395edd6f"
   },
   "outputs": [
    {
     "name": "stdout",
     "output_type": "stream",
     "text": [
      "CEP inválido\n"
     ]
    },
    {
     "data": {
      "application/vnd.google.colaboratory.intrinsic+json": {
       "type": "string"
      },
      "text/plain": [
       "'<Response [400]>'"
      ]
     },
     "execution_count": 64,
     "metadata": {},
     "output_type": "execute_result"
    }
   ],
   "source": [
    "consulta_cep('123')"
   ]
  },
  {
   "cell_type": "code",
   "execution_count": 42,
   "id": "ac7e4fc0",
   "metadata": {
    "colab": {
     "base_uri": "https://localhost:8080/"
    },
    "id": "enormous-delaware",
    "outputId": "31f36cf2-022b-46de-9973-b1fe7ae8d63e"
   },
   "outputs": [
    {
     "name": "stdout",
     "output_type": "stream",
     "text": [
      "https://viacep.com.br/ws/01310100/piped/\n"
     ]
    },
    {
     "data": {
      "text/plain": [
       "<Response [200]>"
      ]
     },
     "execution_count": 42,
     "metadata": {},
     "output_type": "execute_result"
    }
   ],
   "source": [
    "consulta_cep('01310100')"
   ]
  },
  {
   "cell_type": "markdown",
   "id": "c8047345",
   "metadata": {
    "id": "greek-edition"
   },
   "source": [
    "**Exercício 2** O que acontece caso pesquise algum CEP no formato válido, mas que seja um CEP inexistente? Altere sua função para considerar este caso"
   ]
  },
  {
   "cell_type": "code",
   "execution_count": 43,
   "id": "e2f4df35",
   "metadata": {
    "colab": {
     "base_uri": "https://localhost:8080/"
    },
    "id": "awful-owner",
    "outputId": "8ea6969a-81fe-47a9-a480-df4c6ae1e0f6",
    "scrolled": true
   },
   "outputs": [
    {
     "name": "stdout",
     "output_type": "stream",
     "text": [
      "CEP não existe\n"
     ]
    },
    {
     "data": {
      "text/plain": [
       "<Response [200]>"
      ]
     },
     "execution_count": 43,
     "metadata": {},
     "output_type": "execute_result"
    }
   ],
   "source": [
    "consulta_cep('77777777')"
   ]
  },
  {
   "cell_type": "code",
   "execution_count": null,
   "id": "72bfaf27",
   "metadata": {
    "id": "neural-object"
   },
   "outputs": [],
   "source": [
    "consulta_cep('1234')"
   ]
  },
  {
   "cell_type": "code",
   "execution_count": 44,
   "id": "d1640e56",
   "metadata": {
    "colab": {
     "base_uri": "https://localhost:8080/"
    },
    "id": "linear-possession",
    "outputId": "8f9c1281-142a-430c-be6c-7cc33ffacaba"
   },
   "outputs": [
    {
     "name": "stdout",
     "output_type": "stream",
     "text": [
      "https://viacep.com.br/ws/05436100/piped/\n"
     ]
    },
    {
     "data": {
      "text/plain": [
       "<Response [200]>"
      ]
     },
     "execution_count": 44,
     "metadata": {},
     "output_type": "execute_result"
    }
   ],
   "source": [
    "consulta_cep('05436100')"
   ]
  },
  {
   "cell_type": "markdown",
   "id": "4d8fab4f",
   "metadata": {
    "id": "difficult-minnesota"
   },
   "source": [
    "**Exercício 3**\n",
    "\n",
    "- **a)**) Separe a string do endereço do exercício anterior em substrings, divindindo pelo *pipe* (barra vertical $\\rightarrow$ |). Armazene o resultado em uma lista.\n",
    "    \n",
    "- **b)** Tente também separar o que é título (ex: `logradouro`) do que é conteúdo (ex:`Rua Gonçalo Afonso`). Armazene o resultado em um dicionário."
   ]
  },
  {
   "cell_type": "code",
   "execution_count": 47,
   "id": "3e9ea7b0",
   "metadata": {
    "colab": {
     "base_uri": "https://localhost:8080/"
    },
    "id": "3c7b730c",
    "outputId": "26bdf368-8e1b-4ad0-ce10-c8a32d343e1a"
   },
   "outputs": [
    {
     "name": "stdout",
     "output_type": "stream",
     "text": [
      "https://viacep.com.br/ws/05436100/piped/\n"
     ]
    },
    {
     "data": {
      "text/plain": [
       "<Response [200]>"
      ]
     },
     "execution_count": 47,
     "metadata": {},
     "output_type": "execute_result"
    }
   ],
   "source": [
    "x = consulta_cep('05436100')\n",
    "x"
   ]
  },
  {
   "cell_type": "code",
   "execution_count": 53,
   "id": "bae37af2",
   "metadata": {
    "id": "pdDexW4OQ-tW"
   },
   "outputs": [],
   "source": [
    "lista = x.text.split('|')\n",
    "dicio = {}\n",
    "for palavra in lista:\n",
    "  for i in range(len(palavra)):\n",
    "    if palavra[i]==\":\":\n",
    "      dicio[palavra[:i]] = palavra[i+1:]"
   ]
  },
  {
   "cell_type": "code",
   "execution_count": 54,
   "id": "b58e04fe",
   "metadata": {
    "colab": {
     "base_uri": "https://localhost:8080/"
    },
    "id": "zGiItgudSZtY",
    "outputId": "e052faec-3bf3-4e2d-aaf4-918720540a89"
   },
   "outputs": [
    {
     "data": {
      "text/plain": [
       "{'cep': '05436-100',\n",
       " 'logradouro': 'Rua Gonçalo Afonso',\n",
       " 'complemento': '',\n",
       " 'bairro': 'Jardim das Bandeiras',\n",
       " 'localidade': 'São Paulo',\n",
       " 'uf': 'SP',\n",
       " 'ibge': '3550308',\n",
       " 'gia': '1004',\n",
       " 'ddd': '11',\n",
       " 'siafi': '7107'}"
      ]
     },
     "execution_count": 54,
     "metadata": {},
     "output_type": "execute_result"
    }
   ],
   "source": [
    "dicio"
   ]
  },
  {
   "cell_type": "markdown",
   "id": "e3618647",
   "metadata": {
    "id": "95482dbb"
   },
   "source": [
    "No exercício 3 o texto de retorno foi dividido utilizando o *pipe* (barra vertical $\\rightarrow$ |) como referência. Entretanto, uma forma melhor seria utilizar a interface **JSON** do viacep!\n",
    "\n",
    "Note que será alterada o final da URL:"
   ]
  },
  {
   "cell_type": "code",
   "execution_count": 55,
   "id": "9e90276e",
   "metadata": {
    "colab": {
     "base_uri": "https://localhost:8080/",
     "height": 52
    },
    "id": "bf10a2e5",
    "outputId": "617b4fdb-35d1-40f9-d74f-f91f98047943"
   },
   "outputs": [
    {
     "data": {
      "application/vnd.google.colaboratory.intrinsic+json": {
       "type": "string"
      },
      "text/plain": [
       "'{\\n  \"cep\": \"05436-100\",\\n  \"logradouro\": \"Rua Gonçalo Afonso\",\\n  \"complemento\": \"\",\\n  \"bairro\": \"Jardim das Bandeiras\",\\n  \"localidade\": \"São Paulo\",\\n  \"uf\": \"SP\",\\n  \"ibge\": \"3550308\",\\n  \"gia\": \"1004\",\\n  \"ddd\": \"11\",\\n  \"siafi\": \"7107\"\\n}'"
      ]
     },
     "execution_count": 55,
     "metadata": {},
     "output_type": "execute_result"
    }
   ],
   "source": [
    "cep = '05436100'\n",
    "url = 'https://viacep.com.br/ws/{}/json/'.format(cep)\n",
    "\n",
    "req = requests.get(url=url)\n",
    "\n",
    "endereco = req.text\n",
    "\n",
    "endereco"
   ]
  },
  {
   "cell_type": "code",
   "execution_count": 56,
   "id": "195e8fd2",
   "metadata": {
    "colab": {
     "base_uri": "https://localhost:8080/"
    },
    "id": "4b15c8b5",
    "outputId": "99352781-e20b-40f9-e8ac-164eb8ae70cf"
   },
   "outputs": [
    {
     "name": "stdout",
     "output_type": "stream",
     "text": [
      "{\n",
      "  \"cep\": \"05436-100\",\n",
      "  \"logradouro\": \"Rua Gonçalo Afonso\",\n",
      "  \"complemento\": \"\",\n",
      "  \"bairro\": \"Jardim das Bandeiras\",\n",
      "  \"localidade\": \"São Paulo\",\n",
      "  \"uf\": \"SP\",\n",
      "  \"ibge\": \"3550308\",\n",
      "  \"gia\": \"1004\",\n",
      "  \"ddd\": \"11\",\n",
      "  \"siafi\": \"7107\"\n",
      "}\n"
     ]
    }
   ],
   "source": [
    "print(endereco)"
   ]
  },
  {
   "cell_type": "markdown",
   "id": "92df7516",
   "metadata": {
    "id": "54a4f4bb"
   },
   "source": [
    "Vamos utilizar a biblioteca `json` para representar o endereço de forma estruturada:"
   ]
  },
  {
   "cell_type": "code",
   "execution_count": 61,
   "id": "e160f3ca",
   "metadata": {
    "colab": {
     "base_uri": "https://localhost:8080/"
    },
    "id": "6b04b4cc",
    "outputId": "34a1d308-b676-4303-c241-f58aec543816"
   },
   "outputs": [
    {
     "data": {
      "text/plain": [
       "{'cep': '05436-100',\n",
       " 'logradouro': 'Rua Gonçalo Afonso',\n",
       " 'complemento': '',\n",
       " 'bairro': 'Jardim das Bandeiras',\n",
       " 'localidade': 'São Paulo',\n",
       " 'uf': 'SP',\n",
       " 'ibge': '3550308',\n",
       " 'gia': '1004',\n",
       " 'ddd': '11',\n",
       " 'siafi': '7107'}"
      ]
     },
     "execution_count": 61,
     "metadata": {},
     "output_type": "execute_result"
    }
   ],
   "source": [
    "import json\n",
    "\n",
    "dicionario_endereco = json.loads(endereco)\n",
    "dicionario_endereco"
   ]
  },
  {
   "cell_type": "markdown",
   "id": "3779eaa0",
   "metadata": {
    "id": "ece3badd"
   },
   "source": [
    "Podemos então utilizar o `dicionario_endereco` para acessar informações dos dados, utilizando **chave** para obter o **valor** armazenado. Veja com a chave **cep**:"
   ]
  },
  {
   "cell_type": "code",
   "execution_count": 62,
   "id": "629e87c7",
   "metadata": {
    "colab": {
     "base_uri": "https://localhost:8080/",
     "height": 35
    },
    "id": "d29263bd",
    "outputId": "80d17faa-6fa5-4761-e57b-aa4425c0466f"
   },
   "outputs": [
    {
     "data": {
      "application/vnd.google.colaboratory.intrinsic+json": {
       "type": "string"
      },
      "text/plain": [
       "'05436-100'"
      ]
     },
     "execution_count": 62,
     "metadata": {},
     "output_type": "execute_result"
    }
   ],
   "source": [
    "dicionario_endereco['cep']"
   ]
  },
  {
   "cell_type": "markdown",
   "id": "35a51c42",
   "metadata": {
    "id": "fancy-bowling"
   },
   "source": [
    "**Exercício 4** Qual o código de resposta que identifica que houve **sucesso** na requisição GET?"
   ]
  },
  {
   "cell_type": "markdown",
   "id": "dc8e8b44",
   "metadata": {
    "id": "waiting-movement"
   },
   "source": [
    "R:200"
   ]
  },
  {
   "cell_type": "markdown",
   "id": "c772a40a",
   "metadata": {
    "id": "geographic-professional"
   },
   "source": [
    "**Exercício 5** Qual a diferença entre os códigos de erro 401 e 403?"
   ]
  },
  {
   "cell_type": "markdown",
   "id": "90184b03",
   "metadata": {
    "id": "inside-overall"
   },
   "source": [
    "R:No entanto, enquanto o erro 403 se dá quando o servidor se recusa a executar algo que foi solicitado, o erro HTTP 401 acontece quando o acesso precisa de autenticação, e esta, em um primeiro momento, não foi fornecida ou foi negada."
   ]
  },
  {
   "cell_type": "markdown",
   "id": "f30b7030",
   "metadata": {
    "id": "selected-google"
   },
   "source": [
    "**Exercício 6** Crie um bloco de código que acessa uma URL, informa se houve sucesso ou trata os erros 404, 403 e 401, fornecendo mensagens adequadas."
   ]
  },
  {
   "cell_type": "code",
   "execution_count": 72,
   "id": "1f57da10",
   "metadata": {
    "id": "generic-devil"
   },
   "outputs": [],
   "source": [
    "def consulta_url(url):\n",
    "    # Seu codigo aqui!\n",
    "    requisicao = str(requests.get(url))\n",
    "    if requisicao[11:14] == '401':\n",
    "      print(\"Erro 401\")\n",
    "    if requisicao[11:14] == '403':\n",
    "      print(\"Erro 403\")\n",
    "    if requisicao[11:14] == '404':\n",
    "      print(\"Erro 404\")"
   ]
  },
  {
   "cell_type": "markdown",
   "id": "0b0ce6a4",
   "metadata": {
    "id": "skilled-lingerie"
   },
   "source": [
    "## Internet Protocol address (IP)\n",
    "\n",
    "Os seres humanos acessam informações on-line utilizando endereços como http://www.google.com. Para que os recursos sejam localizados, os navegadores da Web utilizam endereços de protocolo de internet (**IP**). A conversão de nomes de domínio em endereços de **IP** pode ser realizada utilizando um serviço **DNS** (*Domain Name System*).\n",
    "\n",
    "Iremos conferir o endereço **IP** dos servidores que estamos consultando"
   ]
  },
  {
   "cell_type": "code",
   "execution_count": 73,
   "id": "b6924d56",
   "metadata": {
    "colab": {
     "base_uri": "https://localhost:8080/"
    },
    "id": "german-budget",
    "outputId": "9d0ac932-b0cf-4857-d077-8398cfc3fd5a"
   },
   "outputs": [
    {
     "data": {
      "text/plain": [
       "('209.85.200.105', 443)"
      ]
     },
     "execution_count": 73,
     "metadata": {},
     "output_type": "execute_result"
    }
   ],
   "source": [
    "gg = requests.get('https://google.com', stream=True)\n",
    "gg.raw._connection.sock.getpeername()"
   ]
  },
  {
   "cell_type": "code",
   "execution_count": 74,
   "id": "d419bb4f",
   "metadata": {
    "colab": {
     "base_uri": "https://localhost:8080/"
    },
    "id": "soviet-penguin",
    "outputId": "48bdff44-2a9b-4cdc-db89-9675be627887"
   },
   "outputs": [
    {
     "data": {
      "text/plain": [
       "('200.144.244.77', 443)"
      ]
     },
     "execution_count": 74,
     "metadata": {},
     "output_type": "execute_result"
    }
   ],
   "source": [
    "gg = requests.get('http://www.ime.usp.br/', stream=True)\n",
    "gg.raw._connection.sock.getpeername()"
   ]
  },
  {
   "cell_type": "markdown",
   "id": "5dc4bcd4",
   "metadata": {
    "id": "egyptian-subscriber"
   },
   "source": [
    "No próximo comando, iremos realizar um `ping`. O comando `ping` é uma ferramenta simples usada para testar a conectividade entre dois dispositivos em uma rede. Quando o comando `ping` é executado, ele envia um pacote ICMP (pense como se fosse uma mensagem) para o dispositivo de destino e aguarda uma resposta. Se uma resposta for recebida, o comando ping exibe informações como tempo de resposta, perda de pacotes e número de pacotes transmitidos.\n",
    "\n",
    "Obs: se estiver no Windows, remova o -c 4"
   ]
  },
  {
   "cell_type": "code",
   "execution_count": 75,
   "id": "24015ed2",
   "metadata": {
    "colab": {
     "base_uri": "https://localhost:8080/"
    },
    "id": "loose-hanging",
    "outputId": "f407ddc8-5145-4015-d46a-3d9852e7506e",
    "scrolled": true
   },
   "outputs": [
    {
     "name": "stdout",
     "output_type": "stream",
     "text": [
      "/bin/bash: ping: command not found\n"
     ]
    }
   ],
   "source": [
    "!ping www.insper.edu.br"
   ]
  },
  {
   "cell_type": "markdown",
   "id": "9306ec90",
   "metadata": {
    "id": "phantom-brand"
   },
   "source": [
    "## Baixando imagens\n",
    "\n",
    "Nos tópicos anteriores fizemos requisições que retornaram conteúdo do tipo `text/plain` (strings). Entretanto, as mesmas chamadas GET podem ser utilizadas para recuperar imagens, PDFs, páginas Web, etc.\n",
    "\n",
    "Vamos solicitar uma imagem PNG:"
   ]
  },
  {
   "cell_type": "code",
   "execution_count": 76,
   "id": "04f0fa35",
   "metadata": {
    "colab": {
     "base_uri": "https://localhost:8080/"
    },
    "id": "obvious-conspiracy",
    "outputId": "202986bc-d76d-4a5c-fe9a-8d4c25b1f055"
   },
   "outputs": [
    {
     "name": "stdout",
     "output_type": "stream",
     "text": [
      "200\n"
     ]
    }
   ],
   "source": [
    "url_imagem = 'https://s2.studylib.net/store/data/013539884_1-c723ea60365e3706a333362a126d4c5a.png'\n",
    "\n",
    "req = requests.get(url = url_imagem)\n",
    "\n",
    "print(req.status_code)"
   ]
  },
  {
   "cell_type": "markdown",
   "id": "448fb5de",
   "metadata": {
    "id": "dress-secretariat"
   },
   "source": [
    "Perceba que o código `200` nos indica que obtivemos sucesso!\n",
    "\n",
    "No `content-type`, perceba que o conteúdo retornado é do tipo `img/png`"
   ]
  },
  {
   "cell_type": "code",
   "execution_count": 77,
   "id": "9ec66728",
   "metadata": {
    "colab": {
     "base_uri": "https://localhost:8080/",
     "height": 35
    },
    "id": "c8b2e21f",
    "outputId": "5a351ef3-bd73-4c5e-9c1e-f9d685ac21a0"
   },
   "outputs": [
    {
     "data": {
      "application/vnd.google.colaboratory.intrinsic+json": {
       "type": "string"
      },
      "text/plain": [
       "'image/png'"
      ]
     },
     "execution_count": 77,
     "metadata": {},
     "output_type": "execute_result"
    }
   ],
   "source": [
    "req.headers['content-type']"
   ]
  },
  {
   "cell_type": "markdown",
   "id": "299d3c75",
   "metadata": {
    "id": "d014e6f5"
   },
   "source": [
    "Agora, vamos salvar a imagem. Abriremos um arquivo em modo de escrita e escrevemos o conteúdo (`req.content`) retornado pela requisição."
   ]
  },
  {
   "cell_type": "code",
   "execution_count": 82,
   "id": "82f69284",
   "metadata": {
    "colab": {
     "base_uri": "https://localhost:8080/"
    },
    "id": "extensive-demand",
    "outputId": "98ba0abd-0e07-4428-8109-e4fc2b8b78ed"
   },
   "outputs": [
    {
     "name": "stdout",
     "output_type": "stream",
     "text": [
      "Imagem salva! =)\n"
     ]
    }
   ],
   "source": [
    "with open('pato.jpg', 'wb') as imagem:\n",
    "  resposta = requests.get(url_imagem)\n",
    "  if not resposta.ok:\n",
    "    print(\"Ocorreu um erro, status:\" , resposta.status_code)\n",
    "  else:\n",
    "      imagem.write(req.content)\n",
    "      print(\"Imagem salva! =)\")"
   ]
  },
  {
   "cell_type": "markdown",
   "id": "81f3a0f5",
   "metadata": {
    "id": "productive-speaker"
   },
   "source": [
    "**Exercício 7** Exiba a imagem na tela.\n",
    "\n",
    "**Dica:** não se esqueça de importar o **cv2** e o **matplotlib**. Confira como fizemos na aula passada."
   ]
  },
  {
   "cell_type": "code",
   "execution_count": 87,
   "id": "08f6dda1",
   "metadata": {
    "colab": {
     "base_uri": "https://localhost:8080/",
     "height": 595
    },
    "id": "4da9ec73",
    "outputId": "927f4849-30ca-44cf-a557-18cfee8f0847"
   },
   "outputs": [
    {
     "data": {
      "image/png": "[encoded data removed]",
      "text/plain": [
       "<Figure size 720x720 with 1 Axes>"
      ]
     },
     "metadata": {
      "needs_background": "light"
     },
     "output_type": "display_data"
    }
   ],
   "source": [
    "import cv2\n",
    "import matplotlib.pyplot as plt\n",
    "\n",
    "img = cv2.imread('pato.jpg')\n",
    "\n",
    "plt.rcParams['figure.figsize'] = (10,10)\n",
    "\n",
    "plt.imshow(img);"
   ]
  },
  {
   "cell_type": "markdown",
   "id": "f20621a6",
   "metadata": {
    "id": "cellular-weekly"
   },
   "source": [
    "**Exercício 8** Conforme aula anterior, utilize um **Reader** do **EasyOCR** para realizar a transcrição dos dados contidos na imagem."
   ]
  },
  {
   "cell_type": "code",
   "execution_count": 90,
   "id": "321d9665",
   "metadata": {
    "colab": {
     "base_uri": "https://localhost:8080/"
    },
    "id": "a95a8e6d",
    "outputId": "41eea470-303d-4cfb-b686-09bd514f9d15"
   },
   "outputs": [
    {
     "name": "stderr",
     "output_type": "stream",
     "text": [
      "WARNING:easyocr.easyocr:Using CPU. Note: This module is much faster with a GPU.\n",
      "WARNING:easyocr.easyocr:Downloading detection model, please wait. This may take several minutes depending upon your network connection.\n"
     ]
    },
    {
     "name": "stdout",
     "output_type": "stream",
     "text": [
      "Progress: |██████████████████████████████████████████████████| 100.0% Complete"
     ]
    },
    {
     "name": "stderr",
     "output_type": "stream",
     "text": [
      "WARNING:easyocr.easyocr:Downloading recognition model, please wait. This may take several minutes depending upon your network connection.\n"
     ]
    },
    {
     "name": "stdout",
     "output_type": "stream",
     "text": [
      "Progress: |██████████████████████████████████████████████████| 100.0% Complete"
     ]
    },
    {
     "data": {
      "text/plain": [
       "['Erin Shea',\n",
       " '081',\n",
       " 'The Lady Tasting Te Paper',\n",
       " 'March 15, 2005',\n",
       " 'Ihe Lady Tasting Tea',\n",
       " 'Thc Lady Tasting Tea not only',\n",
       " 'the reader through the progression of',\n",
       " 'statistics, but also the',\n",
       " 'of the',\n",
       " 'the time period; the brilliant minds',\n",
       " 'associated with the breakthroughs in this mathematical realm; the people of the era',\n",
       " 'affected by the different applications of this progressing science; and, last but not least,',\n",
       " 'the various philosophical questions',\n",
       " 'answered and unanswered, inextricable from the',\n",
       " 'study of statistics',\n",
       " 'The story begins in Cambridge; England in the 1920s in the simple setting of a',\n",
       " 'garden tea party .',\n",
       " 'womnan',\n",
       " 'claiming she can tell the difference between tea poured into',\n",
       " 'milk and milk poured into tea introduces this',\n",
       " 'and then we jump back into the',\n",
       " '1890s, when the statistics revolution grows roots.',\n",
       " 'The story progresses from Pearson `',\n",
       " 'early work through World War L, The Depression and New Deal, World War IL, and the',\n",
       " 'Russian Revolution, and we learn of the different characters (Gosset aka',\n",
       " 'Student\" ',\n",
       " 'Fisher, Neyman), scientific journals',\n",
       " 'books ( Biometrika, Statistical Methods for',\n",
       " 'Research Workers). and experiments of importance to the field that come into play_',\n",
       " 'The',\n",
       " 'reader is given example after example of statistical applications during the different time',\n",
       " 'periods',\n",
       " 'from brewing Guinness in Ireland, to cracking German codes during wartime, to',\n",
       " 'attempting to locate buried landmines in Japan',\n",
       " 'failed attempt, which; according to the',\n",
       " 'author; in part led to the atomic bombing-',\n",
       " 'takes',\n",
       " 'history',\n",
       " 'world',\n",
       " 'during',\n",
       " 'stOFY .',\n",
       " 'and']"
      ]
     },
     "execution_count": 90,
     "metadata": {},
     "output_type": "execute_result"
    }
   ],
   "source": [
    "import easyocr\n",
    "reader = easyocr.Reader(['pt'], gpu=False)\n",
    "result = reader.readtext(img, detail=0)\n",
    "result"
   ]
  },
  {
   "cell_type": "markdown",
   "id": "0798ba75",
   "metadata": {
    "id": "fewer-pharmacy"
   },
   "source": [
    "## Baixando arquivos de texto\n",
    "\n",
    "Vamos baixar um arquivo TXT do livro *Alice's Adventures in Wonderland*. Aproveitando, iremos configurar um **timeout**, que irá definir o tempo máximo de espera por uma resposta.\n",
    "\n",
    "Para conseguir o link do livro, acesse https://atd-insper.s3.us-east-2.amazonaws.com/aula04/alice_wonderland.txt"
   ]
  },
  {
   "cell_type": "code",
   "execution_count": 92,
   "id": "fec16abf",
   "metadata": {
    "colab": {
     "base_uri": "https://localhost:8080/"
    },
    "id": "designed-atlantic",
    "outputId": "7fbd7971-9555-4b79-de74-77d702a4f02f"
   },
   "outputs": [
    {
     "data": {
      "text/plain": [
       "<Response [200]>"
      ]
     },
     "execution_count": 92,
     "metadata": {},
     "output_type": "execute_result"
    }
   ],
   "source": [
    "alice_url_txt = 'https://atd-insper.s3.us-east-2.amazonaws.com/aula04/alice_wonderland.txt'\n",
    "\n",
    "resposta = requests.get(url=alice_url_txt, timeout=0.1)\n",
    "\n",
    "resposta"
   ]
  },
  {
   "cell_type": "markdown",
   "id": "26ad08fc",
   "metadata": {
    "id": "25570bf8"
   },
   "source": [
    "Perceba que o argumento de `timeout` está quase zero! Provavelmente a requisição irá falhar. Aumente este valor até obter sucesso. Isto será útil quando você tiver uma tolerância máxima de espera por algum recurso.\n",
    "\n",
    "Vamos conferir o `content-type`:"
   ]
  },
  {
   "cell_type": "code",
   "execution_count": 93,
   "id": "5e9c221f",
   "metadata": {
    "colab": {
     "base_uri": "https://localhost:8080/",
     "height": 35
    },
    "id": "71ab43f9",
    "outputId": "8b6e2c82-6094-423d-dcca-2df46e5e7bc7"
   },
   "outputs": [
    {
     "data": {
      "application/vnd.google.colaboratory.intrinsic+json": {
       "type": "string"
      },
      "text/plain": [
       "'text/plain'"
      ]
     },
     "execution_count": 93,
     "metadata": {},
     "output_type": "execute_result"
    }
   ],
   "source": [
    "resposta.headers['content-type']"
   ]
  },
  {
   "cell_type": "markdown",
   "id": "542de932",
   "metadata": {
    "id": "6e839079"
   },
   "source": [
    "Vejamos o texto retornado:"
   ]
  },
  {
   "cell_type": "code",
   "execution_count": 94,
   "id": "80f8bb65",
   "metadata": {
    "colab": {
     "base_uri": "https://localhost:8080/"
    },
    "id": "095ecf11",
    "outputId": "e2574e22-38c2-4816-85dc-f44aa0af1627"
   },
   "outputs": [
    {
     "name": "stdout",
     "output_type": "stream",
     "text": [
      "Alice's Adventures in Wonderland\n",
      "\n",
      "                ALICE'S ADVENTURES IN WONDERLAND\n",
      "\n",
      "                          Lewis Carroll\n",
      "\n",
      "               THE MILLENNIUM FULCRUM EDITION 3.0\n",
      "\n",
      "\n",
      "\n",
      "\n",
      "                            CHAPTER I\n",
      "\n",
      "                      Down the Rabbit-Hole\n",
      "\n",
      "\n",
      "  Alice was beginning to get very tired of sitting by her sister\n",
      "on the bank, and of having nothing to do:  once or twice she had\n",
      "peeped into the book her sister was reading, but it had no\n",
      "pictures or conversations in it, `and what is the use of a book,'\n",
      "thought Alice `without pictures or conversation?'\n",
      "\n",
      "  So she was considering in her own mind (as well as she could,\n",
      "for the hot day made her feel very sleepy and stupid), whether\n",
      "the pleasure of making a daisy-chain would be worth the trouble\n",
      "of getting up and picking the daisies, when suddenly a White\n",
      "Rabbit with pink eyes ran close by her.\n",
      "\n",
      "  There was nothing so VERY remarkable in that; nor did Alice\n",
      "think it so VERY much out of the way to hear the Rabbit say to\n",
      "itself, `Oh dear!  Oh dear!  I shall be late!'  (when she thought\n",
      "it over afterwards, it occurred to her that she ought to have\n",
      "wondered at this, but at the time it all seemed quite natural);\n",
      "but when the Rabbit actually TOOK A WATCH OUT OF ITS WAISTCOAT-\n",
      "POCKET, and looked at it, and then hurried on, Alice started to\n",
      "her feet, for it flashed across her mind that she had never\n",
      "before seen a rabbit with either a waistcoat-pocket, or a watch to\n",
      "take out of it, and burning with curiosity, she ran across the\n",
      "field after it, and fortunately was just in time to see it pop\n",
      "down a large rabbit-hole under the hedge.\n",
      "\n"
     ]
    }
   ],
   "source": [
    "print(resposta.text)"
   ]
  },
  {
   "cell_type": "markdown",
   "id": "ad134124",
   "metadata": {
    "id": "0341cba2"
   },
   "source": [
    "Então podemos fazer o que quisermos com este texto:\n",
    "- Remover stopwords\n",
    "- Quebrar em palavras\n",
    "- Analisar sentimento das frases\n",
    "- etc."
   ]
  },
  {
   "cell_type": "code",
   "execution_count": 95,
   "id": "e3a57806",
   "metadata": {
    "colab": {
     "base_uri": "https://localhost:8080/"
    },
    "id": "studied-stephen",
    "outputId": "e24c3d98-d45d-41ed-91bf-a6b106cc7dde",
    "scrolled": false
   },
   "outputs": [
    {
     "data": {
      "text/plain": [
       "[\"Alice's\",\n",
       " 'Adventures',\n",
       " 'in',\n",
       " 'Wonderland',\n",
       " \"ALICE'S\",\n",
       " 'ADVENTURES',\n",
       " 'IN',\n",
       " 'WONDERLAND',\n",
       " 'Lewis',\n",
       " 'Carroll',\n",
       " 'THE',\n",
       " 'MILLENNIUM',\n",
       " 'FULCRUM',\n",
       " 'EDITION',\n",
       " '3.0',\n",
       " 'CHAPTER',\n",
       " 'I',\n",
       " 'Down',\n",
       " 'the',\n",
       " 'Rabbit-Hole',\n",
       " 'Alice',\n",
       " 'was',\n",
       " 'beginning',\n",
       " 'to',\n",
       " 'get',\n",
       " 'very',\n",
       " 'tired',\n",
       " 'of',\n",
       " 'sitting',\n",
       " 'by',\n",
       " 'her',\n",
       " 'sister',\n",
       " 'on',\n",
       " 'the',\n",
       " 'bank,',\n",
       " 'and',\n",
       " 'of',\n",
       " 'having',\n",
       " 'nothing',\n",
       " 'to',\n",
       " 'do:',\n",
       " 'once',\n",
       " 'or',\n",
       " 'twice',\n",
       " 'she',\n",
       " 'had',\n",
       " 'peeped',\n",
       " 'into',\n",
       " 'the',\n",
       " 'book',\n",
       " 'her',\n",
       " 'sister',\n",
       " 'was',\n",
       " 'reading,',\n",
       " 'but',\n",
       " 'it',\n",
       " 'had',\n",
       " 'no',\n",
       " 'pictures',\n",
       " 'or',\n",
       " 'conversations',\n",
       " 'in',\n",
       " 'it,',\n",
       " '`and',\n",
       " 'what',\n",
       " 'is',\n",
       " 'the',\n",
       " 'use',\n",
       " 'of',\n",
       " 'a',\n",
       " \"book,'\",\n",
       " 'thought',\n",
       " 'Alice',\n",
       " '`without',\n",
       " 'pictures',\n",
       " 'or',\n",
       " \"conversation?'\",\n",
       " 'So',\n",
       " 'she',\n",
       " 'was',\n",
       " 'considering',\n",
       " 'in',\n",
       " 'her',\n",
       " 'own',\n",
       " 'mind',\n",
       " '(as',\n",
       " 'well',\n",
       " 'as',\n",
       " 'she',\n",
       " 'could,',\n",
       " 'for',\n",
       " 'the',\n",
       " 'hot',\n",
       " 'day',\n",
       " 'made',\n",
       " 'her',\n",
       " 'feel',\n",
       " 'very',\n",
       " 'sleepy',\n",
       " 'and',\n",
       " 'stupid),',\n",
       " 'whether',\n",
       " 'the',\n",
       " 'pleasure',\n",
       " 'of',\n",
       " 'making',\n",
       " 'a',\n",
       " 'daisy-chain',\n",
       " 'would',\n",
       " 'be',\n",
       " 'worth',\n",
       " 'the',\n",
       " 'trouble',\n",
       " 'of',\n",
       " 'getting',\n",
       " 'up',\n",
       " 'and',\n",
       " 'picking',\n",
       " 'the',\n",
       " 'daisies,',\n",
       " 'when',\n",
       " 'suddenly',\n",
       " 'a',\n",
       " 'White',\n",
       " 'Rabbit',\n",
       " 'with',\n",
       " 'pink',\n",
       " 'eyes',\n",
       " 'ran',\n",
       " 'close',\n",
       " 'by',\n",
       " 'her.',\n",
       " 'There',\n",
       " 'was',\n",
       " 'nothing',\n",
       " 'so',\n",
       " 'VERY',\n",
       " 'remarkable',\n",
       " 'in',\n",
       " 'that;',\n",
       " 'nor',\n",
       " 'did',\n",
       " 'Alice',\n",
       " 'think',\n",
       " 'it',\n",
       " 'so',\n",
       " 'VERY',\n",
       " 'much',\n",
       " 'out',\n",
       " 'of',\n",
       " 'the',\n",
       " 'way',\n",
       " 'to',\n",
       " 'hear',\n",
       " 'the',\n",
       " 'Rabbit',\n",
       " 'say',\n",
       " 'to',\n",
       " 'itself,',\n",
       " '`Oh',\n",
       " 'dear!',\n",
       " 'Oh',\n",
       " 'dear!',\n",
       " 'I',\n",
       " 'shall',\n",
       " 'be',\n",
       " \"late!'\",\n",
       " '(when',\n",
       " 'she',\n",
       " 'thought',\n",
       " 'it',\n",
       " 'over',\n",
       " 'afterwards,',\n",
       " 'it',\n",
       " 'occurred',\n",
       " 'to',\n",
       " 'her',\n",
       " 'that',\n",
       " 'she',\n",
       " 'ought',\n",
       " 'to',\n",
       " 'have',\n",
       " 'wondered',\n",
       " 'at',\n",
       " 'this,',\n",
       " 'but',\n",
       " 'at',\n",
       " 'the',\n",
       " 'time',\n",
       " 'it',\n",
       " 'all',\n",
       " 'seemed',\n",
       " 'quite',\n",
       " 'natural);',\n",
       " 'but',\n",
       " 'when',\n",
       " 'the',\n",
       " 'Rabbit',\n",
       " 'actually',\n",
       " 'TOOK',\n",
       " 'A',\n",
       " 'WATCH',\n",
       " 'OUT',\n",
       " 'OF',\n",
       " 'ITS',\n",
       " 'WAISTCOAT-',\n",
       " 'POCKET,',\n",
       " 'and',\n",
       " 'looked',\n",
       " 'at',\n",
       " 'it,',\n",
       " 'and',\n",
       " 'then',\n",
       " 'hurried',\n",
       " 'on,',\n",
       " 'Alice',\n",
       " 'started',\n",
       " 'to',\n",
       " 'her',\n",
       " 'feet,',\n",
       " 'for',\n",
       " 'it',\n",
       " 'flashed',\n",
       " 'across',\n",
       " 'her',\n",
       " 'mind',\n",
       " 'that',\n",
       " 'she',\n",
       " 'had',\n",
       " 'never',\n",
       " 'before',\n",
       " 'seen',\n",
       " 'a',\n",
       " 'rabbit',\n",
       " 'with',\n",
       " 'either',\n",
       " 'a',\n",
       " 'waistcoat-pocket,',\n",
       " 'or',\n",
       " 'a',\n",
       " 'watch',\n",
       " 'to',\n",
       " 'take',\n",
       " 'out',\n",
       " 'of',\n",
       " 'it,',\n",
       " 'and',\n",
       " 'burning',\n",
       " 'with',\n",
       " 'curiosity,',\n",
       " 'she',\n",
       " 'ran',\n",
       " 'across',\n",
       " 'the',\n",
       " 'field',\n",
       " 'after',\n",
       " 'it,',\n",
       " 'and',\n",
       " 'fortunately',\n",
       " 'was',\n",
       " 'just',\n",
       " 'in',\n",
       " 'time',\n",
       " 'to',\n",
       " 'see',\n",
       " 'it',\n",
       " 'pop',\n",
       " 'down',\n",
       " 'a',\n",
       " 'large',\n",
       " 'rabbit-hole',\n",
       " 'under',\n",
       " 'the',\n",
       " 'hedge.']"
      ]
     },
     "execution_count": 95,
     "metadata": {},
     "output_type": "execute_result"
    }
   ],
   "source": [
    "resposta.text.split()"
   ]
  },
  {
   "cell_type": "markdown",
   "id": "f70652c6",
   "metadata": {
    "id": "later-position"
   },
   "source": [
    "## Baixando páginas da Web\n",
    "\n",
    "A parte realmente legal de trabalharmos com dados da Internet é extrair informações das páginas da Web. Será que podemos utilizar a biblioteca **requests** para baixar conteúdos de páginas Web?\n",
    "\n",
    "Vamos ver um primeiro exemplo:\n",
    "\n",
    "**Dica**: copie a URL e cole em seu navegador para ver o conteúdo da página renderizado!"
   ]
  },
  {
   "cell_type": "code",
   "execution_count": 96,
   "id": "1cccbb3b",
   "metadata": {
    "colab": {
     "base_uri": "https://localhost:8080/"
    },
    "id": "official-pathology",
    "outputId": "b558c264-7dd6-46df-b033-ecc63bbf5c9f"
   },
   "outputs": [
    {
     "data": {
      "text/plain": [
       "<Response [200]>"
      ]
     },
     "execution_count": 96,
     "metadata": {},
     "output_type": "execute_result"
    }
   ],
   "source": [
    "url = 'https://atd-insper.s3.us-east-2.amazonaws.com/aula04/amostra.html'\n",
    "\n",
    "resposta = requests.get(url = url)\n",
    "\n",
    "resposta"
   ]
  },
  {
   "cell_type": "markdown",
   "id": "13977c82",
   "metadata": {
    "id": "stretch-finnish"
   },
   "source": [
    "Conferindo o código de resposta:"
   ]
  },
  {
   "cell_type": "code",
   "execution_count": 97,
   "id": "d6313dab",
   "metadata": {
    "colab": {
     "base_uri": "https://localhost:8080/"
    },
    "id": "innocent-calculator",
    "outputId": "b6c1daff-f04f-4b9b-9c27-842c4c13ab9d"
   },
   "outputs": [
    {
     "name": "stdout",
     "output_type": "stream",
     "text": [
      "Código de status da resposta: 200\n"
     ]
    }
   ],
   "source": [
    "print('Código de status da resposta: {}'.format(req.status_code))"
   ]
  },
  {
   "cell_type": "markdown",
   "id": "11651b76",
   "metadata": {
    "id": "narrative-essex"
   },
   "source": [
    "E o texto de resposta:"
   ]
  },
  {
   "cell_type": "code",
   "execution_count": 98,
   "id": "2702f1cb",
   "metadata": {
    "colab": {
     "base_uri": "https://localhost:8080/"
    },
    "id": "imposed-relaxation",
    "outputId": "d9c02cf7-f6af-4f53-b737-fe3195fbcb62"
   },
   "outputs": [
    {
     "name": "stdout",
     "output_type": "stream",
     "text": [
      "Texto de resposta:<!DOCTYPE html>\n",
      "<html>\n",
      "    <head>\n",
      "        <meta charset=\"UTF-8\">\n",
      "        <title>Este Ã© o tÃ­tulo da pÃ¡gina!</title>\n",
      "    </head>\n",
      "\n",
      "    <body>\n",
      "\n",
      "        <h1>Este Ã© um exemplo de pÃ¡gina Web!</h1>\n",
      "\n",
      "        <p>Estamos utilizando HTML, que Ã© uma linguagem de <b>MarcaÃ§Ã£o</b> de <i>texto</i></p>\n",
      "\n",
      "        <h2>Este Ã© um cabeÃ§alho</h2>\n",
      "\n",
      "        <p>E este Ã© um parÃ¡grafo.</p>\n",
      "\n",
      "        <p>Link para o <a href=\"https://www.google.com\">Google</a></p>\n",
      "    </body>\n",
      "</html>\n",
      "\n"
     ]
    }
   ],
   "source": [
    "print(f'Texto de resposta:{resposta.text}')\n",
    "# Preencha aqui!"
   ]
  },
  {
   "cell_type": "markdown",
   "id": "e73413ca",
   "metadata": {
    "id": "verified-funeral"
   },
   "source": [
    "Perceberam que alguns caracteres ficaram \"estranhos\"?!\n",
    "\n",
    "Vamos conferir o **encoding** utilizado"
   ]
  },
  {
   "cell_type": "code",
   "execution_count": 100,
   "id": "64eaf473",
   "metadata": {
    "colab": {
     "base_uri": "https://localhost:8080/",
     "height": 35
    },
    "id": "verified-communication",
    "outputId": "a41ca67b-2fd9-47aa-a121-ed36e22e2988"
   },
   "outputs": [
    {
     "data": {
      "application/vnd.google.colaboratory.intrinsic+json": {
       "type": "string"
      },
      "text/plain": [
       "'ISO-8859-1'"
      ]
     },
     "execution_count": 100,
     "metadata": {},
     "output_type": "execute_result"
    }
   ],
   "source": [
    "# Preencha aqui!\n",
    "resposta.encoding"
   ]
  },
  {
   "cell_type": "markdown",
   "id": "566c75cf",
   "metadata": {
    "id": "formed-gravity"
   },
   "source": [
    "Vamos alterar o **encoding**"
   ]
  },
  {
   "cell_type": "code",
   "execution_count": 102,
   "id": "b37d41c7",
   "metadata": {
    "id": "organizational-sessions"
   },
   "outputs": [],
   "source": [
    "# Preencha aqui!\n",
    "resposta.encoding = 'utf-8'"
   ]
  },
  {
   "cell_type": "markdown",
   "id": "2d3ae5ae",
   "metadata": {
    "id": "mediterranean-ghost"
   },
   "source": [
    "e rever o texto de resposta"
   ]
  },
  {
   "cell_type": "code",
   "execution_count": 103,
   "id": "888a6501",
   "metadata": {
    "colab": {
     "base_uri": "https://localhost:8080/"
    },
    "id": "cognitive-basketball",
    "outputId": "48ecf658-5879-46b4-df93-dba035a1761d"
   },
   "outputs": [
    {
     "name": "stdout",
     "output_type": "stream",
     "text": [
      "Texto de resposta:<!DOCTYPE html>\n",
      "<html>\n",
      "    <head>\n",
      "        <meta charset=\"UTF-8\">\n",
      "        <title>Este é o título da página!</title>\n",
      "    </head>\n",
      "\n",
      "    <body>\n",
      "\n",
      "        <h1>Este é um exemplo de página Web!</h1>\n",
      "\n",
      "        <p>Estamos utilizando HTML, que é uma linguagem de <b>Marcação</b> de <i>texto</i></p>\n",
      "\n",
      "        <h2>Este é um cabeçalho</h2>\n",
      "\n",
      "        <p>E este é um parágrafo.</p>\n",
      "\n",
      "        <p>Link para o <a href=\"https://www.google.com\">Google</a></p>\n",
      "    </body>\n",
      "</html>\n",
      "\n"
     ]
    }
   ],
   "source": [
    "print(f'Texto de resposta:{resposta.text}')\n",
    "# Preencha aqui!"
   ]
  },
  {
   "cell_type": "markdown",
   "id": "e82a69e9",
   "metadata": {
    "id": "confirmed-liberal"
   },
   "source": [
    "Este conteúdo é um **HTML** (do inglês *HyperText Markup Language*). Na próxima aula, iremos aprender como extrair informações úteis de páginas HTML.\n",
    "\n",
    "Vamos conferir outra página mais completa?! Faremos a requisição da página de notícias de Ciência da Exame https://exame.com/ciencia/"
   ]
  },
  {
   "cell_type": "code",
   "execution_count": 104,
   "id": "a7b19268",
   "metadata": {
    "colab": {
     "base_uri": "https://localhost:8080/"
    },
    "id": "endless-authentication",
    "outputId": "e1e6fa20-3318-4275-f45c-ce7aab5878b9"
   },
   "outputs": [
    {
     "name": "stdout",
     "output_type": "stream",
     "text": [
      "��\u001f\u0000�O���'�`Ni�Y�\r",
      "��f7{zV�H^�ʲt�zo�\\��G��|� \u0000\u0001`�w�\u000b",
      "�ˮ�.�����2���u�a=�!$\u0012� ��{�\u0011�Vt0�u\u0013?ĺ!�a\u0016��s�^cP P>\t�O�P�J�l\u0003����X\u0002\u0002\u0002�9$\u0012��\u0005�B\b�\u0003\tJ��1E�`$�#�C��9\u001bH���݁m�z>;��滷����\u001f�߱1M��fL�a\u0006��|\u0012]�noF\u0004}{3a\u0002�F\b_0��9�b�-no\u0012%��w��w�\b�?ٻ\u0013L����bT�Ð 2\r",
      "쎾�n\u0015\u0001�:#Ø���c0yC`�c��9;��\tmrL\u0003{?O`I�F�,\u0005��wa\u0002�\u001d",
      ";����?��_��\u000f��\u0014X0����ԷߙrvD�\f",
      "ٝ�=�w����Fa����\"����'��LcT�|\"g3��Mh�.�b}����>8�!�w�\u001bZep\u000e��;�80��D�Y�\u0003kU4���i�)��.\u0016x�\ts�Ũ 6\u001e",
      ",\u001e",
      "\u0006\u0011�m�H)a@��_#;���dF�\"[��\u0018�{\u0016��2\u001f�8�\u0019\u001b\u0003��n�\f",
      "�H*��SG/�=���\u001b\u0007:.JY.\u0017r�����x�������M��,�r)�{X6+��\u0014E�QT��X/�J4u\tE�`����<���\u000f�:��t�5�O0�mL���l�.y�\u0015��2\u0006q���dg�\n",
      "�����3F.�\b�\"Xd�ۛ@��n5$�\u0011�\u0018؎�z�<\f",
      "x��\u001e",
      "�6����\u000b",
      "���0`�3\u001f��U�'��\u0019�Όgj`\u001d",
      "�Y�,�e�NY+��߶7�iq��e��q����\u0014$rva��\u001f����%{��������QT#N��0,2���4����Xea�y\u000b",
      "y8\\��08�gs0�ڔv\u000b",
      "���3\u0014G\f",
      "Y{\u0011@�0��G\t֞�̸�ᒝ�$\u0016{7_E���%�Xu\u000f�G�Br����Ӹ�x ���c�\u0019YJ\u0004FD\u0005\u0006wE.�F�\u001c",
      "�_Z�u�슔�h\u0006\u000f�;�T\u001b���U\u0001��+�t��/RB]�\u001a����U@H.�a��M����!j5/N�]��sY�p �lN�E��R�(|�\u001e",
      "�\u001a=9$8K(\u000b",
      "\u000b",
      "�5�m\u001e",
      "q�Ц�g�\u0004C>8�Χ����\u0015\u0013$R�\n",
      "���\u0016�K�0O\u001f!ʩ��x�\u0007�\u0006#��&��a@�%|G<[\u001d",
      "�\u0006/G��GD5\u0007�s\u0007:�C���\u0019T��>��2����\u0005\u001a��\u0014fD\u001f�c��\t�aM^ɉ��M�`�\u0018\u000e�0�ɜ�AY9\u0013�\u001bⰱ�S��]<\u0002,�s\"u�m%,?��M\u0011���D�l����Rރ��9S�\u0010a�-\u001c",
      "��%p�&�d��� �\u0017i\u001e",
      "�H��My�\n",
      "\u0003I\"O��K�0� vyT.���\u0003F��F��\u0017�>�B�S�*iK��T��\u0000w\u001978�]�\u0004Q�`]DĊc$F\u001bȂU�\u000b",
      "��[X<%1\"h��l\u000b",
      "�]T\u001b�9[F?�1�\u0003��\u000b",
      "���9{\u001a�5�-no��1o�4$\u0010V�\u0018wYv{�����k�1첌Y79=\u001b�e\u0019�A��Ž�SZ���\\�q����Μ{2&�Z�M��\u001b�\u0004\u0005����ެ>\u001c",
      "�=�\u0011;\u000fj/@V�Jo��o�����C�(\u000b",
      "\r",
      "it�\u0003Lxta/T_l�Zc�lz��{$���h\u001a�)��e\u0007ͦꞞ��hs\u000fދ\n",
      "��XJ]o\u001a���\u001ao�)�F��R�n���F��A\u0018m6�r%6eY�bS����\n",
      "�=\u001aUM!�j)���k�и�E�U#*]C�X*Y���R\u001d",
      "�hS�F�M����6�e�E�$/��M%6��,ְZil:]ՏH�\\���Uߠ�~U�jS�[����\u0016eը~��%.���MYqǳ�{�i1'~V�\u0015���VU��b\u0005\u0015��e�<*\u0019\u00016��[տ\u001c",
      "��8��}7��\u001f�R�1a��b\u001c",
      "�^���6x���\u001f�t6�Hﲇ\u0018E�p� \"i�n�3}9\f",
      "\u001f��\"8��励��i��C@��qa{��n��ZVഽblD\u001a��4c��7pn\u0019YC\u0016Eg��o�\u0018�M\"�#����\u0000\u0001��\u0019���v�J)���ܑ\u0012\u001d",
      ">\u0012�\u00172�8��ɼ�x��\u0014q~!\u0006O\"���er{��\u001c",
      "1��\u0006Uj�u\u0016�WOW�M��q�s�\tGh�xˮ�}]t5�\u0018��rV��q_KY7��Q����\n",
      "C\u0007/$\u001f�s&�z\t=�]\b.��_�U�\\�\u0000&�-E�\f",
      "��V^�n�;���#~�#\u0006�4ӎO]N���2�1o�E^���X�\u0010\u0006\u001c",
      "V�źy\u001f��\u0001\u0012\u0004�C;���?�u\u001b=����m�\u0003�޸c�F�\u001a���1��kr\u0002\u001aHt�-�\u001f\u0007���`\u0005%�b�\u0014ڄ�Ѐ����D�ܲ�g׹�2β�h\u000e�HA�Y�&\u0010���\b��2��^1�\u0013�2.V{��u.h\f",
      "\"��9���϶W�=�1Q�h\u0019��\f",
      "�y����x1~f^��C\u000fS\\\u0001�~\bn�Z\f",
      "\u0018S�;�it0\f",
      "mL\"�@�?\u0001�\u0018��\u0010�,&ߎ�i`��e�Q<\u0004�)���q\u0012\u0018�]�u\u000f���)�L����\u0012��С�=�I���:u!�������\u000eԞ\u0019�~M�lrhJ>�,����P�Bk��e��L�\u0003�H��:_�uv;�����3�t�у�����Ip�\u001d",
      "��ǂ�%\u001f�|��X�q�=���_g����\u001c",
      "8t]ࠂ�牃�\u0001c�\u001d",
      "\r",
      "\\QB��F��p�[�\u0013�i�d#�w��G�<�\u0013\u0018�c\n",
      "�G\u001e",
      "Spv�q�x�=O�\u001f ��Ϝ�B�0pm�N\\k>���3|6�\u0010�\t���x���\r",
      "th��\u0001��\t:�\\�O�,O��g�z�\u0012O#��)�4�9�D� �H\u001a�\u0002{��5& \u00139N\u001d",
      "j��0\u0007�=\r\n",
      "|\"gy�\\��G\u0004���Cp��\u0013��\u0013ڙ[8p7'?'\u001e",
      "���#*Rf>��\u0004��\u0013M�'\b{\u000e�&�\u000f��]&\b\u0003�Vn=hMvh���+Z��[`�=���\r",
      "�[\u001c",
      "0$R`\f",
      "�\u0003� �!�ۧū�z��b3����,!���̏��.�O�V���կ�/�� �(�9�s�|�AyE|Ro�b(&s\u0016q0{L|�|?�8j���\u0005��Z�\u0013\u0006�����\u0018�ĳ��Ϸ?\n",
      "����KT�Z9c�Gl@M�E��TG|��]�ҹ���HvhA��;�RG��Ͽ�`��9��0�?\u0006��J�°R��V����mD����\u000e A禔8�w&�́�e\"��}(0�E!�ad����L彲�z�ݞ�H��\u000b",
      "�yYǭ��cOI7�TD�[~a���vt\u0007\f",
      "\u0017p;U��z:�����tsJ�r��9D\u0017Z�(K�rs2d��0O��$4*\u0017\u0000\u001d",
      "\f",
      "�wHs��<�Y���\n",
      "\b\u001194�/�\u0007�J{�G\u0018�S��'��0��+qy�k���\bX�E^�4Oc+Zr���\u0013v4\b\b ���a]���?\u0015aׂ.:3'�&�[��FRn��Cn;���\\\u0018�'�V���m�g�B\r",
      "ԃ\u0002�SIb�3����\u0018)X\t\u001f6\u0010�Kڇ�N�^^L���\"\u001a�BT�d��Ν\n",
      "\u0010݉d\n",
      "�\u0012���{\u0013�l\u0002�\u0018.\u0013�\u0004i�e�O��-\u0019��m�\u000e�#��ِ�\"z3�F�\u0015�PN��n�Ԓ����mr\u0004Ɋڟ��t�ܚa\u0015�\u001b�(�+����y���\u001d",
      "\u0016\u0007�@�\u0018�a�\u0001�.4�L{D\u001b�Q�B�u47�n\u000fj���d'b��tуB�a:\"��L��?��2A����\u0016�v\u0013�@�S�\"\u0003�e� \f",
      "_�~\u0016�O�ؐ\t�2s��E�LS�rf��\u001f�u�1��{_U.lOm�\u0003\u0011�y�3JT��?ԍMD�5\u0017\u0018�hK\u001e",
      "�\f",
      "\u000b",
      " ��<�\u0003����}\u0006(�$\u00026F�S��S����;I\u00014��@x\u0014G�\u0003&\u0011ԍ\\�rO�H�\u0017�\f",
      "��&בA�9�2�\u0006��A��Y=�P�\u0012�\u0015]У+\n",
      "���U�A��\"��5�,B\u001f�t�m*dv=p+��:\u0017��\u000f�\u000f�\u000f�V�CY<\f",
      "�E�@���s�I9+:CvY\u0007��h\u0012F;X��i��+�\"o\"C�(�2�=YJ�\u001d",
      "I$�^ϐ����[\"��N/}p\u0013O��<(J��>��YS��>��\u0019����\u001e",
      "4~��\f",
      "0\u0001���\u0010�3�G7����\u0018\u0005hQ�ֆKo��T\u0005U������\u0000U^�=�/ve�鸓\u0013�ϐ�U�\u000b",
      "\u0002t�����ԡl�\u000b",
      "mlR�Nƨ�\u0015���J�SY\f",
      "?�Ak\u000e\f",
      "\b+���\u0011\\[l���v@\\�\u0005\u0000\u0013Y\\T\u0013J\f",
      "�����]�ն{��\u0006�^���\t5\u0001�* Z\u0006V�\u0017+����ڟ^^\u0016\u0010�\u000b",
      "7IɊU\u001f_[x�r�\r",
      "�啨�>�\u001a�>9��I-p���鐃\u0016{D/\u0002�@cYY¯�lPA�c��ӟ���O���/o؛����\u000b",
      "����?~������w���vQli��/]�\u0003�@k-�\u0019O,��\u0001���\u0006\u0012�ㅨ峗�M\u0019�!���η\"�\u001f3?b���d.f�ǔ�>\u001c",
      "��V� #����<a\r",
      "\u0004%\u000f�Ń�LmX\u0014{�3�1x׿�\n",
      "��)8c0\u001c",
      "!�\u001d",
      "k�O�\u001a��\u0007�Ɉ�J��\u0011\u0002�亖��u���\u0007\f",
      "\u0011\u0019��b\u0011v\u0015n �d�ۨ~�`��WV\u001e",
      "$\u001f�_Iﲨ�`\\\u0007Ft}x���7ױ\f",
      "h�\u001a�s=��������\u001d",
      "���l�눕�M��*�\b��H;\f",
      "�֛�z�\u0006j���,C�����)&��թ\u0003�A8\u0004���VcO\u00165~��I����\f",
      "�N��JUB>�|��ֲ���������\u001b��\f",
      "Q��\u0011��(4�l�yU\r",
      "\u0014�*\u000e�nV��\u0014��s�����Ӡ�K\u000b",
      "\\ߤ�G*���'��Y<�(��ſ\u001e",
      "o\r",
      "��h�U\u0019D�\u0013Yɘ�W�{\u001b.�ا\f",
      "������\r",
      "_�lx���\\�7��/K�%),�@F�P��R�0�ݞ:\u0005���\u001a��ygB��\u0007E��{G\u0017�\n",
      "!oY�\u000e+�*�^+���N3�\r",
      "u��x~X�L�����Ѥ�1�8;��F�_^�@�!w�%����΀E���\u0006s�劙��Κ�8bWшL���N����*G҈E�F\u001c",
      "\u0016��R�_���k\u001e",
      "p�\"x\u0002\u000b",
      "�\u000b",
      "P\u0002��\u0019�\u0012�b9���a��Ua6��P\u0018��,�����Ʀ��榘��a���P�\n",
      "�\u0015�?\u0000�����~}�*]�$�G\u001c",
      "�*�PĶW�]�����8v\u0012pb71\u0010@���I'\u00140�`\u0005�\u0013�\u0006�d����{�}b����)��jhE�d\u0006ý�ݷ����%ݶL\u001b`�-��a\u0013�0�e\u0010\n",
      ")�\n",
      "\u0011+�\f",
      "b\u0001���\f",
      "�\u001c",
      "Ϸ���j�ukOE\u0001DD�X'��P-�\u0018���\u0005ÉaE\u0013��%[g���\"�,N��\u0018��-�\u000f1�#*�;������]�\b#\u001c",
      "�)\u0015�s��da2e�u���\u000f4>���F\u0012#S�\u0018�p�bYT�֦5\u001fvBm0+��Mb�\u0014V�}ko��^Kf5�+?_�ar\n",
      "��[�'\u0000��1\u0000e��\u000e�����$���F\u0005�4������jw1�\u000fQJŢ�\u0018y\u001d",
      "9I ۱>\u001e",
      "��M\u0017'\ti�\u0000�b\u0018��ާ\u0002�H)ݰ�~\u0019��\u0014�M�q�7���&�u�I>���:\u001b�:�_OO\u0011�<�\u0013�\u001d",
      "Ve�N�\u0016�\u000f$�x�\bj5��\u0015bY{�V{RQ{\f",
      "�=B�\u001e",
      "Aj��F��m����/\u0007�\t\b�#����\f",
      ";�YЎ��@�:wNh\u0003��6\u000b",
      "��Z$\u001f����#Z:\u0017��\u001b�H��f��I�w �&�����\u0017�{ke/`�k��v�oAgD�J���\f",
      "�)@�,\u0010�Q�1��\u0000�,�\u0000����y\t��\u0018����,�Cn\u0017g&j��mk�lK�V�\u001fO�$U\u001d",
      "�P�h큶���a�z�\u0018\u0014\u0003\u0012�̜��t���.(B\u001b=l\u001b��3��u��ѵ麩�*��r�Y�\u0013=��o\u0005t�b\u0017�ov�\b[��\u001a)�\u001f��׏u�$I>%��\u001c",
      "{�\u000b",
      "��0��y/#\u001c",
      "��>B�WC�+e\u0004��m-e7��?3\u0015�2�Ƞ�\u0003��@�\u0003ذ��r�uE��=ġ_G\u0016F�\u00193\u000b",
      "ķ\\\u0004E*2IY��w\u000b",
      "�n\u000f����s��#r\u0011N�ƪ��pHc�uҚ�O�FQ,g$!w`R8/3ɴj��9/�f�2�w(�κ\u0016�s`�F=��N9���\u000f�$�qoD�4��w�^�_w�kG�\r",
      "!�����r��:陠+fQ��|�=�g_\f",
      "�`�>\u0016��I��\u001d",
      "$4\tuF �l����S����J�Q�ֲ?]�*Rq��\u0015��zYa\u0011�\f",
      "\u0000\b\u0007�z��!���Wa��(0�UvD��M�n\u0014QDQ���i���hEҙ7\u0007\u0007�S�jJ6\u0005ڭ~՟S\u0002D�+�߬;#:3�9,=���}�ϗ�=Tf�\u0003��yF\u001a|����QM���i�@\u0017[���\u0007�龝u/��t�����t!J��\r",
      "p�q�\u000b",
      "@?u�\r",
      "�����ME5�:���+\u0003 ��\r",
      "4X舋��3\u0014�\u0011�Ӵ��\u000e:7�i/!��\u0012Y(`�a\"�S\"R�${�8\"�!G\r",
      "\u0012\u000b",
      "m���\u0004\u0007���@��,{�|�\n",
      "lJd�%\u001d",
      "]�g���C�\u0014�\n",
      "�Ges80�*�K\u001a�V7K^�<�\u0015d@h���M�\u0000,V\\x��\u0003��f\u00163n�3 �(�\u0007�lG\u001fj\u001e",
      "��ֺȵrB�<�\u001e",
      "\\,� z���\u0011(F�~��z�D���2*�Az��\u0000�e��[\u0015�p\u0012&��3X�\u0005%�?t`}w�2\u001d",
      "Q\u000b",
      "]\t��'WBI�)�w�\u0000xKS�֌��\n",
      "�G~j\u0005RAW�~\u0003)�Kb�.u\u0002�Y1�Π��\u0002A�\u0011'��}29�K5��[L&�'^f\r",
      "�@�j~��jx\b���I��$\u0015�7���)��\u0010Ɔ���a\\9@�\u001f���0\b�%��x-��9\u0000\u0006I<=2�+h6�I߶\bY���yd�Z\u0017\b�\u001b�^h���X��\u000e�H��T��ύ�Y����\u0015�\u0014�p���ݳs��r�Ve�G+;����R|b\n",
      "�gH��\u0010�5\u0018��K�\t�֙�'�d\u001d",
      "6�y�����j�4]�\u0012�\"l�x�\u001f��Q\u0010Vr��\u0006\\���ָV6��������?�j\u0018�/�F�եbZ2�V�RfF�;\u0003Hu1�\u0010����'\r",
      "\t?&rݴ�wtŎ�[+��5�?������im\r",
      "f��\u0000۾�0�ك��T\u0010#V\u001a�b�K�Ɯ�9���H^yi��\u0001(.�\u0003j\u001d",
      "�f\t.w�Fh\t�@� ș#��kԎGs���b�\u001f�O\u0012I$���.��8h�p��n�\u001d",
      "��l��Ի���` ���(A�\u0002� N���I1�\u0013�\u0004Q���~}��o*�p��$Pٽ,��i�/���\u001d",
      "�=�P1R���aaF\u0002��$�\u000fW�9N\u0013�\u001f��u��\u001f)��:U';�\u0004:eak�?�cH��Gt\"\u000f�B�̋Se�~�Du%�p\u0018��\u001c",
      "[�\u0017���j���׺���\u0006�5CQ�|e���I�$�\u001d",
      "�m\u0006�����[�L���\u000b",
      "\f",
      "���=X\u001b�藦+��DfZ_�2\u0017\u00077R��\u0003\n",
      "^Ng@����X\u001c",
      "K@~Ee��\u0005a\r",
      "a\u0014����\n",
      "��\u001d",
      "�r\u001e",
      "�q��A�#.C\bI�\u0013@7��7�\u0019|�l7<�z�7�F�NY\u001e",
      "?�\u001c",
      "�b�R\u0010v+R\u0007�]\u0014����_lG�Ƿ\u001e",
      "��T�hi1�0��\u0015p8?\u0013\u001e",
      "�W_���2����\u001c",
      "�邧��?Lk��i4�\bh8���W\u000e&[\u0003e\u0005��\u0017�lr<��r�I\u0007\u0013�J\f",
      "��>s�}\u00075m`����쇛\u000fۄϦ��\"*�\u00041��\u0000;a��3�\r",
      "���Ѣ@\u0019�\u000f\u0013�D+OMo��_\u001f%\u000e�)'�j�_��W$�N]b��:�G��v_\t\u0010��\u0012�Z�_OB�\u0012��)\u0001�sf@�\r",
      "L�\u001a����^��㈤�%x�\u001e",
      "(�\u0006[\\,^\n",
      "�~��j{�b!c�RMl�%(c��%��~[.�\u0001��8�YrR�+I�1,\u0014;��<)[M�|\u000b",
      "÷\u000f�6(�4l��bC\u0010C��\u0001\"��ts\u001b�Z�\t�'���Ɔ\u0002��S_��ݷG*��̿ԙ��\u0011-��\u001f� ~��wF�-#rHa\u0016\t\u0011d\r",
      "�ݒv�\u001d",
      "�:�N�[p\u0011\u0011Yι\u0004�|쫟��~GS��\u0011��!h�dߣ\u000b",
      "F��Q�\u000em0\u0003 �מ�[�l\u001f\f",
      "���W=�n�`�\u0013��E�\u0011X]%�a��`r�5����˧\u0014���6�?�x\"�Lu�>�R�<m�\r",
      "\u001e",
      "\u001a��ѷ\u0013,1��\u000b",
      "�\tl<�'5���A`�y](ͪ��͠\u0010���\b#��k� \u0002��\u0001�\\\u0010%\u0005׫\r",
      "܌�\u0007�m\u000e\u0010�\u0011юy$8僲c�$��;��]�K+�k��ĦIW�\u0019��U4/��N%���T5U� �˄=W\r",
      "�bE�M<\u0011Dz}oȲ|\u001a�M\u0014��T\bB�9óMHQ�r\u00012i�\tԾ\u001b+�Ln �i��� �]���-���T��&\u0000Ҽ\u0016U?���ztQn�\u0015�[ ��h�fO�-\u0018��I�9K\u0018/���\u000f\u0000�盳�_M;�$\u0013�yz>�i�\u001c",
      "\u0018(K&-�\u0016���!�\"�%l�X2������`\u0018\u0006�����m��$\b���'��'ޣ��C4+bcf�\u0015�����{ﻯy��:BXf�7���4��b&HH\u0010jʢ�\u001b���\"�L�&'�F�y�\u0010�u�'�>�_�STDD\u0004,hT��&\u000b",
      "j'c���+�8v6h���\u0017�\u0003����.����\u0016'v'\u000f\u000b",
      "�-��mn�+\u0004��\u00189����f�u�\f",
      "���wF\u0015�[��oL\u0007nxa'���0�T�\u0007�`�\u001e",
      "A��3�\u00160�>TC�����v�T�}jT�I�\u0010\u0010�\u001c",
      "�8I�\u0010�#X\u0010a��\u000e�������&�g�i!�\u001a�F�(G\"M�]9c�bW7\u0004\br�\n",
      "�;\u0012!�*V[6f-�)��\u001c",
      "_Gf�%���u�\u0014λ�\u0016��)���\u0001\u0014*Y���p���|8W%y�\u0007�.��;4֣iVeYr1�!�Ϊ�m\u0019�\u0018zr�A�\u0018C�\u000b",
      "��\b�򯯾��=:�\u000e\b\u0012PN�.ҳ��)d\u001ay5ȳ1V��l\u001a?*����g���P\u00134�_���՘��j��__\u0015CM{~\u001a��f�;���R7\u0010ɚ�\u0001��!�?��J\u001e",
      "��R���`��=Ȇ�\u0004�y\u001f\u0010 4�tv��5�5��<&�\u0011RY>��n�o���8\u00017�f�T\u001d",
      "\u0004~�+A\u0001�\u0007��?W\u0017�Tl�����H��\u0010\u0005e?�z�\u000b",
      "+?cW\u0004���?(��]\b�����g�b�%]\u001e",
      "\u0013.\u000e��\u0007\u000e��S������y9\u0018z���\t\u0000�D��Y�\u001e",
      "q�P�B\f",
      "/\u0017�b7�\u0000\u0007\u0016?��\u0003�wJ��M1�\u0006\u001a\u000b",
      "�q/1��J�[X��3)�`%��ZKJ���>�Ϭ\b�\u00155��=ۗ�C�\u0019y\u0010۰��\u001a�k��9�z�\u0019\u0011�&tx����\"PN�5��k����'�۸n$ط�վ\u0015�G�r\u001b���\u001a��j?\f",
      "��%Z��\u001a�Gs�O\u0018](�L�`i�Y�Ek\"�[�%r�G=#@�\t���2��i}J\b<�[�?,��ƚ\n",
      "��i�N\u0014�Q��r7ݪ�\u0000\u001a\b\\)��r����]��5#�;NI��.7f]�\u000b",
      "h�R?O^�L\f",
      "@\u0018����L�@���V6�\u0007Nplԙ�\u0018�67^��Bò����D�\u0005�Ұ!9�_\u001a!�X_J��j\u001c",
      "e�[Ky\u001d",
      "�\bZ�E�� ��V?ϗ+�/�$���X�\u0015\u001f\u0013ܨSZ³\u001d",
      "<��\u0013�P�q��ц��<�^�[\u0010#v\f",
      "'}b��]>�����q)��E4g�O��\u000b",
      "��߹�=7RQ0+�Gm��d�𴈿 ���l����|�M¬�\u001d",
      "���<)��FM9D�35Qw@#~\u001f�M�R��u�V6��Mki��=\u000b",
      "M�\u001a�򾜀u���wW��K�O��L� yoӃe}S\u000b",
      "Ђȍ��JI3�q��O\u0005\u001c",
      "�۫e^�\u0018\u0012(:��D�F����zUw�V'x,\u0013�\u0002��\r",
      "855�(\r",
      "��\u0013�h����;n<�`~\u001b\u0003�5ڽ�>\u0006��S�S}���Q:a^�͛\u0003R~�=���\"�\u0004CG�%\u0017\\��^4�Èb�is��7\b\u001a��t\u001b�� �M���\u0004\u0004Rz��=;��ɡ%\u001b\u0012�8kp7���\\��[����b�=Oh�ڌ���I�oEɧ\u0012���\u001fn�vS����JY�yV\u000f�U.�6j�CW����]sg�k��\u0000}v��`sT�\n",
      ")4�B�\u0014���t�\u0016=�YxS\u000b",
      "��m\u000b",
      "�&5�\tY�0S\u0007h�|^*u��W)�sMO±i�\u0003\b�,�n|2�-����b \u000b",
      "���\u0019��n�C \u0006I��\n",
      "y�����\n",
      "2�\u0014�EU�\u00109�3�\u0002�/�Z]���\bQ3t\u0001��G9�0P�A\u0005��\u0018V\b��3.F��&/o��J��b��\n",
      "?k�1���M'�����\b�����,.%�!�~R)�38\u001b�?��\u0001�}qd�`\u0000����p^�t��ڸ-\u0007���H#�\u000f`��eM6s ,3j�@��E�/��\u0005\u001e",
      "\u00026�w��[��ο5B\u001a���Np��Bf�!�\u0007���=a���\b\u0005�l\u0002.��o�\u0002b��?���R�ɗI_����H�T1]��f\u0016s�Ȥ �\u000e��\u0011��\"���:L.\u001aI)�P��$��\r",
      "�He�C��J�b���Jŉ5pA�\u0018��6���&�\u001e",
      "\u001b ���[�\u0005R8�h\u0006��\f",
      "�4�\u000b",
      "o\u0012Bt?\u0011D\u0000\r",
      "���tDLk~`���\u001e",
      "0���:��]J�\u001c",
      "��\u0005�qUF/����k�y\"A�f\u0003Gl�����J1Zm?��Pҕ�ze��\u0018�\u0016$��b��b�jɠ<C�\u0007�K.\u0017�\u000b",
      "m�\u0012��\u001c",
      "\u0011�%2\u000f�&�0�S_0�T�\u0016�V��h4��\u001e",
      "���7v`fU�\u001b�9ϥ\u0018�a�\u0018Ic\u0006�=2#JZ\u0006\u000e��Ӝ\u0012��\u000b",
      ",�`\u0002�H�=\u0011��z��\u0013}��\u0012����È�p�\u0006��G-���\u000f���>�,���\u001f���\u001e",
      "y}Qbٲ\u001d",
      "���˄n\u0019���_$M[{?S3�\u0003�o�\"���\u0006%{\u001f\r",
      "�gf�s�\u0014�b\u000b",
      "�u\u000f.Tq��':B:�^&*�&��0�T`�륋j\u0013�\u0002�:���\u001e",
      "B��>܃��\u0012T���0ؚ��M*�f�0�/o�\u0003s�C9��/F4��\u0011T\u000e\u0017�\u0000���&\u0017�\"�n�\\�Q�܎\u000b",
      "�ILe��`�\u0012\u0001��p�\u001f���\u0003LrG����i�JI�\u000e��\u0013\r",
      "����N��1����s9�}�)l�\u001a��ot?��A�5�\u001a!����\u0012�\u001d",
      "\f",
      "���J}�J7\r",
      "��ʧe\u0014\u001b�e}���l����f�IVK\u0018��7��D��\f",
      "�}�Ɵ���\u0004F���*~?�+�q���ʐ۷�ϯ�y��`*8؂̳�6���\u0007^\u0014\u0014��\u0015\b����RUۧ|�5�\u0001�\r",
      "q��Z���RG����2�]I\u0007�|�A\u001d",
      "P\u000fkbm�\u00169%�OJZir\u0015\u001c",
      ":\f",
      "�*O\u000b",
      "ϻ��\u0002�H�+\u0002\u000et��I1�$�e���\u0013��n��cUZ��(F��Cp�P�nԺY\\��Lc��\\�Qv%�v1J�Y�I��m\u0007��t�VJ\u001aF���NSB�\u0017��\u001d",
      "��e��G���?�\u0016VP>4��\u0013\u0010��M\u0005�%J�����v\"�|zJ��Pn�K�\u0012�e\u0004�\u0010���\r",
      "��?��jݕ�\t��U�\u001a.�\u001a\r",
      "2���\u001bf�t�``���\u001b\u0010\u0006\u0005��X�SO{u_ѕ\u001f�/Fa��\u0002\u001c",
      "PA}�\u0012�\u0017ю�\u0007)�v�A��\u0010f�ƖK�)\u001b\u0000\u0011\r",
      "�A�M� 7����\bE\u0015�$.�\u000b",
      "�e�\u001d",
      "|S�����|�0���+�s�r�]�����_pM\n",
      "�K�_O�ްVz\n",
      "\f",
      "���h�w��2��\u0011��\r",
      ":_T�'�����\u0011����/�0��^�'oY��\u0014��K�\u0000{`U�\n",
      "t9:��\u0000ϥ?\\6\u000eUz\u0018��Zn��yY�\u00070?2�G����߿6���1��,�+�䞴\u0010S�u��\u0005����\u0016�j�Q���0ף}���]R�\u0006|>8��f�^V��t(����\u00190@\n",
      "\f",
      "<g7\u0003ƀ\u0002c���1��0�\u000b",
      "�\t�,�\u0002[��\u0005��\u0002[�����\u0005Pv���gBX,�����\u0012��~��A��3p&�!�ܺ\u0000��X����\b�$/0��/i\u0015\u0002�U�;��\"B��(�1�|����g\u000e����<\u0012�*@\n",
      ", �kp�������*�f�x����\u001c",
      "tB���|���\u0010�M\u0018`t\r",
      "\u0019^�\u0003g7�;�\t��|�����e1�:u���B�gs`�i����\u0007\u0000�_\u001b�x��+R�\r",
      "�R����YF�]\f",
      "��5t�N�T�l2OR\u0003\u0001��y��\bO�\u0000吕�\n",
      "�\u001d",
      "�\u0012��8]��s�)��`P�\u0004$�8T��\u0014��õk�M�\u0003�6,\"�H:�!?�8���h�B��]\u0006\u0014\u0012(�̦�<j��\u0013�\u000b",
      "�\u0018D��\u000b",
      "���Y�M<��g:9?\u001b\u00001\n",
      "s�\b��I��s\u000b",
      "�Р��\b~\u001f�z��\u0004P�UTr��xf�%�[\u001f�Ȑ��8d$I?A�\u001a\u00159�Ȱ�\u0007�I�ƌ&�\u001c",
      ")�d�y��$C~2�f�\\�Sa�\u001d",
      "��\f",
      "s'�k���\u00159\u0015\u001c",
      "��\f",
      "��ٽn�O�\u0014\u001f\u000fX�\b�c1����Q/.\u0012���\\���XŇ/���;��`ڿ�~mZ��*2��u1ۣ�1��\u0007sI��\u000et�筒\u0004\u0018d:ms]�qm��CC\u000b",
      "\u001e",
      "*C�\u0014�bj�hU2�%�u�P�\u0006S��mP�,S�\u0015�\u001aS���*{�f|� ��������!�\u0000\u0005O�����\u000b",
      "�%A��v���r�C�\t\u0015��\u0016�ŧ`SP7Ok���1��5t�Z\u001c",
      " a[x�z{q���\"�x{s����~�L_d\u0006\u0014�)��ru��mF\f",
      "��V��\u0003rb3Y�ջ�����v��!I��D*�䓼Cz�ݩ\\�b+\u000b",
      "/j0��\u0000\u0000�i�Z�\u000f\u0003l��\u001e",
      "�䁿�AI�_�uY�e�A ��Y�DC\u000e�!��*ӥJ�*HQ��/j��L�hI&m\u0017�{�������a\u0016ˎ\u001av�p��9�͟?3�{�*�+X\f",
      "�\u001c",
      "�wg�bZ���A�pgh\u001a�xE\u0010D�h��gf9P\u0004Q�`(�(Z�5\u001b]Eզ(��\u0005�\u0012��(ꘔ]��\u0000z�㕝&�j�|��oS\u001c",
      "�\u0018�\u000b",
      "��{�\r",
      "��|m;��\f",
      "��\"�X\u0016)���!ߗ�\r",
      "���%\u000b",
      "U\u0003��}r?����x��ן��\u0016o����]\u0010\u0019vCA������\u0003����N��0tKv����G��x�S/�돟�o�\u001f\u001f_����L��c�˥\\�W1M4����\u001e",
      "o������W(��[��2-N�9��4��`?8�lǨ8\u001b��:U��i����܉\u001d",
      "��ĞF3�x�I�O�\u0014c�)�>U�⵩\u0013u�\u001e",
      "|3yJ��~�Ku�M��n��R1\bU���\r",
      "��Jc��r77�B��mQ�\u000f\u0016���<�(\u0007X������\u0004��$��\u0011���ԏ��Z\tK\u0000R�PI\f",
      ";�ϡ}���[\u001d",
      "��=y\u0019���\u0011��i�)���qr\u001c",
      "���2j\u0013��y2͋�b԰x�os�O�\u001a`E\\\f",
      "_\r",
      "\u0001\u0013߇�[�v��j{\u0011�\u001a����\f",
      "\u000f�S�I \f",
      "q\u0010x\n",
      "%yuC\u001b^1ڡ��0Χ�������0�ỿ��*�y2\u0013ԫ�a�d�Wۤ ��7D��v!i\r",
      "\u0017Ħ�n\u000f/#(L9D*�`F���t$7��\u001aϴ\u0015����7\f",
      "T*,O��`�\r",
      "�K����``�-GPȳ\u000b",
      "l/s�,}\u0006G�:O �6�\u001d",
      "\u0014w�\u001b<�Fg���ʍ\u00118�f���ے\u001c",
      "�������Ix+�\u0011О�pa\u0004�3T�2\u00058��ڎf>B[�+�Q\u0003WG�Y�)����\u001a��rT�1\u0017T���Q�T�T\u0014UF\u0005f9\u0015�\u0015TS���\u001a��\n",
      "���\u0005�0+@\"S4C�A�\"C�@`\u000e\u0002u\n",
      "\u001a�\u0000�R�F]�@&Q*�X(�\"\u0007�RQ�*�(2\u0014��Y�\u0015\n",
      "\r\n",
      "�nPqT\u001c",
      "8�\u001c",
      "\u0015\u0007��\u0000\u0006�8E�Qqʑ��(GU\\r�\u001a���i\n",
      "�4CƁ+��9\u0016\u0005h(P�g�8h(P�\u0006� CƁ+(P\u0003�X\u0014\toZ}�j��f>V�$�]�uø̃��\t��4�\u0018|k���,�1\u0013�\u001e",
      "bO0��j�\u0012�\u0000�Oxg�8X��U��v�\u001c",
      "%h̸���Ń&0`�|�p`�\\\u0000g�\u000b",
      "ȐsИ\u0001?|CQ\u0016(\u000b",
      "��\u0000�L\u0000\u0003��_�\u0000��2�)�\u00058f\u0002��X\"�%*�\u0015�\u0005(̋\u0006XC�\u0001ʂ~A5j�\u0019����4]7�(s�9���qR�G|t\u001f��0�\u0019�^�z*�\tZ+\u0014�(�X�\u0005�;\u0016�1�`&�ivp�=���6H����+\u0015�r\u0015\u001f=�:i\u000b",
      "�U\u001c",
      "y���Kb!=&\u000b",
      "�|��Rv\u000e�@\u0002u\u0015W#��D�aеA�\u0000�<��\u0018]@\f",
      "\u001f �\u000ef��\u001c",
      "��N�\u0014q���z#�\u001b��<؈}\u0013B�����\u0001ҝ�s8��\u0002^�!R�\u0017�\u0006�^���\u000e�\u000f�\u0005��\f",
      "�\u001b����R?ƈ{l���\u00063/��a���\u0018���e7���X�q��?��uK_F7۸G�WÍ�G㺡�k�>ey�iH\f",
      "�u���2��X\\�rHLݣ�|R��C���������lcQ�\u00023b\u0011�Q�K�Y�\u001bR�\u0007�p��D�Fw\u0013��o����p�K?�|-xST�g�;�Z�(h%Bi�Hb�FP��P������ߙR�\u0016�\u0013$<�H\u001b�¡��P��\u0003d(\u000b",
      ".��*�E��t��?��\f",
      "���\u001d",
      "\u0018?�d�X_�µ�>�׸\u0010���\tC��\u0002��f\b>t΀�S3M�MFl\bZ3���l&���볉6U_��vs����I}Q�3�6I��s}R���K�I��Q/N��:#��&�n�Jb���\b8�\u001d",
      "\\ߕd�q\f",
      "Ct��%R\u001b�ԉ�1\u001b�AV\u00130\u00159\u000e}�5*58Л~�0V�co�&�\u000e���@\u0019#�ɅI�l\"�@xZ���\"�fI\u0012Q����\u0001�`꽢7\u001f�$�?\u0006�\u0007�L���\u0015��P�M�o&1�M��&�e\u0016yt���rv/\u001f��5\f",
      "\f",
      "X�3��X��\u0010bG��\u0002,\u0003nF�Z>򂋇5\u0012̕}^���,����kw�j�p���\u0007~�\u001d",
      "6)�ۧ�1#�T\u0017ep9fU��&�a��}oA�\u0001\u0013ܿS\u001b;�\\���\u001b\u000e?�\u0018��⁅��\"�N&��ż\\���&��B�B�R��j\u0007\u0012\u001c",
      "�K��-N�_�\u001bh\t�T��\u0017�(\n",
      "y��1���e�b�����/�,~ޢ9\f",
      "�#�U�C\u0002�>�Ư\u0019�\t\\��׋X``\u0018�j\u0014�\u0000Mo\\��lKB'���\r",
      "\u0007Cuz#�{\u0002�Xa�-�܅KR�a�y��${�\u001c",
      "�\u0004�\u001d",
      "�u0��t%��\f",
      "u\u0001\u001a��\u0017��8h�O0��\u0005h��;|�\",d���\u001c",
      "_�Q,\u001d",
      "A\u000b",
      "��X�M�ȸ�����u�_\u0001�\u001d",
      "�î��'\u000b",
      "[c�A��Q�w��v�\u001c",
      "r~�\t��}���/\u001b�ĵ�\b���!�\u001b�\u001d",
      "�y�_��*���\u0012��\u0004�h�\u0011,�\u001e",
      "\u000b",
      "6\"��ӡ>�wZa�F�\u001b�\t�\u0011Y����!.��\u001e",
      "\u0010v�-�\u000b",
      "�5�!Dt?�N����yrCt͇\u0013ճ�\u001c",
      "&\u0011\"��]owf�S\u0004���h\f",
      ";��c�\u0000uĒ\u0018#�@&�0�B�'\u0006�\"�2�qS�x3\u0011�o%�{@Z<�y8�\u000f�\u001a���l�\u000e�G3�K:�i\\�\n",
      "=5nj�}�u��8�����]��X�U0\n",
      "�\"j�j\u001b���jkf�Vo��\u001e",
      "&����x\u0007\u0012U\u0015\u0010�\u0000�b��A\u0011�����'۹8�)!UX�1���di��M���]����f5)X=\u0014'�U�\u0011H�nu]R���\u0017�;��Hi~\u0006�ԡ�\b���9B���1\u0005X'�A��\bP�30Q'��\u0010_�\u001897w8�q�%y\u000e���B\u000f��\u0001_\u0005�P�\u0000��C���1n�\u0005\"����\t����\u0012�`����\u0015e�����h3H/����8p�<\u0003.<U�sP��K΀�>��y\tE')��,ە�\u0015'5��ᤛc�\u0005\u001e",
      "W迲��/��<����f�\f",
      "z�,\u0007�����[O����\u0002�l����u������ �\u0010��Ϧ\u0016�..gKu�9YM�u\u000e˼L��\u0003��`�+Tۗ�\u0007�\u0001�2���`lu�Z%w]v\\%�buyx����gכH�0��\u0019��\u0001��\u0000]�\r",
      "H����n\u0007\f",
      "a��o��\u0001�dؓ��i!��\u001f\u0000��0W���\"�������w�[�8Ox\u0011��\u0007�h����<aw���5�WT%!E��t�Wu����c�0�6��`�.\u001a\u0004EC1$C4ܻ��-웜\u0016��԰x�����\u001fz*�\u0016�\u0010�\u0005�\bb�4�M�\f",
      ",��6�!Y��v�i(\u0006����h�\u0007�t��i����\f",
      "�m<�?]�F��h�iW�~��B`H�Y_��6�\u0007LD����\u0006zH����|^�ħZ�:�K��SS\b\u001b)r@'�\u0006w�Vc!�\u0000N�\u0015�款�����J�ȱ�j)WZ��Sf=a�@Շ��>��Q�\f",
      "Q�A���W�U_��\u0002V�m92۵��\u0013u��mI�\u000e�k�Ҙ�\t��,��fLZ��*Q�d��#�.��O���4P���ıa��b��Ȭd�\u0010\u0014�������30�H4���j���nNw5:f�q��\u0014�3�׬P�:C��p���C\u0012^&���\u0016�\u001e",
      "\u0012���\u0003�\u0016G�G.�;���S���7���P)w8~C�^�Q�n3�5\r",
      "���B$�4V�Y\u0015mR�,�f��x\u001b�_�Gǿ�\u0012s�R�h$�򻉝p�X��tM�u��~�\u001d",
      "H⼉\u0007{���I��\u0007ņ�dX���� �\u001aQ�*G\u0001 ��f4M���u�a\u0001�*��&}'�4���\n",
      "L��n.\u0002\u0018��9�\\����\u001c",
      "�1Y\u001e",
      "��\u0019z:���X��\u0019F'���\u001c",
      "\u0017\u0017�ĭJ/!�]}/r�p�칣\u0003\u0018\u001f�}C\u0007\u00193\u0010�\r",
      "���/\u0017eYłԪd@�\t\u000b",
      "\u0012�}�mA��\\���\tp�b��);�y��7̔��,��T�\u0013L�\b\bns\u0019���6��\u0002��.\u0016N�dR��\u0013K�Ke\u0013X��k��p\u0014�\u001b+�[�\b-�pڶYӺYM:9�.rݤ\u0017�����(�$��!�\u0002\"!i��+�ށ�\u0017�\u001a9{3��P\u0016\u001e",
      "��|?\u0000s\t'M������\u0001�Dp\f",
      "���KF6���j�~A\r",
      "�[G�\u001b�p�!�h�@d��\u001e",
      "$gRt\u0014�C�ߡ�\u0004�D$�\\Ȓ\"���d�m6�\u0006���<��*�w\u0010��D��9���\u0001�ɡ(�\u0015�2t�a\u0001^-I���Ӱ\u0000���}�G/�58�-ǒ�Q�\u000f\u001c",
      "#��\u0017\u0010\t���$�. Wǹ08ͽ�e�f�%��|\u0001��\u001a�B\r",
      "\u0014��h8�SH�,g}�Nt�c\u0002\u0003\u0001t\t\u0001\";�=N?\u001f^B�/\u001e",
      "\u001a�Т��3�\u0000�t\u0005\u0019�� v\u0016�W#�1\u0000��B\bv5:!O�Ȗ��8?\u0005�A�`��p��ਁc! ���\u0004'��r2����\u0015�ñBd\u0013\u000f�O\u0000�5\u0017���������\u0014�\u0017r�~$K��ۉA\u0019\r",
      "�*:r\u000b",
      "r�v���\u0012�)\u0003@mVˏ���b0f\ti!�l&\u0002\b&'�\u0010\u0006a�N3��h5(\u0012Z��0�� ��?��H\f",
      "��a#h\b�\u0001�<�d�O�\r",
      "h7�\u000e���_�(P�$��­\u0017x%޿\u0007�5��Ӊ]\u001d",
      "mٜx�42K����h��XuO�\u001b�\u0003�\u0014$�H���Y�ݺ������ۛ�~���A�|�_/;`�|?��I\u0014e�\u001d",
      "�\u0017�!\f",
      "`�%E����Yt��z\b�\u0001W\u001d",
      "���O�( w�m.�i\u0006�N,���\u0016IV\"�A��9\u0016��3\u0004�\f",
      "|\u0014K\u000f���ǒD`�,\u000eͺ\u00016EH&t�5�iM߾�R��]�z۠釾_-\u0017�̘��X�,��b�\u000fa\u001b�Y\u0019�p\t2\u0006��[\u0010��@9�-W\u000ep+�O�Z`��3���Ø��\u001d",
      "dÅOdc/j �'�\u0015R���M�\u001e",
      "�Qi\u000f9\u001a��\u0002\t8�uC��e\u0010\u001d",
      "�`\u000b",
      "\u000f��\f",
      "�Zt��p#���a�<���K�\n",
      "��ēB$��e���8\u0002*\u0012G�0?F\t��$YY�>��\u0015^eGD�G%� ����z\u000b",
      "忥�~��Z_-y�rxdcp��2H�@�]�0=�.]�(�2� &O��;|g�h�3=8�^��\u001f���DĭA�Ώ�\u0015�ǆ��b�-��\u0018d\u000b",
      "��[\u0016�f#tޞi��\u0000\u00159H\u0015s3&�՗�\b\u0012�\u001c",
      "9Q�3=\u0005\u001d",
      "\bMϟ��/0�c���Q��`)P�$R�\\���v����j�\u0013\u000fh�F��x1��jX�\u0001��P-�%���\u0007�Q\u0015�\u0004#����:F\u0011iŨ�\tI1r�7�6\u001b��%��B�w�0Ճ\u0017K �)0x�_\u0002�d��\u00188O�O\u0014\u0012��\u0017\u0013����j\u0006ǰ�t�iD1Uh&\u0014���m��*}٭��Y��R-ÒԐq\u0012�\u0010�eI&�C�1��N�,�ft���\u0001�?\u0000���תv��b�8��n\u0000��>���G�\u0016��g����\u0013��:�\u000e*t5E������\tOP�\u0019E\u0016�\u0011({w?1�i\u0013D�\u0019�*;�̵-\u000f\u000b",
      "A0��\u0013\u000f\n",
      "�1\u0001Am\u0013��\t�Ub�x�D\u000e�9���\u0010�!�u���5饕�#���6'\u0015���&�Tf`�g\u001f�,襯�t��� \u000e�K�\bffP��b����τ\u0010\u0011@��� ��f�\u0019B���,\tQ3��W+\u0004f�\u0011�c�\u001d",
      "��ꃻ#���u�~�?|\u001f��\u001d",
      "F�!lz�\u0005�Z\f",
      "�\u0019۲\u0018#��v\u0000\u001d",
      "�Dx�N�0�_\"\u0011�����\u0017�c�\u0005\f",
      "�\u0014�p�a\u0000�v��__P��̠E��U�Dԏ��\u0012/�(4�9�\u000f��b1\u001a�\u0014��o�4��� �Y��7\u0018�\u000eȜ\t=�q\u0010�%�\t�\u000b",
      "\u0003�`5i�b�%q���\u0019�\u0019O6T$\u001a��}��P�f \u0013��<��?U\u0011���Vo�8��$\u0016���lu\u0006\u0005,�\u001c",
      "=\u0002��\u0002q�\f",
      "t���\u001d",
      "Z׷���\u0003�\u001b�0�n���зЭ�\u000eȢ\u0005Wa��a\u0013&G\f",
      "rߙV�����l��Z�`�$������B�`'�F�\u0004�R���#/5)�����-\u000460Q�YM\u0007x\u0017o{M��\u0003�L\n",
      "!�h{�\u0016�\u0015=\u0018�\t�Z.J�ne�sm�\"R�7\u001f�D,\u001e",
      "\u0006�Ȏy��\u0007Fb\u0005��K�6\u0002�f��$\u001e",
      "\f",
      "6)l�\u001c",
      "�⪶�ɦ���\u0019��?C�ط�ĢF���8%��f��@ǑR���$\by��FYs�Q�\u0010�\u001e",
      "�\u0019\u0005��C�\u0007�\u001f��x��q:ޟ_M ��%���\u0011.���\u0006=�#�,�]na�qd_�S��&W�mN�&\u0012���\u0017)^bQ���^��7�h{$_\u000b",
      "�6�B7r�<cYEH?�l�s�a�\u0016]|>�Mr3�_m\\�zpnt�a\u001c",
      "�Ҵ�y���<��&��W\u0016ސ���\u001a ؘ�H%��m9.�#���g�\f",
      "�\u0017C��������d��\u0005\u001d",
      "̓bzy�=`�D?��l(j\u0016js���4�\u000fj�J���nO�ϗ��\f",
      "z��J*���\u001fp�/~a�\u0014�A(�Z���\u0014؛3K�\u00175�\f",
      "3��/e)+i���/R\n",
      "��U~��+�\u0000��H��~�k�q\u001d",
      "y�M���7���,\u0000{\f",
      "�ֆ]V�\u0015d�\u0003x\u001d",
      "��\u0000�\u0015h��i\u0014��j�G��\u001a\r",
      "���#~�JL��i��J~{,r[���g��\u0001���Ô�sMq\u0011�\\L�T��g\u0012�Z��v}{Q�^}�O����q)M���5E�Ø�\bk��^L�b�\u0010�e��'�B�I�r\u0000[�g^u\u0011\u0012gn�W��w\u0011��\b��J)dc\u0018�p\u0011{J�\u0015kQ�05��\u000f��#騏j0\u001b��Y#!\t�\b���>|{c0i�0��~\u0013��m�^��ݸ�����U�/~\u0000��yt\f",
      "�(\u000e$q�����\u0001t�倥�S�\u0006�r��H\u0002�\u0000���\u0001\u0000��_�j\u0007\f",
      "�J3�����\u0001���\u000e�$�\u0013]:a�r�\u001e",
      "c���%i�)�)\u000e��4�~�up���\r",
      "�� !�����\u001c",
      "\u0004>\t�p8��tG:�wߏ���Ug�X��f�i���\u0018\u0006�6M�b0DS��~�j2�n4ڃՍh��c�\u001a�<��?*jUh��@\u000b",
      "?�R�\u001c",
      "��N�\u0019-�\u0004����ֱJ\u0005���i�g( {� $\u0003\u0007s�k��Qkw k�����2��\"�]��ߒ�)�k���ј�0�J��(\u0015\u0017ơ 2pY�h=�O,�MXCZ\u0012 �\u000e�\u0004d�BS�\u0017���S\u0005�*B�/y�<��_}Q�۵����������R����\u0017i��L\u0001���\u0007\u0006�����\u001d",
      "��<�S\u000f+\u0019\n",
      "����}*�ǻ?�X0f^+5�L�!�\u001f󌿍�>\u0015dd�o��Mv4\u000eY�yF́�f�Ӿ�:�\t!0tn�Y���~�\"\u001d",
      "���-C���>\u0015�2~9ug��$���\u000fei�\\`.C~\u0012�\u00182\u001c",
      "98?�6.[���2�I@�:�*0.[n۸�\u0004\u0019.y��1�\u0002\u0005R�\u0005A����n.D}0���Q����_7������\u0014=\u001a�4�\u001a{��!\u0007�=��\u001c",
      "^�\u001a{�&=G.�S\n",
      "�pȘ�\u0014��`\u0006Nb�1,XIR>�D��l1�\b�&D���#W\u0018\u0004~�&�����jI7iP�a�d�\u0006I�6�XK��\f",
      "\"��4y��e&2\"^&5�\u001bZݟ�?�R��\\�[i�a|���#W\u001c",
      "\u0004\u0017i�H1���B�\u0013�70�\u0018�w�ԝQK �r��~�H��}�Z�q����(�@*�0�f�\u001c",
      "�Q�q����P�͛7w���]����_��J��\u0019���F<�\u0007\u0007\u00181����AZ�^�����k�J{�A?g��?��)�fY�_�/�\u000b",
      "*��٤r�>Y%6�\r",
      "�v�$���M�>�� L\u0017�i�� \n",
      "M��{9ug�T\u0012����8�J�\t]W\u0019\u001b�}�u�e˛x�����\u0005ĝ\u0017��$|siw���\\�\u0013V'i�#�m��8�lh�.��ƨP��+\u0002\u001b\u0014��+Y�B%���a�\u0007�<?.\u0003(��\u001c",
      "��|2\n",
      "�QM\b!9}R�\u0002If\u0019ҭ\\�\u0002K�_R��\u0014}<�$\u0015�Ȗ��T�㬖{���J�\u0014��b�ó\u001b\u0012�\u0017\u0015����xw�`�\u001e",
      "�ʠ{{e���\u0007W6(�a�a��m�!S�\u0012�Ni\u001c",
      "2N�R��B�R��l\u0019�\u001e",
      "<\u0002�*�)�a�{J�p\u0006���j%�5��4~:#�Z��rƹ�|G@4>�P[���)�\u0006H�;?��\u0001\u001e",
      "��}�����?\u000f��?\u001e",
      "��X�����Ky0�K\u0005��\u001e",
      "*qރ'$�\u001c",
      "��)�L�e\f",
      "�#�^��#�9SP��~�\u0015�/;����E����\"�����|#9j~�X1\u001d",
      "|s����gj�d#��deFp\u0007�ԗ�}�=_&Y>u�5�XJ��\\��e�J��H7p^\u000b",
      "�\u000e\u0016�(P��ކA�:\u0016�A\u0005�\u001d",
      "g�z\n",
      "\t\n",
      "��\u001a�\r",
      "\u0015�{M\u00164٪a\u000f�\u0003+\bd��o�\u000e}S���\u0003'��7�OQ\u0018x�S\u0000#�ԓU8}���;ǥm�Re�\u0002�j�O�;�\u0014@�\u0002�\u0007�d@�R`ȁR�)\u001c",
      "��X\n",
      "`)\\!\u001d",
      "�,��\u0014\u001e",
      "V.)ؾ�\u001d",
      "�'O�~E�\u0019\u00058]f$\u0005�^�\u0003M������'w\u0004\n",
      "\u000f\u00068��`�1�\u001e",
      "<9P�-P�!@�CM�ɓ{P�7��&\u0006ؑ\u0001�֓�#9\u000b",
      "LV���\tt@y^V��îG��,\u0004x\u001d",
      "#��\u0004.{d\u0005^,l����$\u001bfbG�h�\u001e",
      "�h���z�0��\r",
      "2�#�F\u001d",
      "L\u001d",
      "Ӹ|�øІ�T�U���\u0002\u0002;-�\u001d",
      "`\u000f�#h*\u0011��fF���쁖�hR\u000e&�k[&�z3!\u0005k7G�`�*T�\u00150�\u0003����|<\u0002i�;\u001f\r",
      "E�z$���\u000b",
      "\u00026W0#\u000b",
      "ts(��<\f",
      "E�}�GG!@ ��\u0005���w�L. �\u000b",
      "�G�\u001a�[dr\u0011\u001d",
      "�Q�\\�?\u00148Ȳ��\u0003EM��\u0014�]/�L:B�h\u000e\f",
      "��[K�d^�\u000fX��ʾ�;tso��j&�-�r�s�\u0003��\u0012G�﹇x����COA'bMƓR�Ĥ\u00020E�=\u0005�\u0001��#1(��{��U�A\u0011G$v�) \u0019\u0003��FR�\"R�v��\u001e",
      "����5���\u001a��&�P���\u00022i�=* V�d#��\u001f�1�!�У���Gڀd\f",
      "RD�d1\u0001)h@h�H\f",
      "�\u0011I)db�b�H��=�e(5$�Ӂ1��\u0011;�\u0014�\u00184\u00144)�\u0014\u00010\u0013��`�\u000ff\r",
      "LZ#)\u0005���+f�H�\u0007\u0005�\u0006�l��a6���Q v�)h2�\"�e&\\2�j\tR;^�׍o�pe\u000b",
      "�\u000e�w�;�����\u0017�K\u0006j\u0005�/�#��p�ӵ�Ġ\u001a�ԝAok+�Zx�'�R�Re�\u0012�ǿ�\r",
      "�����\u0019�v�Ϊ�J�襬���:�\u001c",
      "�m{+���xÐao\u0005�u-Ӹ���1S)�Ƭ�\u001d",
      "k�^���ĜhNQ\u0002hY�xHj`wO���4�H�\\OKB��󣌭d���\u001a�\u0000\n",
      "tF9�\u0004�*h0�\u0001\f",
      "��\t�ɐ�hȆ�\u001c",
      "��\t\u001d",
      "8t�:0\u000e���(�+hT�\u000b",
      "�rC�\u0002��\u0011�Pe�����zЯ��;�m�O��asD8?�\u0016c��I`�~\u0010�\u001b?�T��r��\u000f{m��4\u001e",
      "5�\t�\t�?\u0000����U�\u0003�\"\u0001�^���\u0019\u0002�A�\u0005��\u001f�{�\u0001:a�4|��=$�|�Z��\"U�4�\u000eH�����/t�S\u0002%�CN�1a&�����][q��u3]07@t\r",
      "�l�w����Hք\u0014B2Ĳ\"�HQ��\u0015�\r",
      "S\n",
      "��A�\u0013��#0(�]%\u000e\u001c",
      "\u0016\u0007Sx;\u0014X\u001c",
      "�#Դ�i�:IM>6��a\u0003<�\u0013.�!ل[\u0014\u0017o�\u0004�O)Gt(�\t)�\u0007�!�%#|\r",
      "�\"�\u001fe��J��F�(����}t\u0004o���_J��\u000eys�q�\u001c",
      "�{9�w�pmo��\u001d",
      "�궜6>�?�\u0015ފ�����ͷ̽n��G�c\u0017>%\u0014�\u0003\u001d",
      "\u0013d\f",
      "�]���g����x���F~\u000f�\u000er\u0014�����\u001d",
      "!`c ��H� N\u0004\u001fR�\u0005A�Ax\u001d",
      "\u0012�\u001e",
      "e\t��\u0001@�>>0\n",
      "A�\u0012�d\u000b",
      "jR�!2��_��\u0017\"A*�t�\b��\u000b",
      "�H���&�˽�\u0002�m\u001b��8\u0005��8�\f",
      "�q\u0011w�8��m��߱e�/!\u001e",
      "(��m���Err�\u001d",
      "[Z�\u00122�|�;.��K��`�������A����\"�ya�y6\u0014ð]L�]�\n",
      "\u0006=)oɨKl'd���\"��蠋�\u0000cr�6.��c���[���m+g�q;BF�����ء�����V�qk���P���������W����!\u000e�v\\\u0011\u0000���%���]�\u0000�\u000fW䝰��>��\u0007\u0000o��y��~l�\\\u0002\u0000�g\u001f?�w�{O�*�\u0017\u0015ϑw�ל�\u0010R�\\O��|B���)��+2�\"�+�?��J�@\u0005����\u0002������&|�\u0003S\u0012V\b)��%���\u0012H�B<Iq�}��\u0018��L�Q��Gq��\u0003�|]6�8���e{6�4�ꉷ�эx��bJ��>\u001a���ǎ��\u0016Y��]���̧\u001b)�.vI\\\u000e�. �4޺$.��)�ޯ���R�ӷ`ȹ�3�.6��9`�!?m���ϐ���I�/�\u0017�<·�\r",
      "�����\u0000*�F$\u000e�U���F��>�7��#���\b�#�ſ�\u001a\b߮�L����Ow\\����I��\"����I�NuZ\r",
      "R8,$�0ʜ��G���\u0019m��0]\u000b",
      "��\u0005\u0019]���65}JַB����%\u0002� 7��gB\n",
      "��(/EXA�z]H�8��Q�EL�na\u0016#�-{0҄\u0014G�R3�H��h ~�J��\u001b�=}��R�ﱆױ��RC��\u000f�}�P\u000e�\u0011�����l{2�\u001f���\u0001k�K����;�ӻ��n��)(CX�\u0017���~�O,�1]7v���N\r",
      "Mod��aP�4�Ζi��\u0006��a�k\n",
      ".��e^�4�>�L�\u000e�\u0007\u0012�y��Q�/�K��p�L;�:����\u001ac�x1���2�\r",
      "�F�n\u0004uk\u0002x�e��w�\u0019�\u0019�Cy7���-�x�Ȑi�Ӽ~;�g��>�Q���<�s�i�)��63��\"h��������\u0010�P�8C�Z��\u001f�\u00019A&�\bI{!�D��Ϳe�w\u0003&\u0017�\u0016�u���U�5v�\u0010ºʸ4D#��Q�c\f",
      "2\u001b\u0000�\u0001�g��[�L�>��~\u0003I\u0018��#mǉ�����\u000e��\tL\u0007\t�\u0019yJ�3\u0005()�;���'Ѝ�\u0005��(>�#���\u0001�9�p�_��Ռ�\u0014��k\u0018{��lE/��Ќ�lՠ����oVQ�U�m4v$�F�U�jj�D,�n��1h,��5�<\u0012��g�\u0000����\u0002�\u0002\b\u0007��\t0\u0016?��$�\u0000{�\u0016��b\u0000\u0016���z����e:o\f",
      "\u0010\u0014\f",
      "��s�5�e\"&�\f",
      "g�\u001e",
      "�N��\u0012p�'�1\u0000&�S<e+�\u0016���S�^\u0000'�%\u0018�:�lb�pl2m�3�\u0007�f�/�%��fY\u001f�j�n\u001c",
      "�\u0019���Mcus��\u0013�Oe�7i�Ļ��\u0015�\u001a��X�\u0002����7�^�+E\u00173�_(v��\u001fs\u0019��u�%X�a�4��#f\tK�\f",
      "����/�\bҔr�\f",
      "5@L�\u0004����GO~�De�(�lĚB�s]�cъ�\u000b",
      "Me��Cn�A�ڠ.��i�q�a��^7��Y�_\f",
      "a,��NC4��9tR��{�m���悾\u000b",
      "'��\u000b",
      "\u0005�\u0000��ډ�\f",
      "�p@\u0001\u0006����3p\u0007'�I�C:�/��G\u0004�%\u0013S>c�)\u0006��u��\u0012p�1Lm�\f",
      "�RĠŦr\u0006�D�7M3�r%m��\u001a������ԭ��\ti�~H\u0001�K\f",
      "���\u0006\u001c",
      "��Δ��$\u0001�PY|\u0016p\b��~����q���T������>�՗Z�n�\u0019���#�\u001d",
      "{�9�K�Ta�>�\u0005��\\s�l�e2�1\u0011�3�}��jt+��豗�QfPR+�w�(�jZ�{7�`3�\u0000����h�\u0010�rLԙ�);���\u0010���G�S��1�*\u0015����>8�\u0015\u00022>�� W@e��\u001a`J\u001c",
      "n\u0006ZR\u0003\u0013\u0010�p'�I�_\u0005�\u001ba��?2�\u00127�\u0004�)\u0007����\u00062Q\bA{K��n�g�R�R����\u001b�Vz�\r\n",
      "\u000b",
      "�YE\r",
      "��V��QSSF�y�\tj�d�G�\u001c",
      "\\\u0002ZC���qh�)E.�BVjX�\u000fNB��\u0011��z�%e�<g?�?�Gb\t�g*)#4�b��k�fO�-�@��\u0006��i�\u0001!T��\u00122\u001e",
      "?�K��%xE\u000b",
      "��9d\u0010\\E�'���C�S�i��Qg\u0004\u001f\u001d",
      "M��\u0003Rƃ���ڝ��r��|b��\u001bX{�G�;U\u000b",
      "e��-]\u0004.�����uo��\u001as�G\tLل�SB2\u0004����ϣ�ju\u0004����c]��o��\u0004i.�q&�#J^�g�ӾT��ϔ1��lF<�8֖CT�/\u0003.\u0019Frh�g���\u0015c���\u000e��l۪�u;F�{R\u0006���\t*�e�E��7����\u000f�!,4#|8�\u0007�\u0012\u0012�P��(1�y\t���%&X�Syn�tLy��Za�){k{�g @W�,c\u00124�Љ�\u0017�KTÀnl�\u001e",
      "����]F�:�`:�F\u0019�t��M�~e\u0004�\u0006\u0010$��q�U��>;��5\u0003h���S�j�����,G�\f",
      "\n",
      "�T?�\u000eX���|Su�I��)edBq�\u0014�Y�Q�d��/W\u0013\u0003���ݟ{L�����*�\n",
      "�\"X�8�\u0018�3�.� ���KOV{��F�Ϯ\u0017�5ʀԯ�|�������go\u0014\r",
      "�Vd:��\u0006 6\u0000G�Wa�?#8�K�\u0006\f",
      "\u0013\u0004�P\"&�%\u0001\u0005�R��\u0002�c�8kô�\u0019'j\u0016ja��J@C��{�\u0004ǔ1@��3]f�t�5$�r�&�/\tM������tk:#�V���Щ�)9�گ\u001d",
      "G�Sw{��v����vz%� ֮�\u0018T\u0013h�PG6�\\(\u000ezu2`�S�K��%�s�S��K��\u0005\u0012'(\u0014\u0000���}@��C-\u001b����_�\f",
      "Trz\u0001W�6e\u0004�OCab����2;�C\u0002\u0005��P!\u000e\u000fC�\u0013\u0005X����\u000f�_O\u000e������\u001d",
      "����칟E2�r\u0010�\u0016�g��LP�|1ջ^7�lvJ�\u0006慆�{z�ם՝mڀ�<�|.�n\u001d",
      "�g(��\u0018�ć�N5\u0005�?\u0000�i����\u0003_6\u0001D�\u0014��\u000f��v�\u0004q\u0016�>��\u0000ƈ\u001a=ӡ82�Rܽ����\u0005�R��Kd�/t�\u000eA�H0\u0002��D(:�\n",
      "����\u0017��&�.E��\u0015�\u0014q\t��Lŕ���.�tZ(\u0005f2\u0014�Leg�\u0014L����T\u0004�3\u001d",
      "0\u0015\u0006������p-�V1��\"\u0014Bcf�$t���B��B֒���9�]���o7�2\bl��P\b� ;����s�c8 �0�t��\u0003+\u0017A\u0000�w�\u0005�\u0007\b���|Z�gX�9�V�*���8\\ы�]\t���-�W?1>8�9�FI�ǃ\"$,\u0010��\u0014��\u001fn�Ho��[\b������\u001bk��b���{��k�k�]W�\r",
      "=J�M2�\u0006��G�@_߽:�.��_��Ȋ��\n",
      "��yKz��\u0007g�de圢�\u0005\u0012�B)\u0012��J\u0016l,r>\u001d",
      "��*!�*L_J�B9\u0017\u0016q�ŏ\u000f6������@���,���D;�nA�x�\u0016�w����\f",
      "-�m[����\u0002��V���=\u0004-��h�O\u001bo��v�������ŘQ�ԅ�6+\u0010�;Hp3\u0004Ұ���\"��V����\u0005��ߩ��w�m���M�?�\f",
      "�%6���T�،�\u0013w�<c�.Ƃ�\f",
      "uO�d])ZEv�\r",
      "�� �%��\u001f�GZ�!��a���=���!�n+\b��\u001b\n",
      " �\u0015ϛ��w\u001f���\u0019��.\u000e~R����7h\u001b\u001d",
      "z�U\u000f\u0017ӏڰ�t-�\u001e",
      "��׷>{����B���l5ڏ�Myvu,X�U1�9pf��\u0000s���Ua��8��x3��1��\\�^\u001e",
      "E\u001c",
      "��\u0014�3\u0010Daj?�L9y�~\u0017F��O�\b�=\u0018x�D����$\u000e��MX�\b'�x\u000f�v�\u0012�3���:\u0002�>�\u0006��F\u000f�4�qm�u]\u0019�'�Q���[g\r",
      "�����G\u0013u׹�s�!@��P�\u0001ͫM���zw2�0s>�ѭ�}\r",
      ">�\u0014�\u0014��'�dڏ\bYN�Rn��!�O��\u0005\f",
      "\u001b���f�;3\u00043�DS \u000e�\u001e",
      "ݭ/yO(�,�Wm�\u000f��*���Tƚ�k�.�rC34V��R�Qס�����w�\u0013�J�Փ�a�`tǷ(�\u0002>}��/����({�2\t%��U�\f",
      "t���e\u000b",
      "h����Y�\r",
      "��\u001e",
      "u~�\t��+cl@�\u0019\u000b",
      "e�7\u0018�\u0002N3\u0001�}T�/A�\u0010`�\u0003�)\u0007�*t�nBe&����\u0000�9�6]�+��G����\u001e",
      "��6����<��fls�x_\n",
      "(u��:�m��!�\u0011�Zj�\u000b",
      "���(���\b���]cX���\u0001v\u0014��A�f\n",
      "\u000b",
      "�=m�=\u001f�,�%�<�R���Tm�@��)͙�%�\u000f|ſ'����˞\u0013y����\u001c",
      "&,g\u0010���\u0019c��o\tf�M�+���k;�a���W\"��G'ߙ�n-j�*&�-_/�\u0016\t����z��B�#BX7�\u0005g�\\/@���tL~��BkH!a\u0005�`3�\u0001���`���R\u0012�\u0002��H�q.���8\u001f$�=�X�#m�\u0000<N1���S\u0002�+�uW\t�\u0019d���k�kSY�;]��\n",
      "l�k\u001as��b��tcc�Q%Tw-6�\u0013�I1�\t\u0016\\l\u0002�\u0019p\u000e\f",
      "l\n",
      "�\u0002��o�\f",
      "���\u001aC�Ҏkf�f\u000e+�қ����JI0.jx+�a��\u0015S�\u0005��g�I�ªx��h�\t�����g�Ԯ�$�7���S=�~p)�\u0005����\u001a\u0017�:D{1����\u001b^8&ݚ\\��W�\u0017\\��G@��j��;%V�\u001f��U\u0015�$����\u0013�$�w�&4�ѡ�k�n���-��\u00077\u001bgx+���\r",
      "\u0000p��?�m��\u001f�\u0019�\u001fg\"{�r�{ўy�]��g\u001d",
      "≠�[�Ϡ\u0013���Ӽ��7z���`\u0005�3�\u0017����Lp;� 0�}\u0013y\u00129\u001fs@���f*�%�X����\u001e",
      "PC$�[\u000e4�L\\O3�!��\u0000��Uk\r",
      "��Z�/�{&�\u0019�Xg�4��x��\u001e",
      "���\u0004��z4���b\u0015^9g��5f\u0017���c�0��Γ+\u0015��B\u00041\u0004���\u0003n���?ӥKe�l��\u0006����e�8\u0002�[�\u0001�\u0002�\u0018&���V*�c�90�}\u0002%c9\u001fOG���\u001d",
      "\u0010��3�����Cm˝P\n",
      "��^�HT/\u0004���\u000f�lu���+�s��L�\u001a�\u0010U�\f",
      "�\n",
      "Or^ÎI���=7��\u0017g�CV�Q��ۡ�\u0015כI� �|̻�U�H��u�\u0002���F�G�N��RA\u0014�V,\u0014�\u001c",
      "�P��\u001a���l�2�F~�\b\u0012\u000e�*�\u0012�pf\u0018A\u0002�\u0019���κu�\u0004���.`�ps\u0000\u0013��\u0006\u000b",
      "p�kB�|4m�\u0011�U�N\u0011:\u001f'��\u0005tC�$�욘^F\u0001\u0019=\u001f\u00079�\u0014\u0006\u0004�\u001f\u0019�\u000e����<\u0014\u0006��\u0018�\u001e",
      "�\u0003u�\u001d",
      "\u0016δ\u0007g�hQ�H`z?�\b�o�|\u0002\"j'\u000b",
      "\u0002��ȩ�����v_�V\u0000�D����\u001aT�S=t�vr�Q\u0003�o4N\u000b",
      "k\t��p싦�%-mX�_�ߪP�=\u0007\u0016T\u000b",
      "�Гo_՞E�\u0012���\u0012|������5�T\f",
      "\u0016��\u0001%=\u0005\u0003\u000b",
      "�º\u0018{�+��Y�\u0006RP�a9�|���2e.�~���.�%\u0001��\u0018��_6��wp\u0010���\u0012\"\\�/q�!�� \u0000�Slh��X\u0010ޑpT�\u000e}��������a�p����\r",
      "�\u001a�����e�$�\u0002�l[�'�\tƂ>,\b���Jy�\tp�B��qa&�\u0012\u000f�n!���\u0011ik\u0005�M5�|��mt]7j�ͬ�29շvQ�sÀ�sΛ\u0019�U�\u0005am)�#�xz0;�1�mGm����\u000f[��$O\u000b",
      ">4��(V)Gʄ��\f",
      "���(&g�\u001e",
      "\u0005����\u0012�P`\u0013L,\u0004��=��!��\u0014&yfjA�������,�9���<e:�!�F��ĺ�����=Ժ�\"{�o\u0017��HO��f�\u0001#埠0��:\u001aEb.\t/�R�4��&4�fgu�wM�X��ꌻB흻�z�p1V�=�%�,��\f",
      "��SȨ\"\u001d",
      "�*LGpV�m��\u0014�:(m����\bߏ�\u0005=��;S\u0016s�w��I�n#0\n",
      "����)d��h\u0015�~\f",
      "�V�T`�\u0002�љe\u0013\u0007\u0018va�\n",
      "Y�F`\f",
      "��\u0012�B��\u0003�\n",
      "��v:�e^���\u0016h��\u00108|t��\u0017���g����d��\u0011F�=<L��\r",
      "\b<�ڸN�:G\\�٢\u001f\u001a��w����ј�t/��)���L\u000f�wB\u0014\u0015v#E��H׉P|���a�\u001e",
      "AW:��\u001b��L\u000f%\u0004�$���\u0007�~�Ò �ɘ\u0016`�\u0003��s��(n\u0010��쐦xVe��YY�Y\u0000���?�~��폿�������6���\u0019����ښ ވ�v���y}�\"_�B��i\u000f\u000f\\ֹT�)RFE���j\t>.�\u0012�!�q\u0004�1lBj\u000e\u000f���]+��v�+|��;��+K��i?�\u001e",
      "\u0018:�\u000e7��\u0001\f",
      ">Zw�9��+vdWp�cA�]��9��\t \u001d",
      "��A�}$�$\u00150�b^e�����7�b��X��*��M8\u0005�s){��ǂR��m�\r",
      ")YN�CXM\u0003�\b3\n",
      "�\u0011\u0013e��\u001e",
      "���{���k�&�k;)�;RCg�9/��6�b�e�]\u0019�պ�\u0006�ھ�+D��m�w]c\b��b�������\u0014�\u0014\n",
      "I�$�\u000e�\u0007�-b��y�j)���Z�x�2]FM.�3�`7��w�p\t�׍�A\u001e",
      " $>\u000fr�=�\f",
      "�����@9Ki�E80\u0000�_B\f",
      "׊��}����pJ�P�|ɰ�\f",
      "\u0012�}�\u0015ò#$F\u0000���5������_.�\u0014샤;9\n",
      "�;!�\u001d",
      "\u0004ցx;�\u001c",
      "�̼�|V:\u001e",
      "�$E�6�\u0002\u001bH唩B��=:?��$(K�H\u0010�(u�{_��V��\"^[�/C��Kx���6����i�\u0015R\u001a�%\u000b",
      "�2�\u0016�d��2\b�A�S#3�(�T �H��a$F����ꇌ��1ؚ��+ے�'��k��h�j(s�\t0��\u0006��f���㪙\u000e����i�~�\u0014�u���Ur\u001bm�k��\u001b>�����m�T&\r",
      "��\u0000�\u0016�Kȫ0��CZ��C�\b��ݚ�\u001c",
      "��\\���\u0011Л�=pj\u0007�\b�\bm��\r",
      "��\u0016n�\b+\u000b",
      "���<lF\"I���ON���\u0007��^�&f� ܋�?N,\u0002�\u0005�����{�������h\u0003�D��m!f\n",
      "�|���\u0010R\u0011PLH��P\u0018��\u0005�B��$�X\u000fe�.����O�^�뇊�\"f\u0019g��2^=Ȫ\u001al\u0006(8w��\\e��SȰ.\"\u0015P�I\b�\u00011\b\u001d",
      "\b\b��U/\u001f\u0007��\u0012dHA��ٜ�!��\u0006�&�b�GN��.��wq~g�?{O2V5\u001e",
      "0�`�\u0012���\u0010(�\u0019\u0019E��>'\u001a�j��\u0014�Yгco9������\b�hIYQ���z�m֫���\\��d��<}�����l�\u0001\u0013uҘ�G@���� ��^\u0006\u0010f\u00131�G�\u0019AaD@��i��\u0013SZ�O\u001e",
      "�)�:\u001f���$�B4��\r",
      "�T��#���>�\u0010\n",
      "#\n",
      "�(6���E:�\u0007�j�x:a�I~�_���\n",
      "�-�P��(�9P4�Z\u0003�F*'�E;\"���|�|�T8�g@$A�\u0005\f",
      "�+\n",
      "Ɲ��M�w�\u0017lp\u0012�ԯ��\b��c�ꏞ\u001e",
      "f�6���M�*�zU�f:OǍ�\\H�\u000b",
      "��\u001d",
      "97��M^����7�\u0012�_2��yb\"v\u000f��P㮖�oҚ��6�Nt�G\u0014���{\u0016#3̘�{����t�1�\n",
      "$<�k�\u0011a�\\����Q�U\u0006\u000f\u0014ο\u001b�X\u000f� ���\u001d",
      "�;韆�(%ih\u0012���1=[�\u0018�F}��I\u00068hd6��\n",
      "�3F�|�\u0017V\u0019�ˋP�D/��U�W��Up��_㈠Žl7��M\n",
      "�B��� 4�qw�!���/ƴ�\u0019F�\u00176���\u001c",
      "\u0001\u0019��\u001e",
      "x�Q�M����\u0011p�\u0016�\u001d",
      "(�Q\u0018��Pv=-e!��\u0016����4�}\u0012gˍ\u000fK�&�\u0017�\u0005f�\n",
      "\u0003F-\u001c",
      "�H���뮻8$gO�[6ա�{o'��nڢ���p�<�^��\u0005.�5/\u0014g�\u0014\u000fh<�K�n�\u0002V.�U%�����[�\u0003\u0005������B\u0014u_ֵ'�AYȽ�D���?�4�Ќo\u0017����T�9��v��V�Э�f�)\u0003���Dt\u001f\u0011M�L\u0017�$L\t���O�NG�1_?4�,$�T\u001c",
      "Io��M]ne=4U;\f",
      "}M��\r",
      "��O��\r",
      ">��PR\u0018���I(�ce!c��ʝ&W���O�w��쐮Í\\֬E�l����\u001d",
      "k�7�\u000fR�z��;�y��\"��R5��H@9���3M�%\u0006�c@\u00162��Hv\f",
      "�Ab����xe��x]�ѡ�R��4�b��,�\u0003�Bn�\u0003UHO\u0019S�\u001f�BFs�\u0003�m8�\u0017\u0010\r",
      "8�\b\t6\f",
      "�{,c��XgLq�gڊ\n",
      "�=�����H�\u0005���ؙ\"њ\u0004\\K!�5+vc���b\u0011]\u0013\u0000-���:��U��\"Z�\u00148�\u001e",
      "� ���\u0014�=���~X\r",
      "��X��X\u0015�'q���F���\u0002\u0016�\tH�h�0Zt\u0018\u0001{2\u0001\u000b",
      "Ѭ�\u0012�\n",
      "�ڒ�-\u000b",
      "\u0002��\u0004'{+΄���ad\u0015�'�񯖏�r�MJ^vh�C�Z9��QW�t$7\u0006�\u0010B\b�a�3�\u0004e \u0004O}����D\u0001.�[<�jO1Pb�Ap,\u0004B�\u000e�������u\u0013�\u0001�!\u0003��S+�;7^=;���;}Ť\u000e��>��t�G�z����I\u001b�K\u0011^9�\u0011N#W>��\u000b",
      "d�4\u001f\r",
      "8����Pǣ(a����V\u0014��i��\u0000t¥\u001f\u0004\u001aaϖ&\u0006\u0004t#-�\u0019:�\u0014\f",
      "ج\u0002�5//D��bh;�+��Jz\u0016k�\u0017�v��P�\u0016Ί6��\u0013� h\u0002����\u0014آ�\u0010�����y���a�\u00073\u0001'�LLz�d��\u0005�\u0012Hp-l�i^\u0013D$\u0007􆻊\u001e",
      "f�Ь@3�h��\u0005\u0015ѰS1$�k�3�\u001bҋ��cЫ���ɫ��\u001c",
      " Ҕ\t<\u0003E�\u0003\u000fg���j_3�o_f�\u0014x\f",
      "\u0018��qk_\u0010I�aPd%�b�.�1�\u0003�\u0017r`�\f",
      "\f",
      "�\u000f\u0018��ˑ\u0016\u001a\f",
      "x\u0016����\b\u001c",
      "i�\u001d",
      "��x9V�\u001c",
      "\"0F���\f",
      "��lF�\u0012R\u0004�\u001c",
      "\u0011�3J\u0011��#�\u0000�Y\u0007�\u0011�S>\u0015P�ȹ�� #��g3�]�6\u0005\u0006e�C x�\u0004u�\u0004�|�\u0000�{1��9^\u000f\u001d",
      "x\\��!7�?piį\u001c",
      "\u001d",
      "�\u0018\u000ec\t\u0006J��Y��\u0014�hN�����xE!qB;�$�\u0018�8\u001c",
      "��i\u0007h�\r",
      "�>Q�>\n",
      "&�؛X\"\u001e",
      "́���\u0018b��\u001c",
      "a\u000e�(V\u000e���]�>\u001d",
      "\f",
      "�R\u0014\u001b\u001a�y�\u0004��\u001aƩ1,2��pZ�\u0001Zw\"��׋\u0001*���\u0017�z����BåG�`�&��\u0011�@xes\u0004a^\u000b",
      "�lb�i�S�6!]�\u0016u\u000f����j(\n",
      "ٷǳ\u0001|��M#�W�\u00152<gM�r&0���FX0  .�`�Q2xyU=\u0015�\u0003����\u000fwK�\t��ω\u001d",
      ":[�\n",
      "CMz���\u0004f\u000e)O�\u0003<�\b,f�\u0000�T$��T(C�hb�k���߉\f",
      "\u0011�,Ɋ�bn0�G�M\r",
      "d�B>a�(�b��\u0003ˢ�O\u0003陑��#���\u0004���\u0018�`�+\u0004�r) ~!�\u0019r�)\u0002$�\u0014ҵ���oIq���\u0014��@��\u0017��FV\u001a(vs`gb�Y�2�n4䓾\u0005\u0019�c\u001d",
      "���ح\u001d",
      "�\u001c",
      "�)��)Ne�f�\u0000{D��\b\u0013�)��0��Z�M�\b�\u0004��F��X�8��p.\u0004�/\u0014�Wд'���^}e2:<�7\b\u0004�$t����V�Rb���K��z:\u0015r\f",
      "�_<��f\u000e\u001f�-�\u00175�t \u000e�q\u0002�uè2��\u0018�!\u0007�F��\u000b",
      "D�;���|\u0005?�&��9#O`d�:r�q\u00149A�<����?\n",
      "\u0017�[������\u001f�\u0012\u001f����o���ձ\u001a��\u001c",
      "\u0019�-q\u0015�\u0017Ž\t(\u0012�e�0k8>q��B�@^�Di��Ʉ\u0013��24U���k�\f",
      "u\u0019���\u0010�\f",
      "��K,�kVݍ��Z\u0007G\u000f�w]\u000f��sȩH\u0000���}�5W��\u0017\n",
      "��}��i��;`\u0013'a��կ7^U�-�����~�5Z��3��\u0006:]�����\u001e",
      "�_��=몫�J��dV[oOb�8����W�\u0016�6uݰc�\u001fK��m�%�\u00187YI蝿�_*�M[m\"�MW7�~����T�������A��%\n",
      "��\u0016�V��H��|�,\u000b",
      "��)|�U\u000e\u000f�$ﲐ;���wZn�\u0006^�\u0018V��^4tD�)�9dUȬ����-�|>��Nd9��P�+\u000f���\u0007\n"
     ]
    }
   ],
   "source": [
    "resposta = requests.get(url = 'https://exame.com/ciencia/')\n",
    "\n",
    "print(resposta.text)"
   ]
  },
  {
   "cell_type": "markdown",
   "id": "d9f608f1",
   "metadata": {
    "id": "entertaining-ownership"
   },
   "source": [
    "## Outras opções\n",
    "Algumas opções interessantes de **API** para uso em aplicações.\n",
    "- Twitter API https://developer.twitter.com/en/docs/twitter-api\n",
    "- Here Geocoding https://developer.here.com/sign-up e https://developer.here.com/c/geocoding\n",
    "- OpenAI https://openai.com/blog/introducing-chatgpt-and-whisper-apis"
   ]
  }
 ],
 "metadata": {
  "colab": {
   "provenance": []
  },
  "kernelspec": {
   "display_name": "Python 3 (ipykernel)",
   "language": "python",
   "name": "python3"
  },
  "language_info": {
   "codemirror_mode": {
    "name": "ipython",
    "version": 3
   },
   "file_extension": ".py",
   "mimetype": "text/x-python",
   "name": "python",
   "nbconvert_exporter": "python",
   "pygments_lexer": "ipython3",
   "version": "3.8.3"
  }
 },
 "nbformat": 4,
 "nbformat_minor": 5
}
