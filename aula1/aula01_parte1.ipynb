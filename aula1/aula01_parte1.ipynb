{
 "cells": [
  {
   "cell_type": "markdown",
   "id": "574745f5",
   "metadata": {},
   "source": [
    "# Análise de texto de fontes desestruturadas e Web\n",
    "\n",
    "## Aula 01 - Parte 1:\n",
    "- Exercícios com strings\n",
    "- Funções\n",
    "\n",
    "Nesta aula, iremos resolver alguns exercícios para nos familiarizarmos com alguns recursos da linguagem Python.\n",
    "\n",
    "Procure resolver os exercícios utilizando apenas as funções de strings, sem importar nenhuma biblioteca. Você pode utilizar, como referência: https://docs.python.org/3/library/stdtypes.html#text-sequence-type-str"
   ]
  },
  {
   "cell_type": "markdown",
   "id": "46f66082",
   "metadata": {},
   "source": [
    "### Considere a variável *msg*, que contém um texto qualquer:"
   ]
  },
  {
   "cell_type": "code",
   "execution_count": 1,
   "id": "47433426",
   "metadata": {},
   "outputs": [],
   "source": [
    "msg = 'Gostei. Bateria dura muito.'"
   ]
  },
  {
   "cell_type": "markdown",
   "id": "bf52b917",
   "metadata": {},
   "source": [
    "**Exercício 01** Crie blocos de código que resolvam os seguintes problemas:\n",
    "\n",
    "a) Exiba a mensagem na saída padrão."
   ]
  },
  {
   "cell_type": "code",
   "execution_count": 2,
   "id": "b8340c1d",
   "metadata": {},
   "outputs": [
    {
     "name": "stdout",
     "output_type": "stream",
     "text": [
      "Gostei. Bateria dura muito.\n"
     ]
    }
   ],
   "source": [
    "print(msg)"
   ]
  },
  {
   "cell_type": "markdown",
   "id": "f7ca49cc",
   "metadata": {},
   "source": [
    "b) Exiba o tamanho da mensagem."
   ]
  },
  {
   "cell_type": "code",
   "execution_count": 3,
   "id": "839c4bb2",
   "metadata": {},
   "outputs": [
    {
     "data": {
      "text/plain": [
       "27"
      ]
     },
     "execution_count": 3,
     "metadata": {},
     "output_type": "execute_result"
    }
   ],
   "source": [
    "len(msg)"
   ]
  },
  {
   "cell_type": "markdown",
   "id": "7cc34919",
   "metadata": {},
   "source": [
    "**Exercício 02** Neste exercício, iremos acessar caracteres em posições específicas da mensagem.\n",
    "\n",
    "a) Exiba o primeiro caractere da mensagem."
   ]
  },
  {
   "cell_type": "code",
   "execution_count": 4,
   "id": "196dd63c",
   "metadata": {},
   "outputs": [
    {
     "data": {
      "text/plain": [
       "'G'"
      ]
     },
     "execution_count": 4,
     "metadata": {},
     "output_type": "execute_result"
    }
   ],
   "source": [
    "msg[0]"
   ]
  },
  {
   "cell_type": "markdown",
   "id": "18099402",
   "metadata": {},
   "source": [
    "b) O que acontece se tentarmos acessar o caractere na posição 27?"
   ]
  },
  {
   "cell_type": "code",
   "execution_count": 7,
   "id": "274660b4",
   "metadata": {},
   "outputs": [
    {
     "ename": "IndexError",
     "evalue": "string index out of range",
     "output_type": "error",
     "traceback": [
      "\u001b[1;31m---------------------------------------------------------------------------\u001b[0m",
      "\u001b[1;31mIndexError\u001b[0m                                Traceback (most recent call last)",
      "Input \u001b[1;32mIn [7]\u001b[0m, in \u001b[0;36m<cell line: 1>\u001b[1;34m()\u001b[0m\n\u001b[1;32m----> 1\u001b[0m \u001b[43mmsg\u001b[49m\u001b[43m[\u001b[49m\u001b[38;5;241;43m27\u001b[39;49m\u001b[43m]\u001b[49m\n",
      "\u001b[1;31mIndexError\u001b[0m: string index out of range"
     ]
    }
   ],
   "source": [
    "msg[27]"
   ]
  },
  {
   "cell_type": "markdown",
   "id": "ab0dadf7",
   "metadata": {},
   "source": [
    "Explique por que isto acontece:"
   ]
  },
  {
   "cell_type": "markdown",
   "id": "5ab69460",
   "metadata": {},
   "source": [
    "R: Tamanho maior que o da string"
   ]
  },
  {
   "cell_type": "markdown",
   "id": "42c36f9c",
   "metadata": {},
   "source": [
    "c) E se quiséssemos, utilizando índices, acessar a primeira palavra?\n",
    "\n",
    "Dica: string slice https://www.digitalocean.com/community/tutorials/python-slice-string"
   ]
  },
  {
   "cell_type": "code",
   "execution_count": 8,
   "id": "eaa27c16",
   "metadata": {},
   "outputs": [
    {
     "name": "stdout",
     "output_type": "stream",
     "text": [
      "Gostei\n",
      "Gostei\n"
     ]
    }
   ],
   "source": [
    "print(msg[0:6])\n",
    "print(msg[:6])"
   ]
  },
  {
   "cell_type": "markdown",
   "id": "26f459b3",
   "metadata": {},
   "source": [
    "d) E para acessar as últimas quatro letras?"
   ]
  },
  {
   "cell_type": "code",
   "execution_count": 9,
   "id": "60d92734",
   "metadata": {},
   "outputs": [
    {
     "name": "stdout",
     "output_type": "stream",
     "text": [
      "ito.\n",
      "ito.\n"
     ]
    }
   ],
   "source": [
    "print(msg[len(msg)-4:len(msg)])\n",
    "print(msg[-4:])"
   ]
  },
  {
   "cell_type": "markdown",
   "id": "402724b5",
   "metadata": {},
   "source": [
    "e) E para ter tudo, exceto as primeiras seis letras?"
   ]
  },
  {
   "cell_type": "code",
   "execution_count": 10,
   "id": "0b746044",
   "metadata": {},
   "outputs": [
    {
     "name": "stdout",
     "output_type": "stream",
     "text": [
      ". Bateria dura muito.\n",
      ". Bateria dura muito.\n"
     ]
    }
   ],
   "source": [
    "print(msg[6:len(msg)])\n",
    "print(msg[6:])"
   ]
  },
  {
   "cell_type": "markdown",
   "id": "41124a60",
   "metadata": {},
   "source": [
    "f) Como testar se a primeira letra é um caractere alfanumérico?"
   ]
  },
  {
   "cell_type": "code",
   "execution_count": 18,
   "id": "1f174636",
   "metadata": {
    "scrolled": false
   },
   "outputs": [
    {
     "data": {
      "text/plain": [
       "True"
      ]
     },
     "execution_count": 18,
     "metadata": {},
     "output_type": "execute_result"
    }
   ],
   "source": [
    "msg[0].isalnum()"
   ]
  },
  {
   "cell_type": "markdown",
   "id": "defc8248",
   "metadata": {},
   "source": [
    "g) Como testar se a primeira letra é um caractere numérico?"
   ]
  },
  {
   "cell_type": "code",
   "execution_count": 28,
   "id": "d5c2d6c1",
   "metadata": {},
   "outputs": [
    {
     "ename": "ValueError",
     "evalue": "could not convert string to float: 'G'",
     "output_type": "error",
     "traceback": [
      "\u001b[1;31m---------------------------------------------------------------------------\u001b[0m",
      "\u001b[1;31mValueError\u001b[0m                                Traceback (most recent call last)",
      "Input \u001b[1;32mIn [28]\u001b[0m, in \u001b[0;36m<cell line: 1>\u001b[1;34m()\u001b[0m\n\u001b[1;32m----> 1\u001b[0m \u001b[38;5;28;43mfloat\u001b[39;49m\u001b[43m(\u001b[49m\u001b[43mmsg\u001b[49m\u001b[43m[\u001b[49m\u001b[38;5;241;43m0\u001b[39;49m\u001b[43m]\u001b[49m\u001b[43m)\u001b[49m\n",
      "\u001b[1;31mValueError\u001b[0m: could not convert string to float: 'G'"
     ]
    }
   ],
   "source": [
    "float(msg[0])"
   ]
  },
  {
   "cell_type": "markdown",
   "id": "99d118c1",
   "metadata": {},
   "source": [
    "**Exercício 03** Suponha que a variável *nome* possua espaços no início e final."
   ]
  },
  {
   "cell_type": "code",
   "execution_count": 45,
   "id": "93aa5589",
   "metadata": {},
   "outputs": [],
   "source": [
    "nome = '    Manuela Duarte    '"
   ]
  },
  {
   "cell_type": "markdown",
   "id": "56646a7b",
   "metadata": {},
   "source": [
    "Como removê-los?"
   ]
  },
  {
   "cell_type": "code",
   "execution_count": 47,
   "id": "ffc2850b",
   "metadata": {},
   "outputs": [
    {
     "data": {
      "text/plain": [
       "'Manuela Duarte'"
      ]
     },
     "execution_count": 47,
     "metadata": {},
     "output_type": "execute_result"
    }
   ],
   "source": [
    "nome.strip()"
   ]
  },
  {
   "cell_type": "markdown",
   "id": "d2b4b95b",
   "metadata": {},
   "source": [
    "**Exercício 04** E se quiséssemos repetir um caractere ou palavra diversas vezes?\n",
    "Cria uma rotina para repetir quinze traços."
   ]
  },
  {
   "cell_type": "code",
   "execution_count": 48,
   "id": "fbb36312",
   "metadata": {},
   "outputs": [
    {
     "name": "stdout",
     "output_type": "stream",
     "text": [
      "---------------\n"
     ]
    }
   ],
   "source": [
    "n = 15\n",
    "print('-' * n)"
   ]
  },
  {
   "cell_type": "markdown",
   "id": "d50a6596",
   "metadata": {},
   "source": [
    "### Agora iremos redefinir a variável *msg*:"
   ]
  },
  {
   "cell_type": "code",
   "execution_count": 49,
   "id": "b0e0774b",
   "metadata": {},
   "outputs": [],
   "source": [
    "msg = 'Gostei. Bateria dura muito, mas muito mais. Definição da tela melhorou muito, porém é menor que o iPhone X. Não gostei do formato quadrado.'"
   ]
  },
  {
   "cell_type": "markdown",
   "id": "1d95a2a7",
   "metadata": {},
   "source": [
    "**Exercício 05** Agora iremos verificar se uma substring faz parte da mensagem.\n",
    "\n",
    "a) Como podemos contar quantas vezes a palavra '*muito*' aparece na mensagem?"
   ]
  },
  {
   "cell_type": "code",
   "execution_count": 60,
   "id": "1159d4d0",
   "metadata": {},
   "outputs": [
    {
     "name": "stdout",
     "output_type": "stream",
     "text": [
      "3\n"
     ]
    }
   ],
   "source": [
    "cont=0\n",
    "for i in msg.split(sep=' '):\n",
    "    if i=='muito' or i=='muito.' or i==i=='.muito' or i==', muito' or i=='muito,':\n",
    "        cont+=1\n",
    "print(cont)"
   ]
  },
  {
   "cell_type": "markdown",
   "id": "f043f69f",
   "metadata": {},
   "source": [
    "b) Como podemos contar quantas vezes a palavra '*muito*' aparece nos primeiros 40 caracteres da mensagem?"
   ]
  },
  {
   "cell_type": "code",
   "execution_count": 61,
   "id": "5c5854a2",
   "metadata": {},
   "outputs": [
    {
     "name": "stdout",
     "output_type": "stream",
     "text": [
      "2\n",
      "2\n"
     ]
    }
   ],
   "source": [
    "n = 40\n",
    "print(msg[0:(n+1)].count('muito')) # uma forma\n",
    "print(msg.count('muito', 0, n))    # outra forma"
   ]
  },
  {
   "cell_type": "markdown",
   "id": "0f1c99f7",
   "metadata": {},
   "source": [
    "c) E se quiséssemos saber se a palavra '*muito*' aparece na mensagem completa, indiferente da quantidade (resposta `True` ou `False`)?"
   ]
  },
  {
   "cell_type": "code",
   "execution_count": 64,
   "id": "7b100e11",
   "metadata": {},
   "outputs": [
    {
     "name": "stdout",
     "output_type": "stream",
     "text": [
      "True\n"
     ]
    }
   ],
   "source": [
    "if msg[0:(n+1)].count('muito')>0:\n",
    "    print(True)"
   ]
  },
  {
   "cell_type": "markdown",
   "id": "dee8cecd",
   "metadata": {},
   "source": [
    "**Exercício 06** Como podemos verificar se a mensagem termina com um ponto *'.'*?"
   ]
  },
  {
   "cell_type": "code",
   "execution_count": 67,
   "id": "9e644a0c",
   "metadata": {},
   "outputs": [
    {
     "name": "stdout",
     "output_type": "stream",
     "text": [
      "True\n"
     ]
    }
   ],
   "source": [
    "if msg[-1]=='.': print(True)"
   ]
  },
  {
   "cell_type": "markdown",
   "id": "f04963e6",
   "metadata": {},
   "source": [
    "**Exercício 07** Como podemos verificar se a mensagem começa com a letra *'P'*?"
   ]
  },
  {
   "cell_type": "code",
   "execution_count": 68,
   "id": "cba2c170",
   "metadata": {},
   "outputs": [
    {
     "data": {
      "text/plain": [
       "False"
      ]
     },
     "execution_count": 68,
     "metadata": {},
     "output_type": "execute_result"
    }
   ],
   "source": [
    "msg.startswith('P')"
   ]
  },
  {
   "cell_type": "markdown",
   "id": "2c0d4527",
   "metadata": {},
   "source": [
    "**Exercício 08** Como podemos substituir a palavra ***quadrado*** por ***retangular***? Faça de forma que uma palavra qualquer possa ser substituída por outra."
   ]
  },
  {
   "cell_type": "code",
   "execution_count": 73,
   "id": "3f1d26b7",
   "metadata": {},
   "outputs": [
    {
     "data": {
      "text/plain": [
       "'Gostei. Bateria dura muito, mas muito mais. Definição da tela melhorou muito, porém é menor que o iPhone X. Não gostei do formato retangular.'"
      ]
     },
     "execution_count": 73,
     "metadata": {},
     "output_type": "execute_result"
    }
   ],
   "source": [
    "msg.replace('quadrado', 'retangular')"
   ]
  },
  {
   "cell_type": "markdown",
   "id": "53bdd3aa",
   "metadata": {},
   "source": [
    "**Exercício 09** Como podemos transformar toda *msg*  para minúsculo?"
   ]
  },
  {
   "cell_type": "code",
   "execution_count": 74,
   "id": "c10ed968",
   "metadata": {},
   "outputs": [
    {
     "data": {
      "text/plain": [
       "'gostei. bateria dura muito, mas muito mais. definição da tela melhorou muito, porém é menor que o iphone x. não gostei do formato quadrado.'"
      ]
     },
     "execution_count": 74,
     "metadata": {},
     "output_type": "execute_result"
    }
   ],
   "source": [
    "msg.lower()"
   ]
  },
  {
   "cell_type": "markdown",
   "id": "83293928",
   "metadata": {},
   "source": [
    "**Exercício 10** Como verificar se a *msg* começa com *'g'*, indiferente do case (maiúsculo, minúsculo)?"
   ]
  },
  {
   "cell_type": "code",
   "execution_count": 75,
   "id": "265dc432",
   "metadata": {},
   "outputs": [
    {
     "data": {
      "text/plain": [
       "True"
      ]
     },
     "execution_count": 75,
     "metadata": {},
     "output_type": "execute_result"
    }
   ],
   "source": [
    "msg.lower().startswith('g')"
   ]
  },
  {
   "cell_type": "markdown",
   "id": "201fcdbb",
   "metadata": {},
   "source": [
    "**Exercício 11** Como testar se a *msg* está em minúsculo?"
   ]
  },
  {
   "cell_type": "code",
   "execution_count": 76,
   "id": "30b53f64",
   "metadata": {},
   "outputs": [
    {
     "data": {
      "text/plain": [
       "False"
      ]
     },
     "execution_count": 76,
     "metadata": {},
     "output_type": "execute_result"
    }
   ],
   "source": [
    "msg.islower()"
   ]
  },
  {
   "cell_type": "markdown",
   "id": "6b5e38dd",
   "metadata": {},
   "source": [
    "**Exercício 12** Como podemos transformar cada inicial das palavras em *msg* para maiúsculo, mantendo o resto em minúsculo?"
   ]
  },
  {
   "cell_type": "code",
   "execution_count": 90,
   "id": "ca117546",
   "metadata": {},
   "outputs": [],
   "source": [
    "x=''\n",
    "for i in msg.split():\n",
    "    x += ' '+i[0].upper()+i[1:len(i)]"
   ]
  },
  {
   "cell_type": "code",
   "execution_count": 91,
   "id": "c6213ad6",
   "metadata": {},
   "outputs": [
    {
     "data": {
      "text/plain": [
       "' Gostei. Bateria Dura Muito, Mas Muito Mais. Definição Da Tela Melhorou Muito, Porém É Menor Que O IPhone X. Não Gostei Do Formato Quadrado.'"
      ]
     },
     "execution_count": 91,
     "metadata": {},
     "output_type": "execute_result"
    }
   ],
   "source": [
    "x"
   ]
  },
  {
   "cell_type": "markdown",
   "id": "11c79c4b",
   "metadata": {},
   "source": [
    "**Exercício 13** Como podemos transformar apenas a primeira letra da *msg* para maiúsculo, mantendo o resto em minúsculo?"
   ]
  },
  {
   "cell_type": "code",
   "execution_count": 93,
   "id": "9d05ea79",
   "metadata": {},
   "outputs": [],
   "source": [
    "#mesma coisa"
   ]
  },
  {
   "cell_type": "markdown",
   "id": "52255ab6",
   "metadata": {},
   "source": [
    "**Exercício 14** Neste exercício:\n",
    "\n",
    "\n",
    "a) Você deve criar uma lista, contendo cada uma das palavras na mensagem:"
   ]
  },
  {
   "cell_type": "code",
   "execution_count": 96,
   "id": "a2b5da79",
   "metadata": {},
   "outputs": [
    {
     "name": "stdout",
     "output_type": "stream",
     "text": [
      "['Gostei.', 'Bateria', 'dura', 'muito,', 'mas', 'muito', 'mais.', 'Definição', 'da', 'tela', 'melhorou', 'muito,', 'porém', 'é', 'menor', 'que', 'o', 'iPhone', 'X.', 'Não', 'gostei', 'do', 'formato', 'quadrado.']\n"
     ]
    }
   ],
   "source": [
    "palavras = msg.split()\n",
    "print(palavras)"
   ]
  },
  {
   "cell_type": "markdown",
   "id": "62490b53",
   "metadata": {},
   "source": [
    "b) Como podemos acessar a primeira palavra da lista?"
   ]
  },
  {
   "cell_type": "code",
   "execution_count": 97,
   "id": "1a99bee0",
   "metadata": {},
   "outputs": [
    {
     "data": {
      "text/plain": [
       "'Gostei.'"
      ]
     },
     "execution_count": 97,
     "metadata": {},
     "output_type": "execute_result"
    }
   ],
   "source": [
    "palavras[0]"
   ]
  },
  {
   "cell_type": "markdown",
   "id": "f79de1c3",
   "metadata": {},
   "source": [
    "c) Como podemos acessar a última palavra da lista?"
   ]
  },
  {
   "cell_type": "code",
   "execution_count": 98,
   "id": "4a3760a0",
   "metadata": {},
   "outputs": [
    {
     "data": {
      "text/plain": [
       "'quadrado.'"
      ]
     },
     "execution_count": 98,
     "metadata": {},
     "output_type": "execute_result"
    }
   ],
   "source": [
    "palavras[-1]"
   ]
  },
  {
   "cell_type": "markdown",
   "id": "951df3ef",
   "metadata": {},
   "source": [
    "d) Como podemos acessar da segunda até a quarta palavra na lista?"
   ]
  },
  {
   "cell_type": "code",
   "execution_count": 101,
   "id": "b0f6b353",
   "metadata": {},
   "outputs": [
    {
     "data": {
      "text/plain": [
       "['Bateria', 'dura', 'muito,']"
      ]
     },
     "execution_count": 101,
     "metadata": {},
     "output_type": "execute_result"
    }
   ],
   "source": [
    "palavras[1:4]"
   ]
  },
  {
   "cell_type": "markdown",
   "id": "29158320",
   "metadata": {},
   "source": [
    "e) Percebeu que as pontuações estão como parte das palavras? Crie um bloco de código que remove pontuações antes de criar a lista de palavras."
   ]
  },
  {
   "cell_type": "code",
   "execution_count": null,
   "id": "e4fd3381",
   "metadata": {},
   "outputs": [],
   "source": []
  },
  {
   "cell_type": "markdown",
   "id": "7d555a40",
   "metadata": {},
   "source": [
    "f) E se quiséssemos saber todas as palavras contidas na mensagem, mas **sem repetições**?"
   ]
  },
  {
   "cell_type": "code",
   "execution_count": null,
   "id": "c6c19ac7",
   "metadata": {},
   "outputs": [],
   "source": []
  },
  {
   "attachments": {
    "image.png": {
     "image/png": "[encoded data removed]"
    }
   },
   "cell_type": "markdown",
   "id": "4791954c",
   "metadata": {},
   "source": [
    "## Funções\n",
    "\n",
    "Uma função é um bloco de código que é executado apenas quando \"chamado\".\n",
    "\n",
    "Com elas, é possível manter o código **organizado**, uma vez que podemos quebrar uma **atividade grande** em **pequenos pedaços**, cada um resolvido por uma **função**. Além disso, uma característica interessante das funções é que podem ser **reutilizadas**, ou seja, uma vez escrita, a função pode ser chamada diversas vezes sempre que precisarmos da atividade que ela resolve.\n",
    "\n",
    "\n",
    "\n",
    "![image.png](attachment:image.png)\n",
    "\n",
    "\n",
    "\n",
    "Como exemplo, podemos criar uma função que calcule a área do retângulo:"
   ]
  },
  {
   "cell_type": "code",
   "execution_count": null,
   "id": "4e093af1",
   "metadata": {},
   "outputs": [],
   "source": [
    "def area_retangulo(lado_a, lado_b):\n",
    "    area = lado_a * lado_b\n",
    "    return area"
   ]
  },
  {
   "cell_type": "markdown",
   "id": "4ed2986e",
   "metadata": {},
   "source": [
    "e utilizá-la sempre que necessário:"
   ]
  },
  {
   "cell_type": "code",
   "execution_count": null,
   "id": "c7852e22",
   "metadata": {},
   "outputs": [],
   "source": [
    "print(area_retangulo(2.0, 3.0))\n",
    "print(area_retangulo(1.5, 2.14))"
   ]
  },
  {
   "cell_type": "markdown",
   "id": "2bb8b30d",
   "metadata": {},
   "source": [
    "Legal?! Agora vamos tentar de uma forma um pouco mais elaborada!"
   ]
  },
  {
   "cell_type": "code",
   "execution_count": null,
   "id": "f9ea801b",
   "metadata": {},
   "outputs": [],
   "source": [
    "lado_a = 5.338\n",
    "lado_b = 3.1\n",
    "area = area_retangulo(lado_a, lado_b)\n",
    "print('A area do retângulo de lados {:.2f} e {:.2f} é igual a {:.2f}'.format(lado_a, lado_b, area))"
   ]
  },
  {
   "attachments": {
    "image.png": {
     "image/png": "[encoded data removed]"
    }
   },
   "cell_type": "markdown",
   "id": "0e6e4ecf",
   "metadata": {},
   "source": [
    "Perceba que a função tem três partes principais:\n",
    "\n",
    "![image.png](attachment:image.png)\n",
    "\n",
    "+ seu **identificador**: é o nome da função, pelo qual será chamada. Neste caso, chamamos de `area_retangulo`.\n",
    "\n",
    "+ seus **parâmetros**: são as **entradas**, os valores ou informações que a função precisa receber para realizar sua atividade. No exemplo, para calcular a área do retângulo precisamos da medida dos dois lados, ou seja, a função precisa de dois parâmetros (`lado_a`, `lado_b`).\n",
    "\n",
    "+ o **retorno**: é o valor que a função **devolve** (saída) para quem a chamou. Neste caso, a função `area_retangulo` retorna o valor da *área*.\n",
    "\n",
    "Você pode construir funções sem parâmetros ou sem retorno. Não confunda a saída da função (o valor que ela devolve) com as informações dispolizadas, por exemplo, na saída padrão!\n",
    "\n",
    "Como exemplo, considere a função:"
   ]
  },
  {
   "cell_type": "code",
   "execution_count": null,
   "id": "e84ab264",
   "metadata": {},
   "outputs": [],
   "source": [
    "def format_name(name):\n",
    "    print('Olá {}, tudo bem com você?!'.format(name))"
   ]
  },
  {
   "cell_type": "markdown",
   "id": "02d04b79",
   "metadata": {},
   "source": [
    "que recebe um parâmetro e imprime uma mensagem formatada na saída padrão, sem retornar nada."
   ]
  },
  {
   "cell_type": "code",
   "execution_count": null,
   "id": "3317138f",
   "metadata": {},
   "outputs": [],
   "source": [
    "format_name('Pedro')\n",
    "format_name('Adriana')"
   ]
  },
  {
   "cell_type": "markdown",
   "id": "47561287",
   "metadata": {},
   "source": [
    "**Exercício 15** Cria uma função:\n",
    "\n",
    "a) que recebe uma String e devolve uma lista de palavras contidas na String:"
   ]
  },
  {
   "cell_type": "code",
   "execution_count": null,
   "id": "0cee9b20",
   "metadata": {},
   "outputs": [],
   "source": [
    "def words(msg):\n",
    "    return # faça aqui!\n",
    "\n",
    "words('quero ver se consigo ver')"
   ]
  },
  {
   "cell_type": "markdown",
   "id": "92133dd5",
   "metadata": {},
   "source": [
    "b) que recebe uma String e devolve uma lista de palavras contidas na String, sem repetições:"
   ]
  },
  {
   "cell_type": "code",
   "execution_count": null,
   "id": "fc1303fc",
   "metadata": {},
   "outputs": [],
   "source": []
  },
  {
   "cell_type": "markdown",
   "id": "d2374125",
   "metadata": {},
   "source": [
    "**Exercício 16** Crie uma função\n",
    "\n",
    "a) que recebe uma string e retorna o index da primeira ocorrência de uma substring\n",
    "https://docs.python.org/3/library/stdtypes.html#text-sequence-type-str"
   ]
  },
  {
   "cell_type": "code",
   "execution_count": null,
   "id": "5e0474cf",
   "metadata": {},
   "outputs": [],
   "source": [
    "def find_first(msg, sub):\n",
    "    # seu codigo aqui!\n",
    "    return index\n",
    "\n",
    "find_first('O CEO foi demitido', 'CEO')"
   ]
  },
  {
   "cell_type": "markdown",
   "id": "a1c5d785",
   "metadata": {},
   "source": [
    "b) que recebe uma string e retorna o index da última ocorrência de uma substring\n",
    "https://docs.python.org/3/library/stdtypes.html#text-sequence-type-str"
   ]
  },
  {
   "cell_type": "code",
   "execution_count": null,
   "id": "633f96f1",
   "metadata": {},
   "outputs": [],
   "source": [
    "def find_last(msg, sub):\n",
    "    # seu codigo aqui!\n",
    "    return index\n",
    "\n",
    "find_last('O CEO foi demitido. Ele (CEO) nao esperava por isso', 'CEO')"
   ]
  },
  {
   "cell_type": "markdown",
   "id": "34053f2f",
   "metadata": {},
   "source": [
    "c) agora, altere para buscar sem *case sensitive* (independente de maiúsculas e minúsculas)"
   ]
  },
  {
   "cell_type": "code",
   "execution_count": null,
   "id": "b562f072",
   "metadata": {},
   "outputs": [],
   "source": [
    "def find_last(msg, sub):\n",
    "    # seu codigo aqui!\n",
    "    return index\n",
    "\n",
    "find_last('O CEO foi demitido. Ele (CEO) nao esperava por isso', 'ceo')"
   ]
  },
  {
   "cell_type": "markdown",
   "id": "0be3e302",
   "metadata": {},
   "source": [
    "**Exercício 17** Crie uma função que remove strings vazias de uma lista de palavras:\n",
    "\n",
    "Exemplo:\n",
    "\n",
    "***Entrada***: ['o', 'juiz', '', 'acatou', 'o', '', 'pedido']\n",
    "\n",
    "***Saída***: ['o', 'juiz', 'acatou', 'o', 'pedido']"
   ]
  },
  {
   "cell_type": "code",
   "execution_count": null,
   "id": "e715d1d4",
   "metadata": {},
   "outputs": [],
   "source": [
    "lista_p = ['o', 'juiz', '', 'acatou', 'o', '', 'pedido']\n",
    "\n",
    "# seu codigo aqui!"
   ]
  },
  {
   "cell_type": "markdown",
   "id": "5771ec83",
   "metadata": {},
   "source": [
    "**Exercício 18** Crie uma função chamada **count_digits** que conta quantos caracteres numéricos existem em uma string:"
   ]
  },
  {
   "cell_type": "code",
   "execution_count": null,
   "id": "881a6014",
   "metadata": {},
   "outputs": [],
   "source": [
    "def count_digits(msg):\n",
    "    # seu codigo aqui!\n",
    "    return qtde"
   ]
  },
  {
   "cell_type": "markdown",
   "id": "c71be7f1",
   "metadata": {},
   "source": [
    "**Exercício 19** Pontuações geralmente são consideradas como pouco informativas em análises de dados ou para predições com base em processamento de linguagem natural (Ex: textos, mensagens).\n",
    "\n",
    "Além disso, certas palavras também podem ser desconsideradas das análises. Estas palavras são chamadas de **stop words** e são filtradas (removidas) antes das análises.\n",
    "\n",
    "Apesar de existirem algumas listas comumente utilizadas como **stop words**, não há uma lista universal. Assim, você pode construir a sua própria lista caso julgue necessário.\n",
    "\n",
    "Crie uma função que recebe um texto e:\n",
    "- transforma todo o texto para minúsculo;\n",
    "- remove pontuações;\n",
    "- remove stop words. Crie a sua própria lista de stop words, conforme julgar necessário.\n"
   ]
  },
  {
   "cell_type": "code",
   "execution_count": null,
   "id": "72fc4831",
   "metadata": {},
   "outputs": [],
   "source": [
    "\n"
   ]
  }
 ],
 "metadata": {
  "kernelspec": {
   "display_name": "Python 3 (ipykernel)",
   "language": "python",
   "name": "python3"
  },
  "language_info": {
   "codemirror_mode": {
    "name": "ipython",
    "version": 3
   },
   "file_extension": ".py",
   "mimetype": "text/x-python",
   "name": "python",
   "nbconvert_exporter": "python",
   "pygments_lexer": "ipython3",
   "version": "3.8.3"
  }
 },
 "nbformat": 4,
 "nbformat_minor": 5
}
