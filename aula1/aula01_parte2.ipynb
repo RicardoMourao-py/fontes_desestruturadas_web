{
 "cells": [
  {
   "cell_type": "markdown",
   "id": "d006f5c2",
   "metadata": {},
   "source": [
    "# Análise de texto de fontes desestruturadas e Web\n",
    "\n",
    "## Aula 01 - Parte 2:\n",
    "- Listas\n",
    "- Estruturas de Repetição\n",
    "- Estruturas Condicionais\n",
    "- Testes automatizados\n",
    "- Arquivos\n",
    "- Dicionários\n",
    "- Plot de gráficos"
   ]
  },
  {
   "cell_type": "markdown",
   "id": "8f51ff55",
   "metadata": {},
   "source": [
    "## Baixando os dados no google colab\n",
    "\n",
    "Execute as células abaixo para baixar arquivos de texto que serão utilizados em alguns exercícios"
   ]
  },
  {
   "cell_type": "code",
   "execution_count": null,
   "id": "4eb0771e",
   "metadata": {},
   "outputs": [],
   "source": [
    "!wget \"http://vision.ime.usp.br/~calebe/atd/esther_duflo.txt\"\n",
    "!wget \"http://vision.ime.usp.br/~calebe/atd/2.txt\"\n",
    "!wget \"http://vision.ime.usp.br/~calebe/atd/3.txt\"\n",
    "!wget \"http://vision.ime.usp.br/~calebe/atd/4.txt\"\n",
    "!wget \"http://vision.ime.usp.br/~calebe/atd/5.txt\"\n",
    "!wget \"http://vision.ime.usp.br/~calebe/atd/6.txt\"\n",
    "!wget \"http://vision.ime.usp.br/~calebe/atd/7.txt\""
   ]
  },
  {
   "cell_type": "markdown",
   "id": "bf083260",
   "metadata": {},
   "source": [
    "## Importando bibliotecas\n",
    "\n",
    "Python é um ambiente comunitário incrível. Existe muitas funcionalidades prontas que são distribuídas em bibliotecas.\n",
    "\n",
    "Geralmente os **imports** são realizados no começo dos notebooks. Assim, vamos logo importar as bibliotecas necessárias!"
   ]
  },
  {
   "cell_type": "code",
   "execution_count": null,
   "id": "c5017c0f",
   "metadata": {},
   "outputs": [],
   "source": [
    "import matplotlib.pyplot as plt\n",
    "import numpy as np\n",
    "import os"
   ]
  },
  {
   "cell_type": "markdown",
   "id": "fc57a55b",
   "metadata": {},
   "source": [
    "## Trabalhando com listas\n",
    "\n",
    "Listas são estruturas de dados muito úteis, pois permitem armazenar diversos elementos em uma mesma variável. Estes elementos podem ser, por exemplo, palavras:"
   ]
  },
  {
   "cell_type": "code",
   "execution_count": null,
   "id": "e8151c37",
   "metadata": {},
   "outputs": [],
   "source": [
    "lista_palavras = ['oi', 'aceitar', 'a', 'por', 'modelo']"
   ]
  },
  {
   "cell_type": "markdown",
   "id": "f8a95762",
   "metadata": {},
   "source": [
    "Listas também podem ser acessadas utilizando *índices*"
   ]
  },
  {
   "cell_type": "code",
   "execution_count": null,
   "id": "ca52f180",
   "metadata": {},
   "outputs": [],
   "source": [
    "print(lista_palavras[0])\n",
    "print(lista_palavras[4])"
   ]
  },
  {
   "cell_type": "markdown",
   "id": "dafe7c77",
   "metadata": {},
   "source": [
    "e ter seu tamanho (número de elementos) consultado"
   ]
  },
  {
   "cell_type": "code",
   "execution_count": null,
   "id": "c68b677b",
   "metadata": {},
   "outputs": [],
   "source": [
    "len(lista_palavras)"
   ]
  },
  {
   "cell_type": "markdown",
   "id": "cce0e8b9",
   "metadata": {},
   "source": [
    "também podemos alterar o elemento em alguma posição da lista"
   ]
  },
  {
   "cell_type": "code",
   "execution_count": null,
   "id": "e6467111",
   "metadata": {},
   "outputs": [],
   "source": [
    "# Alterando a primeira palavra de 'oi' para 'tchau'\n",
    "\n",
    "lista_palavras[0] = 'tchau'\n",
    "print(lista_palavras)"
   ]
  },
  {
   "cell_type": "markdown",
   "id": "bc78cf63",
   "metadata": {},
   "source": [
    "e também adicionar novos elementos (*estimar*)"
   ]
  },
  {
   "cell_type": "code",
   "execution_count": null,
   "id": "a63d534f",
   "metadata": {},
   "outputs": [],
   "source": [
    "lista_palavras.append('estimar')\n",
    "print(lista_palavras)"
   ]
  },
  {
   "cell_type": "markdown",
   "id": "a0a0521c",
   "metadata": {},
   "source": [
    "lembrando que a lista permite ter elementos repetidos. Então vamos adicionar a palavra *modelo* novamente:"
   ]
  },
  {
   "cell_type": "code",
   "execution_count": null,
   "id": "21d969cf",
   "metadata": {},
   "outputs": [],
   "source": [
    "lista_palavras.append('modelo')\n",
    "print(lista_palavras)"
   ]
  },
  {
   "cell_type": "markdown",
   "id": "53b91b63",
   "metadata": {},
   "source": [
    "para ver mais funcionalidades das listas em Python, consulte https://docs.python.org/3/tutorial/datastructures.html e https://www.w3schools.com/python/python_ref_list.asp\n",
    "\n",
    "Você conseguiria descobrir como remover um elemento qualquer de uma lista?"
   ]
  },
  {
   "cell_type": "code",
   "execution_count": null,
   "id": "f673f029",
   "metadata": {},
   "outputs": [],
   "source": [
    "print('Lista antes da remoção...: {}'.format(lista_palavras))\n",
    "\n",
    "# seu codigo aqui!\n",
    "\n",
    "print('Lista após a remoção.....: {}'.format(lista_palavras))"
   ]
  },
  {
   "cell_type": "markdown",
   "id": "13865996",
   "metadata": {},
   "source": [
    "## Estruturas de repetição\n",
    "Agora, iremos aprender como iterar sobre uma lista. Iremos percorrer cada elemento de uma lista, efetuando alguma operação ou verificação de interesse em seus elementos.\n",
    "\n",
    "Mas primeiro vamos começar com *strings*. Considere a variável *msg*. Seria possível obter/percorrer cada uma das suas letras, caracteres ou símbolos?!\n"
   ]
  },
  {
   "cell_type": "code",
   "execution_count": null,
   "id": "c28ee312",
   "metadata": {},
   "outputs": [],
   "source": [
    "msg = 'fontes desestruturadas'\n",
    "for simb in msg:\n",
    "    print(simb)"
   ]
  },
  {
   "cell_type": "markdown",
   "id": "781334f6",
   "metadata": {},
   "source": [
    "Agora, vamos considerar uma lista de palavras mesmo!"
   ]
  },
  {
   "cell_type": "code",
   "execution_count": null,
   "id": "f446c1c1",
   "metadata": {},
   "outputs": [],
   "source": [
    "lista_palavras = ['oi', 'aceitar', 'a', 'por', 'modelo']\n",
    "\n",
    "for palavra in lista_palavras:\n",
    "    print(palavra)"
   ]
  },
  {
   "cell_type": "markdown",
   "id": "20af1e06",
   "metadata": {},
   "source": [
    "Seria possível exibir cada palavra em maiúsculo?"
   ]
  },
  {
   "cell_type": "code",
   "execution_count": null,
   "id": "372a2df8",
   "metadata": {},
   "outputs": [],
   "source": [
    "for palavra in lista_palavras:\n",
    "    print(palavra.upper())"
   ]
  },
  {
   "cell_type": "markdown",
   "id": "7674177c",
   "metadata": {},
   "source": [
    "Agora vamos iterar/percorrer a lista utilizando índices com **range**:"
   ]
  },
  {
   "cell_type": "code",
   "execution_count": null,
   "id": "535b0ba7",
   "metadata": {},
   "outputs": [],
   "source": [
    "for i in range(0, len(lista_palavras)):\n",
    "    print(lista_palavras[i])"
   ]
  },
  {
   "cell_type": "markdown",
   "id": "af773d7f",
   "metadata": {},
   "source": [
    "E se eu quisesse realizar alguma validação nestas palavras? Por exemplo, identificar quais tem ou não tem um determinado número de caracteres?"
   ]
  },
  {
   "attachments": {
    "image.png": {
     "image/png": "[encoded data removed]"
    }
   },
   "cell_type": "markdown",
   "id": "6ce214a4",
   "metadata": {},
   "source": [
    "## Estruturas condicionais\n",
    "\n",
    "Estruturas condicionais, mais conhecidas em Python como *if, elif, else*, são utilizadas quando parte dos comandos devam ser executados **apenas** quando **alguma condição** for **verdadeira**.\n",
    "\n",
    "Exemplos:\n",
    "- Se um documento possui alguma palavra de interesse, então separo para análise, caso contrário, o documento é descartado\n",
    "- Se a senha está correta, abra o programa de alunos do Insper, caso contrário, solicite a senha novamente\n",
    "- Se a palavra está escrita de forma errada, destaque ela no texto. Em caso contrário, não faça nada\n",
    "- Se a base de cálculo for de 1.903,99 até 2.826,65, cobre 7,5% de imposto de renda\n",
    "\n",
    "Podemos representar estas situações condicionais com o seguinte diagrama:\n",
    "![image.png](attachment:image.png)\n",
    "https://dq-blog-files.s3.amazonaws.com/if-else/if_else_flow_diagram_highlighted.svg\n",
    "\n",
    "Então teremos um bloco de comandos que será executado caso a condição seja verdadeira, e um segundo bloco que será executado caso a condição seja falsa. Note que os blocos são executados de maneira exclusiva, ou seja, a expressão não pode ser verdadeira e falsa ao mesmo tempo, então apenas um deles será executado cada vez que o programa passar pelo *if else*. É importante salientar que não é obrigatório existir um bloco *else*.\n",
    "\n",
    "Vamos resolver alguns exercícios como exemplo!"
   ]
  },
  {
   "cell_type": "markdown",
   "id": "a32cac13",
   "metadata": {},
   "source": [
    "**Exercício 1** Suponha que um usuário esteja em processo de escolha de senha. Cria uma variável para armazenar a senha.\n",
    "\n",
    "a) Verifique se a senha possui o comprimento mínimo de seis caracteres. Exiba as mensagens *'Tamanho mínimo atingido!'* ou *'A senha é curta demais!'*, conforme a situação."
   ]
  },
  {
   "cell_type": "code",
   "execution_count": null,
   "id": "23eeb079",
   "metadata": {},
   "outputs": [],
   "source": [
    "senha = '123456'\n",
    "\n",
    "tam = len(senha)\n",
    "\n",
    "if tam >= 6:\n",
    "    print('Tamanho mínimo atingido!')\n",
    "else:\n",
    "    print('A senha é curta demais!')"
   ]
  },
  {
   "cell_type": "markdown",
   "id": "41ebb03a",
   "metadata": {},
   "source": [
    "b) Verifique se a senha é numérica. Exiba as mensagens *'Senha numérica Ok!'* ou *'A senha deve ser numérica!'*, conforme a situação."
   ]
  },
  {
   "cell_type": "code",
   "execution_count": null,
   "id": "95daec3a",
   "metadata": {},
   "outputs": [],
   "source": [
    "senha = '123456a'\n",
    "\n",
    "if # Complete aqui!:\n",
    "    print('Senha numérica Ok!')\n",
    "else:\n",
    "    print('A senha deve ser numérica!')"
   ]
  },
  {
   "cell_type": "markdown",
   "id": "22a1e682",
   "metadata": {},
   "source": [
    "c) Verifique se a senha possui o comprimento mínimo de seis caracteres e máximo de oito caracteres. Exiba as mensagens *'Tamanho ok!'*, *'A senha é curta demais!'* ou *'A senha é longa demais!'*, conforme a situação."
   ]
  },
  {
   "cell_type": "code",
   "execution_count": null,
   "id": "1b543dc0",
   "metadata": {
    "scrolled": true
   },
   "outputs": [],
   "source": [
    "senha = '123456xxs'\n",
    "\n",
    "# seu codigo aqui!"
   ]
  },
  {
   "cell_type": "markdown",
   "id": "c8814d58",
   "metadata": {},
   "source": [
    "**Exercício 2** Agora, utilize listas, estruturas de repetição e seleção para remover duplicações de uma lista."
   ]
  },
  {
   "cell_type": "code",
   "execution_count": null,
   "id": "d32ba546",
   "metadata": {},
   "outputs": [],
   "source": [
    "lista_dup = ['oi', 'vai', 'modelo', 'vai', 'estimar', 'modelo', 'modelo', 'a', 'por']\n",
    "lista_unica = []\n",
    "\n",
    "# seu codigo aqui! Faça usando FOR\n",
    "        \n",
    "lista_unica"
   ]
  },
  {
   "cell_type": "markdown",
   "id": "1746abdb",
   "metadata": {},
   "source": [
    "Na parte 1 vimos um exercícios sobre remoção de duplicações.\n",
    "\n",
    "Podemos eliminar duplicações em uma lista ao transformá-la em um **set**, e depois transformá-la novamente para uma lista."
   ]
  },
  {
   "cell_type": "code",
   "execution_count": null,
   "id": "c763596e",
   "metadata": {},
   "outputs": [],
   "source": [
    "lista_sem_dup = list(set(lista_dup))\n",
    "lista_sem_dup"
   ]
  },
  {
   "cell_type": "markdown",
   "id": "5b9b6884",
   "metadata": {},
   "source": [
    "o que também pode ser útil para remoção de stop words!"
   ]
  },
  {
   "cell_type": "code",
   "execution_count": null,
   "id": "4d388bbb",
   "metadata": {},
   "outputs": [],
   "source": [
    "stop_w = ['a', 'por', 'oi']\n",
    "list(set(lista_sem_dup) - set(stop_w))"
   ]
  },
  {
   "cell_type": "markdown",
   "id": "dfcdc9d3",
   "metadata": {},
   "source": [
    "**Exercício 3** Crie uma função chamada **count_digits** que conta quantos dígitos existem em uma string:"
   ]
  },
  {
   "cell_type": "code",
   "execution_count": null,
   "id": "0d243c86",
   "metadata": {},
   "outputs": [],
   "source": [
    "def count_digits(msg):\n",
    "    # seu codigo aqui!\n",
    "    return qtde"
   ]
  },
  {
   "cell_type": "markdown",
   "id": "68ec1e5d",
   "metadata": {},
   "source": [
    "## Testes automatizados\n",
    "\n",
    "Algo legal de se utilizar funções é que, como ela é um pequeno bloco de código, que resolve um problema geralmente pequeno e bem específico, é fácil imaginarmos possíveis situações onde conseguimos testar a função, simulando entradas e conferindo se o resultado bate com o esperado.\n",
    "\n",
    "Veja na sequência, quando criamos testes para verificar se a função **count_digits** retorna a quantidade corretas de dígitos quando recebe uma mensagem de *\\\"Bom dia!\\\"*. Sabemos que neste caso o resultado esperado é zero, então:"
   ]
  },
  {
   "cell_type": "code",
   "execution_count": null,
   "id": "60762ea4",
   "metadata": {},
   "outputs": [],
   "source": [
    "assert count_digits('Bom dia!') == 0"
   ]
  },
  {
   "cell_type": "markdown",
   "id": "903be985",
   "metadata": {},
   "source": [
    "Veja outros exemplos:"
   ]
  },
  {
   "cell_type": "code",
   "execution_count": null,
   "id": "2d12f8e8",
   "metadata": {},
   "outputs": [],
   "source": [
    "# Funciona com string vazia?\n",
    "assert count_digits('') == 0\n",
    "\n",
    "# Funciona com string toda numerica?\n",
    "assert count_digits('1019') == 4\n",
    "\n",
    "# Funciona com letras e numeros?\n",
    "assert count_digits('Estamos em 2021, meu 19º ano de vida!') == 6"
   ]
  },
  {
   "cell_type": "markdown",
   "id": "12117c44",
   "metadata": {},
   "source": [
    "A partir de agora, sempre que possível crie testes para validar as funções que desenvolver!\n",
    "\n",
    "**Exercício 4** Crie uma função que recebe uma string e retorna uma lista com apenas os números do conjunto dos inteiros que fazem parte da mensagem:"
   ]
  },
  {
   "cell_type": "code",
   "execution_count": null,
   "id": "497de006",
   "metadata": {},
   "outputs": [],
   "source": []
  },
  {
   "cell_type": "markdown",
   "id": "82512d89",
   "metadata": {},
   "source": [
    "**Exercício 5** Crie uma função que recebe duas strings e retorna uma lista com as palavras contidas em ambas as strings. Remova pontuações e faça com que sua solução seja indiferente para maiúsculas / minúsculas."
   ]
  },
  {
   "cell_type": "code",
   "execution_count": null,
   "id": "8e752854",
   "metadata": {},
   "outputs": [],
   "source": [
    "def palavras_comum(str1, str2):\n",
    "    # seu codigo aqui!\n",
    "    return intersect\n",
    "\n",
    "palavras_comum('eu quero saber das ferias', 'FERIAS eu nunca tive')"
   ]
  },
  {
   "cell_type": "markdown",
   "id": "72b2213c",
   "metadata": {},
   "source": [
    "**Exercício 6** Crie uma função que recebe uma string e verifica se está no formato de CEP.\n",
    "- Ex: 78663-001 retorna **True**\n",
    "- Ex: 7866-3001 retorna **False**\n",
    "\n",
    "Obs: sem usar expressão regular!"
   ]
  },
  {
   "cell_type": "code",
   "execution_count": null,
   "id": "a31d1871",
   "metadata": {},
   "outputs": [],
   "source": [
    "# Esta não é a melhor forma de fazer isso, veremos outras formas mais simples no futuro!\n",
    "def cep_ok(cep):\n",
    "    # seu codigo aqui!\n",
    "    \n",
    "cep_ok('78663-001')"
   ]
  },
  {
   "cell_type": "markdown",
   "id": "7805a6b0",
   "metadata": {},
   "source": [
    "**Exercício 7** Em qualquer lugar que contenha textos, é comum que ocorram variações de escrita de uma palavra:\n",
    "\n",
    "Crie uma função que recebe:\n",
    "- uma **mensagem**\n",
    "- uma **palavra**, escrita de forma padrão\n",
    "- uma lista de variantes de escrita da **palavra**\n",
    "\n",
    "e retorna a mensagem corrigida. Ou seja, qualquer variantes de escrita da palavra deve ser substituída pela escrita padrão:"
   ]
  },
  {
   "cell_type": "code",
   "execution_count": null,
   "id": "61c1d356",
   "metadata": {},
   "outputs": [],
   "source": [
    "def corrige_grafia(msg, palavra, lista_erronea):\n",
    "    # seu codigo aqui!\n",
    "    return msg\n",
    "\n",
    "\n",
    "msg = 'smartphone apple iphone12 64g blck'\n",
    "\n",
    "msg_corrigida = corrige_grafia(msg, '64gb', ['64g', '64 gb'])\n",
    "msg_corrigida = corrige_grafia(msg_corrigida, 'preto', ['black', 'blck', 'blk', 'bl', 'pto', 'pt'])\n",
    "\n",
    "print(msg)\n",
    "print(msg_corrigida)"
   ]
  },
  {
   "cell_type": "markdown",
   "id": "3f20685d",
   "metadata": {},
   "source": [
    "## Arquivos\n",
    "\n",
    "Vamos ver um exemplo de como trabalhar com arquivos de texto. Para isto, iremos utilizar o abstract da tese de doutorado da prêmio nobel de economia de 2019 Esther Duflo. O arquivo está em *dataset/esther_duflo.txt*.\n",
    "\n",
    "Para ler o texto todo e exibir na tela, podemos fazer:"
   ]
  },
  {
   "cell_type": "code",
   "execution_count": null,
   "id": "13ac7344",
   "metadata": {},
   "outputs": [],
   "source": [
    "file_path = 'esther_duflo.txt'\n",
    "\n",
    "with open(file_path, 'r') as arquivo:\n",
    "    text = arquivo.read()\n",
    "    \n",
    "print(text)"
   ]
  },
  {
   "cell_type": "markdown",
   "id": "aaef71ae",
   "metadata": {},
   "source": [
    "**Exercício 8** Utilize o que aprendeu na parte 1 para criar um código que:\n",
    "- Remova as pontuações do texto\n",
    "- Separa as palavras em uma lista"
   ]
  },
  {
   "cell_type": "code",
   "execution_count": null,
   "id": "863cfc79",
   "metadata": {},
   "outputs": [],
   "source": [
    "pontuacao = [',', '.', '?', '!']\n",
    "\n",
    "# seu codigo aqui!\n",
    "\n",
    "print(palavras_clean)"
   ]
  },
  {
   "cell_type": "markdown",
   "id": "3d3be2d0",
   "metadata": {},
   "source": [
    "**Exercício 9** Crie um bloco de código para identificar todas as palavras numéricas. Retorne uma lista."
   ]
  },
  {
   "cell_type": "code",
   "execution_count": null,
   "id": "6063eff3",
   "metadata": {},
   "outputs": [],
   "source": [
    "# Apenas um exemplo. Tudo depende do que irá querer buscar e de como \"limpou\"/pré-processou o texto\n",
    "palavras_num = []\n",
    "for palavra in palavras_clean:\n",
    "    if palavra[0].isnumeric():\n",
    "        palavras_num.append(palavra)\n",
    "    if palavra.endswith('%'):\n",
    "        palavras_num.append(palavra)\n",
    "        \n",
    "        \n",
    "print(palavras_num)"
   ]
  },
  {
   "cell_type": "markdown",
   "id": "134deb56",
   "metadata": {},
   "source": [
    "**Exercício 10** Utilizando as palavras limpas do texto da Esther Duflo:\n",
    "\n",
    "a) Crie um bloco de código que receba uma lista de palavras e retorne outra lista apenas com as palavras que estão no texto:"
   ]
  },
  {
   "cell_type": "code",
   "execution_count": null,
   "id": "44a47ea7",
   "metadata": {},
   "outputs": [],
   "source": [
    "lista_busca = ['predictions', 'model', 'artificial', 'evaluates', 'correlates', 'correlation']"
   ]
  },
  {
   "cell_type": "code",
   "execution_count": null,
   "id": "c64e3614",
   "metadata": {},
   "outputs": [],
   "source": [
    "lista_ambas = []\n",
    "# seu codigo aqui!\n",
    "        \n",
    "print(lista_ambas)"
   ]
  },
  {
   "cell_type": "markdown",
   "id": "628a0d09",
   "metadata": {},
   "source": [
    "b) Altere o código anterior para exibir uma mensagem \"Nada encontrado\" se a busca não tiver sucesso, ou a lista de palavras que estão no texto e foram encontradas."
   ]
  },
  {
   "cell_type": "code",
   "execution_count": null,
   "id": "9db110ba",
   "metadata": {},
   "outputs": [],
   "source": [
    "if len(lista_ambas) == 0:\n",
    "    print('Nada encontrado')\n",
    "else:\n",
    "    print('Palavras no texto: {}'.format(lista_ambas))"
   ]
  },
  {
   "cell_type": "markdown",
   "id": "f586740e",
   "metadata": {},
   "source": [
    "c) Você consegue pensar em alguma aplicação prática desta busca por termos?"
   ]
  },
  {
   "cell_type": "markdown",
   "id": "658b3f71",
   "metadata": {},
   "source": [
    "R:"
   ]
  },
  {
   "cell_type": "markdown",
   "id": "eee3e4a3",
   "metadata": {},
   "source": [
    "d) Imagine que você tenha textos do abstract da tese de outros economistas. Pense que tenha também o abstract da tese de matemáticos e psicólogos. Pensando nestes três grupos, você consegue pensar em alguma estratégia para identificar se um abstract novo aparenta ser de um economista, matemático ou psicólogo?"
   ]
  },
  {
   "cell_type": "markdown",
   "id": "5b7aa659",
   "metadata": {},
   "source": [
    "R:"
   ]
  },
  {
   "cell_type": "markdown",
   "id": "3fb78053",
   "metadata": {},
   "source": [
    "## Dicionários + Listas\n",
    "\n",
    "Dicionários são estruturas de dados que permitem armazenar **chave** e **valor**.\n",
    "\n",
    "Ex: armazenar, entre diversas palavras, se elas são expressam geralmente um sentimento negativo, positivo ou neutro:"
   ]
  },
  {
   "cell_type": "code",
   "execution_count": null,
   "id": "4d5de466",
   "metadata": {},
   "outputs": [],
   "source": [
    "palavras_sent = dict({'odeio' : 'negativo',\n",
    "                      'amo' : 'positivo',\n",
    "                      'quero' : 'neutro',\n",
    "                      'manhã' : 'neutro',\n",
    "                      'problema' : 'negativo',\n",
    "                      'raiva' : 'negativo',\n",
    "                      'paz' : 'positivo'})\n",
    "\n",
    "\n",
    "print(palavras_sent)"
   ]
  },
  {
   "cell_type": "markdown",
   "id": "2b9930b1",
   "metadata": {},
   "source": [
    "Ex: armazenar o salário de algumas pessoas."
   ]
  },
  {
   "cell_type": "code",
   "execution_count": null,
   "id": "ea95facd",
   "metadata": {},
   "outputs": [],
   "source": [
    "salario = dict({'Bruna' : 3500.78,\n",
    "                'Antônio' : 9880.18,\n",
    "                'Maria' : 7533.19})\n",
    "\n",
    "\n",
    "print(salario)"
   ]
  },
  {
   "cell_type": "markdown",
   "id": "397346a5",
   "metadata": {},
   "source": [
    "Vamos consultar o salário da Maria:"
   ]
  },
  {
   "cell_type": "code",
   "execution_count": null,
   "id": "6964d4d5",
   "metadata": {},
   "outputs": [],
   "source": [
    "salario['Maria']"
   ]
  },
  {
   "cell_type": "markdown",
   "id": "4e7d517a",
   "metadata": {},
   "source": [
    "Vamos alterar o salário da Bruna:"
   ]
  },
  {
   "cell_type": "code",
   "execution_count": null,
   "id": "7ff285ce",
   "metadata": {},
   "outputs": [],
   "source": [
    "salario['Bruna'] = 4200.00"
   ]
  },
  {
   "cell_type": "markdown",
   "id": "b507f1b6",
   "metadata": {},
   "source": [
    "Agora, consultando o salário da Bruna:"
   ]
  },
  {
   "cell_type": "code",
   "execution_count": null,
   "id": "a58fe8ff",
   "metadata": {},
   "outputs": [],
   "source": [
    "salario['Bruna']"
   ]
  },
  {
   "cell_type": "markdown",
   "id": "1c57a419",
   "metadata": {},
   "source": [
    "E todos os salários:"
   ]
  },
  {
   "cell_type": "code",
   "execution_count": null,
   "id": "a0b9b18c",
   "metadata": {},
   "outputs": [],
   "source": [
    "salario"
   ]
  },
  {
   "cell_type": "markdown",
   "id": "2a78fed2",
   "metadata": {},
   "source": [
    "Voltando ao primeiro exemplo, podemos consultar todas as chaves:"
   ]
  },
  {
   "cell_type": "code",
   "execution_count": null,
   "id": "c299f6bc",
   "metadata": {},
   "outputs": [],
   "source": [
    "palavras_sent.keys()"
   ]
  },
  {
   "cell_type": "markdown",
   "id": "91aa902c",
   "metadata": {},
   "source": [
    "e também todas os valores:"
   ]
  },
  {
   "cell_type": "code",
   "execution_count": null,
   "id": "d953c6d6",
   "metadata": {},
   "outputs": [],
   "source": [
    "palavras_sent.values()"
   ]
  },
  {
   "cell_type": "markdown",
   "id": "27781f65",
   "metadata": {},
   "source": [
    "ou consultar o valor de uma chave específica:"
   ]
  },
  {
   "cell_type": "code",
   "execution_count": null,
   "id": "68a9675a",
   "metadata": {},
   "outputs": [],
   "source": [
    "palavras_sent['problema']"
   ]
  },
  {
   "cell_type": "markdown",
   "id": "16ef2d38",
   "metadata": {},
   "source": [
    "Você também pode iterar sobre o dicionário, acessando suas chaves e valores:"
   ]
  },
  {
   "cell_type": "code",
   "execution_count": null,
   "id": "8f758fd3",
   "metadata": {},
   "outputs": [],
   "source": [
    "for chave, valor in palavras_sent.items():\n",
    "    print('A chave {} possui o valor {}'.format(chave, valor))"
   ]
  },
  {
   "cell_type": "markdown",
   "id": "22cbe1a2",
   "metadata": {},
   "source": [
    "para saber mais sobre dicionários, consulte https://docs.python.org/3/tutorial/datastructures.html#dictionaries"
   ]
  },
  {
   "cell_type": "markdown",
   "id": "2560fa5a",
   "metadata": {},
   "source": [
    "**Exercício 11** Utilizando as palavras no abstract da Esther Duflo:\n",
    "\n",
    "a) Crie um bloco de código que retorne a frequência absoluta das palavras"
   ]
  },
  {
   "cell_type": "code",
   "execution_count": null,
   "id": "0b77530d",
   "metadata": {},
   "outputs": [],
   "source": [
    "# use FOR!\n",
    "# seu codigo aqui!"
   ]
  },
  {
   "cell_type": "markdown",
   "id": "04ad5b0c",
   "metadata": {},
   "source": [
    "b) Crie um código que retorne a palavra mais frequente:"
   ]
  },
  {
   "cell_type": "code",
   "execution_count": null,
   "id": "2cc08172",
   "metadata": {},
   "outputs": [],
   "source": [
    "# seu codigo aqui!"
   ]
  },
  {
   "cell_type": "code",
   "execution_count": null,
   "id": "5f550716",
   "metadata": {},
   "outputs": [],
   "source": [
    "print('A palavra mais frequente é \"{}\", que aparece {} vezes no texto'.format(pal_mais_freq.upper(), qtde))"
   ]
  },
  {
   "cell_type": "markdown",
   "id": "5cd22656",
   "metadata": {},
   "source": [
    "c) Exiba de forma **ordenada**, da palavra mais frequente para a menos frequente:"
   ]
  },
  {
   "cell_type": "code",
   "execution_count": null,
   "id": "2df2f265",
   "metadata": {},
   "outputs": [],
   "source": []
  },
  {
   "cell_type": "markdown",
   "id": "46a1e2a7",
   "metadata": {},
   "source": [
    "d) Vamos gerar um gráfico com estas palavras?"
   ]
  },
  {
   "cell_type": "code",
   "execution_count": null,
   "id": "eb4d0ffb",
   "metadata": {},
   "outputs": [],
   "source": [
    "fig = plt.figure(figsize = (10, 5))\n",
    "\n",
    "# O dicionario precisa se chamar contagem\n",
    "plt.bar(contagem.keys(), contagem.values())\n",
    "\n",
    "plt.show()"
   ]
  },
  {
   "cell_type": "markdown",
   "id": "6f2aab2a",
   "metadata": {},
   "source": [
    "e) Exiba apenas o top 10 (as 10 palavras mais frequentes) em um gráfico de barras:"
   ]
  },
  {
   "cell_type": "code",
   "execution_count": null,
   "id": "1b184a07",
   "metadata": {},
   "outputs": [],
   "source": [
    "# seu codigo aqui!    "
   ]
  },
  {
   "cell_type": "markdown",
   "id": "0f3178cf",
   "metadata": {},
   "source": [
    "Agora, vamos gerar um gráfico com estas contagens!"
   ]
  },
  {
   "cell_type": "code",
   "execution_count": null,
   "id": "3eceeffd",
   "metadata": {},
   "outputs": [],
   "source": []
  },
  {
   "cell_type": "markdown",
   "id": "b418bbeb",
   "metadata": {},
   "source": [
    "Esta abordagem, de olhar as palavras mais frequêntes, faz sentido? Considera estas palavras como informativas?"
   ]
  },
  {
   "cell_type": "markdown",
   "id": "7d06550d",
   "metadata": {},
   "source": [
    "R:"
   ]
  },
  {
   "cell_type": "markdown",
   "id": "6cfdc980",
   "metadata": {},
   "source": [
    "## Lendo todos os arquivos de um diretório\n",
    "\n",
    "Para isto, podemos utilizar **os.listdir(caminho)**:"
   ]
  },
  {
   "cell_type": "code",
   "execution_count": null,
   "id": "f62e4782",
   "metadata": {},
   "outputs": [],
   "source": [
    "path_dir = 'dataset'\n",
    "\n",
    "lista_arquivos = os.listdir(path_dir)\n",
    "lista_arquivos"
   ]
  },
  {
   "cell_type": "markdown",
   "id": "57457bcc",
   "metadata": {},
   "source": [
    "Podemos também iterar nos arquivos e armazenar o conteúdo deles em uma lista:"
   ]
  },
  {
   "cell_type": "code",
   "execution_count": null,
   "id": "3ff893fc",
   "metadata": {},
   "outputs": [],
   "source": [
    "text = []\n",
    "for arquivo in lista_arquivos:\n",
    "    if arquivo.endswith('.txt'):\n",
    "        file_path = os.path.join(path_dir, arquivo)\n",
    "        with open(file_path, 'r') as file:\n",
    "            abstract = file.read()\n",
    "            text.append(abstract)"
   ]
  },
  {
   "cell_type": "code",
   "execution_count": null,
   "id": "2adb9a42",
   "metadata": {},
   "outputs": [],
   "source": [
    "text"
   ]
  },
  {
   "cell_type": "markdown",
   "id": "653b2741",
   "metadata": {},
   "source": [
    "**Exercício 12** Sobre o que fizemos hoje.\n",
    "\n",
    "a) Voce consegue identificar blocos que poderiam virar funções?\n",
    "\n",
    "b) Transforme estes blocos em funções e os utilize para analisar os demais arquivos de texto.\n"
   ]
  },
  {
   "cell_type": "code",
   "execution_count": null,
   "id": "8d8ba1c5",
   "metadata": {},
   "outputs": [],
   "source": []
  }
 ],
 "metadata": {
  "kernelspec": {
   "display_name": "Python 3 (ipykernel)",
   "language": "python",
   "name": "python3"
  },
  "language_info": {
   "codemirror_mode": {
    "name": "ipython",
    "version": 3
   },
   "file_extension": ".py",
   "mimetype": "text/x-python",
   "name": "python",
   "nbconvert_exporter": "python",
   "pygments_lexer": "ipython3",
   "version": "3.8.3"
  }
 },
 "nbformat": 4,
 "nbformat_minor": 5
}
