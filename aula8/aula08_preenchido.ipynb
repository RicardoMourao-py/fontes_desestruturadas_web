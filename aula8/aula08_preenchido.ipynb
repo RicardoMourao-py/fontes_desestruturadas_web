{
 "cells": [
  {
   "cell_type": "markdown",
   "id": "comprehensive-turkey",
   "metadata": {},
   "source": [
    "# Análise de texto de fontes desestruturadas e Web\n",
    "\n",
    "## Aula 08\n",
    "\n",
    "Nesta aula iremos trabalhar com **Expressões Regulares**, termo comumente abreviado para **RegEx**. Regex provê uma forma eficiente de encontrar padrões regulares em corpus textuais. \n",
    "\n",
    "A biblioteca utilizada será a **re**.\n",
    "\n",
    "Para conhecer mais sobre ela, acesse https://docs.python.org/3/library/re.html"
   ]
  },
  {
   "cell_type": "markdown",
   "id": "weird-patrol",
   "metadata": {},
   "source": [
    "## Importando as bibliotecas necessárias\n",
    "\n",
    "Agora, vamos importar as bibliotecas necessárias:"
   ]
  },
  {
   "cell_type": "code",
   "execution_count": 2,
   "id": "unlike-france",
   "metadata": {},
   "outputs": [],
   "source": [
    "# para trabalhar com diretórios / sistema operacional\n",
    "import os\n",
    "\n",
    "# para trabalhar com expressões regulares\n",
    "import re\n",
    "\n",
    "# utilizada para nos indicar o caminho do executável do Python\n",
    "import sys"
   ]
  },
  {
   "cell_type": "markdown",
   "id": "acquired-regard",
   "metadata": {},
   "source": [
    "Caso obtenha algum erro, utilize o **!pip install** para instalar a biblioteca ausente!\n",
    "\n",
    "Vamos conferir com qual versão da biblioteca **re** estamos trabalhando?"
   ]
  },
  {
   "cell_type": "code",
   "execution_count": 3,
   "id": "removable-calvin",
   "metadata": {},
   "outputs": [
    {
     "name": "stdout",
     "output_type": "stream",
     "text": [
      "2.2.1\n"
     ]
    }
   ],
   "source": [
    "print(re.__version__)"
   ]
  },
  {
   "cell_type": "markdown",
   "id": "fewer-voluntary",
   "metadata": {},
   "source": [
    "Você também pode conferir de onde está executando o Python e qual a versão"
   ]
  },
  {
   "cell_type": "code",
   "execution_count": 4,
   "id": "aggregate-secondary",
   "metadata": {},
   "outputs": [
    {
     "name": "stdout",
     "output_type": "stream",
     "text": [
      "Executável:\n",
      "/home/calebe/anaconda3/envs/atd/bin/python\n",
      "\n",
      "Versão do Python:\n",
      "3.8.16 (default, Jan 17 2023, 23:13:24) \n",
      "[GCC 11.2.0]\n"
     ]
    }
   ],
   "source": [
    "print('Executável:')\n",
    "print(sys.executable)\n",
    "\n",
    "print('\\nVersão do Python:')\n",
    "print(sys.version)"
   ]
  },
  {
   "cell_type": "markdown",
   "id": "multiple-premium",
   "metadata": {},
   "source": [
    "Vamos conferir em qual diretório iremos trabalhar (é o diretório do notebook)"
   ]
  },
  {
   "cell_type": "code",
   "execution_count": 5,
   "id": "revolutionary-quantity",
   "metadata": {},
   "outputs": [
    {
     "name": "stdout",
     "output_type": "stream",
     "text": [
      "O seu notebook está na pasta:\n",
      "/home/calebe/Dropbox/insper/23_1/atd/aulas/aula08/notebooks\n"
     ]
    }
   ],
   "source": [
    "print('O seu notebook está na pasta:')\n",
    "print(os.getcwd())"
   ]
  },
  {
   "cell_type": "markdown",
   "id": "published-acceptance",
   "metadata": {},
   "source": [
    "# Praticando!\n",
    "\n",
    "Vamos ver como utilizar expressões regulares para encontrar padrões em textos.\n",
    "\n",
    "Primeiro, vamos procurar por uma palavra em uma mensagem:"
   ]
  },
  {
   "cell_type": "code",
   "execution_count": 6,
   "id": "durable-complex",
   "metadata": {},
   "outputs": [],
   "source": [
    "msg = 'Do total de 18 produtos em estoque, apenas 3 tiveram vendas na última semana!'"
   ]
  },
  {
   "cell_type": "markdown",
   "id": "thermal-detroit",
   "metadata": {},
   "source": [
    "Agora que temos a mensagem, vamos procurar pela palavra **vendas**. Para isto, vamos utilizar a função `re.search`. Veja mais em https://docs.python.org/3/library/re.html#re.search"
   ]
  },
  {
   "cell_type": "code",
   "execution_count": 11,
   "id": "decent-missile",
   "metadata": {},
   "outputs": [
    {
     "data": {
      "text/plain": [
       "<re.Match object; span=(53, 59), match='vendas'>"
      ]
     },
     "execution_count": 11,
     "metadata": {},
     "output_type": "execute_result"
    }
   ],
   "source": [
    "exp = r'vendas'\n",
    "resultado = re.search(exp, msg)\n",
    "resultado"
   ]
  },
  {
   "cell_type": "markdown",
   "id": "stretch-honey",
   "metadata": {},
   "source": [
    "será que podemos verificar se algo foi encontrado?"
   ]
  },
  {
   "cell_type": "code",
   "execution_count": 12,
   "id": "finished-cancellation",
   "metadata": {},
   "outputs": [
    {
     "name": "stdout",
     "output_type": "stream",
     "text": [
      "Encontrou!\n"
     ]
    }
   ],
   "source": [
    "if resultado:\n",
    "    print('Encontrou!')\n",
    "else:\n",
    "    print('Nao encontrou!')"
   ]
  },
  {
   "cell_type": "markdown",
   "id": "eastern-creation",
   "metadata": {},
   "source": [
    "## Utilizando ReGex para substituição\n",
    "\n",
    "Quando realizamos a extração de dados (Web, PDF), é quase mandatório a necessidade da realização de um processo de limpeza e preparação dos dados. A remoção ou alteração da escrita de palavras pode ser realizada por substituições.\n",
    "\n",
    "**Vamos ver como substituir ocorrências?**\n",
    "\n",
    "Suponha que exista um erro em um texto ou você queira substituir uma palavra por outra equivalente:"
   ]
  },
  {
   "cell_type": "code",
   "execution_count": 19,
   "id": "hollywood-support",
   "metadata": {},
   "outputs": [],
   "source": [
    "txt = 'Lyft vende unidade de carros automonos para a Toyota. Carros automonos serão a próxima moda!'"
   ]
  },
  {
   "cell_type": "markdown",
   "id": "45310c87",
   "metadata": {},
   "source": [
    "Vamos substituir `automonos` por `autônomos`. Veja mais em https://docs.python.org/3/library/re.html#re.sub"
   ]
  },
  {
   "cell_type": "code",
   "execution_count": 16,
   "id": "changing-protection",
   "metadata": {},
   "outputs": [
    {
     "data": {
      "text/plain": [
       "'Lyft vende unidade de carros autônomos para a Toyota. Carros autônomos serão a próxima moda!'"
      ]
     },
     "execution_count": 16,
     "metadata": {},
     "output_type": "execute_result"
    }
   ],
   "source": [
    "re.sub(r'automonos', 'autônomos', txt)"
   ]
  },
  {
   "cell_type": "markdown",
   "id": "loaded-cargo",
   "metadata": {},
   "source": [
    "perceba que a variável não foi alterada, caso queira você precisa fazer uma atribuição *txt = re.sub...*."
   ]
  },
  {
   "cell_type": "code",
   "execution_count": 17,
   "id": "extended-rendering",
   "metadata": {},
   "outputs": [
    {
     "data": {
      "text/plain": [
       "'Lyft vende unidade de carros automonos para a Toyota. Carros automonos serão a próxima moda!'"
      ]
     },
     "execution_count": 17,
     "metadata": {},
     "output_type": "execute_result"
    }
   ],
   "source": [
    "txt"
   ]
  },
  {
   "cell_type": "code",
   "execution_count": 20,
   "id": "demographic-awareness",
   "metadata": {},
   "outputs": [
    {
     "data": {
      "text/plain": [
       "'Lyft vende unidade de carros autônomos para a Toyota. Carros autônomos serão a próxima moda!'"
      ]
     },
     "execution_count": 20,
     "metadata": {},
     "output_type": "execute_result"
    }
   ],
   "source": [
    "txt_limpo = re.sub(r'automonos', 'autônomos', txt)\n",
    "txt_limpo"
   ]
  },
  {
   "cell_type": "markdown",
   "id": "informal-halloween",
   "metadata": {},
   "source": [
    "Em algumas situações, é necessário realizar a substituição apenas das primeiras **k** ocorrências. Podemos realizar esta alteração utilizando o parâmetro **count**."
   ]
  },
  {
   "cell_type": "code",
   "execution_count": 21,
   "id": "great-hanging",
   "metadata": {},
   "outputs": [
    {
     "data": {
      "text/plain": [
       "'Lyft vende unidade de carros autônomos para a Toyota. Carros automonos serão a próxima moda!'"
      ]
     },
     "execution_count": 21,
     "metadata": {},
     "output_type": "execute_result"
    }
   ],
   "source": [
    "re.sub(r'automonos', 'autônomos', txt, count=1)"
   ]
  },
  {
   "cell_type": "code",
   "execution_count": null,
   "id": "developmental-directory",
   "metadata": {},
   "outputs": [],
   "source": []
  },
  {
   "cell_type": "markdown",
   "id": "matched-cassette",
   "metadata": {},
   "source": [
    "## Procurando múltiplas ocorrências\n",
    "\n",
    "Para encontrar múltiplas ocorrências, podemos utilizar a função **findall**."
   ]
  },
  {
   "cell_type": "code",
   "execution_count": 22,
   "id": "progressive-platform",
   "metadata": {},
   "outputs": [],
   "source": [
    "noticia = '''\n",
    "A Lyft, rival da Uber nos Estados Unidos,\n",
    "vai vender sua unidade de tecnologia de carros autônomos para\n",
    "a Toyota em um acordo de 550 milhões de dólares, anunciaram as\n",
    "empresas nesta segunda-feira. A venda vai ajudar a lyft a se\n",
    "concentrar em parcerias com a ajuda de companhias de direção autônoma que\n",
    "querem disponibilizar tecnologia na plataforma da empresa, em vez\n",
    "da companhia ter de investir pesaaaaaadas somas em desenvolvimento de\n",
    "tecnologia que ainda não foi colocada em uso amplo.\n",
    "'''"
   ]
  },
  {
   "cell_type": "markdown",
   "id": "metropolitan-romance",
   "metadata": {},
   "source": [
    "Vamos procurar por todas as ocorrências de Lyft? Veja mais em https://docs.python.org/3/library/re.html#re.findall"
   ]
  },
  {
   "cell_type": "code",
   "execution_count": 23,
   "id": "least-italic",
   "metadata": {},
   "outputs": [
    {
     "data": {
      "text/plain": [
       "['Lyft']"
      ]
     },
     "execution_count": 23,
     "metadata": {},
     "output_type": "execute_result"
    }
   ],
   "source": [
    "re.findall(r'Lyft', noticia)"
   ]
  },
  {
   "cell_type": "markdown",
   "id": "different-operation",
   "metadata": {},
   "source": [
    "Perceba que apenas ocorrências em maiúsculo foram encontrados. Por padrão, a busca será **case sensitive**\n",
    "\n",
    "Vamos ver como alterar para que a busca seja feita **ignorando o case**:"
   ]
  },
  {
   "cell_type": "code",
   "execution_count": 24,
   "id": "brazilian-journal",
   "metadata": {},
   "outputs": [
    {
     "data": {
      "text/plain": [
       "['Lyft', 'lyft']"
      ]
     },
     "execution_count": 24,
     "metadata": {},
     "output_type": "execute_result"
    }
   ],
   "source": [
    "re.findall(r'Lyft', noticia, flags=re.IGNORECASE)"
   ]
  },
  {
   "cell_type": "markdown",
   "id": "collaborative-buying",
   "metadata": {},
   "source": [
    "E se quiséssemos procurar por *Lyft* **OU** *Uber*?"
   ]
  },
  {
   "cell_type": "code",
   "execution_count": 25,
   "id": "vulnerable-alabama",
   "metadata": {},
   "outputs": [
    {
     "data": {
      "text/plain": [
       "['Lyft', 'Uber', 'lyft']"
      ]
     },
     "execution_count": 25,
     "metadata": {},
     "output_type": "execute_result"
    }
   ],
   "source": [
    "re.findall(r'Lyft|uber', noticia, flags=re.IGNORECASE)"
   ]
  },
  {
   "cell_type": "code",
   "execution_count": 27,
   "id": "restricted-sheep",
   "metadata": {},
   "outputs": [
    {
     "data": {
      "text/plain": [
       "['Lyft', 'Uber', 'Toyota', 'lyft']"
      ]
     },
     "execution_count": 27,
     "metadata": {},
     "output_type": "execute_result"
    }
   ],
   "source": [
    "re.findall(r'Lyft|uber|Toyota', noticia, flags=re.IGNORECASE)"
   ]
  },
  {
   "cell_type": "markdown",
   "id": "aerial-poverty",
   "metadata": {},
   "source": [
    "E se quiséssemos procurar pela palavra milhões?"
   ]
  },
  {
   "cell_type": "code",
   "execution_count": 28,
   "id": "numerical-murray",
   "metadata": {},
   "outputs": [
    {
     "name": "stdout",
     "output_type": "stream",
     "text": [
      "\n",
      "A Lyft, rival da Uber nos Estados Unidos,\n",
      "vai vender sua unidade de tecnologia de carros autônomos para\n",
      "a Toyota em um acordo de 550 milhões de dólares, anunciaram as\n",
      "empresas nesta segunda-feira. A venda vai ajudar a lyft a se\n",
      "concentrar em parcerias com a ajuda de companhias de direção autônoma que\n",
      "querem disponibilizar tecnologia na plataforma da empresa, em vez\n",
      "da companhia ter de investir pesaaaaaadas somas em desenvolvimento de\n",
      "tecnologia que ainda não foi colocada em uso amplo.\n",
      "\n"
     ]
    }
   ],
   "source": [
    "print(noticia)"
   ]
  },
  {
   "cell_type": "code",
   "execution_count": 30,
   "id": "statutory-preview",
   "metadata": {},
   "outputs": [
    {
     "data": {
      "text/plain": [
       "['milhões']"
      ]
     },
     "execution_count": 30,
     "metadata": {},
     "output_type": "execute_result"
    }
   ],
   "source": [
    "re.findall(r'milhões', noticia)"
   ]
  },
  {
   "cell_type": "code",
   "execution_count": 31,
   "id": "f7a5e72d",
   "metadata": {},
   "outputs": [
    {
     "data": {
      "text/plain": [
       "['milhões']"
      ]
     },
     "execution_count": 31,
     "metadata": {},
     "output_type": "execute_result"
    }
   ],
   "source": [
    "re.findall(r'milh.es', noticia)"
   ]
  },
  {
   "cell_type": "markdown",
   "id": "5e9f978d",
   "metadata": {},
   "source": [
    "Como é uma palavra acentuada, podemos procurar também pela variante sem acento, ou utilizar uma alternativa. com o uso de **`.`**, podemos representar \"qualquer caractere\"."
   ]
  },
  {
   "cell_type": "code",
   "execution_count": null,
   "id": "inclusive-triumph",
   "metadata": {},
   "outputs": [],
   "source": []
  },
  {
   "cell_type": "markdown",
   "id": "turkish-italy",
   "metadata": {},
   "source": [
    "Consigo fazer match com qualquer caractere em um conjunto?"
   ]
  },
  {
   "cell_type": "code",
   "execution_count": 32,
   "id": "rolled-kruger",
   "metadata": {},
   "outputs": [
    {
     "name": "stdout",
     "output_type": "stream",
     "text": [
      "\n",
      "A Lyft, rival da Uber nos Estados Unidos,\n",
      "vai vender sua unidade de tecnologia de carros autônomos para\n",
      "a Toyota em um acordo de 550 milhões de dólares, anunciaram as\n",
      "empresas nesta segunda-feira. A venda vai ajudar a lyft a se\n",
      "concentrar em parcerias com a ajuda de companhias de direção autônoma que\n",
      "querem disponibilizar tecnologia na plataforma da empresa, em vez\n",
      "da companhia ter de investir pesaaaaaadas somas em desenvolvimento de\n",
      "tecnologia que ainda não foi colocada em uso amplo.\n",
      "\n"
     ]
    }
   ],
   "source": [
    "print(noticia)"
   ]
  },
  {
   "cell_type": "code",
   "execution_count": 34,
   "id": "mineral-report",
   "metadata": {},
   "outputs": [
    {
     "data": {
      "text/plain": [
       "['Lyft', 'Uber', 'Toyota', 'lyft']"
      ]
     },
     "execution_count": 34,
     "metadata": {},
     "output_type": "execute_result"
    }
   ],
   "source": [
    "re.findall(r'[Ll]yft|[Uu]ber|[Tt]oyota', noticia)"
   ]
  },
  {
   "cell_type": "markdown",
   "id": "empirical-transport",
   "metadata": {},
   "source": [
    "Agora, vamos conferir os quantificadores.\n",
    "\n",
    "Uma ou mais ocorrências de uma letra:"
   ]
  },
  {
   "cell_type": "code",
   "execution_count": 36,
   "id": "moral-mapping",
   "metadata": {},
   "outputs": [
    {
     "data": {
      "text/plain": [
       "['pesada']"
      ]
     },
     "execution_count": 36,
     "metadata": {},
     "output_type": "execute_result"
    }
   ],
   "source": [
    "re.findall(r'pesada', 'pesda pesada pesaada pesaaada pesaaaaaada')"
   ]
  },
  {
   "cell_type": "code",
   "execution_count": 37,
   "id": "3535ab33",
   "metadata": {},
   "outputs": [
    {
     "data": {
      "text/plain": [
       "['pesada', 'pesaada', 'pesaaada', 'pesaaaaaada']"
      ]
     },
     "execution_count": 37,
     "metadata": {},
     "output_type": "execute_result"
    }
   ],
   "source": [
    "re.findall(r'pesa+da', 'pesda pesada pesaada pesaaada pesaaaaaada')"
   ]
  },
  {
   "cell_type": "markdown",
   "id": "based-elder",
   "metadata": {},
   "source": [
    "zero ou uma ocorrências"
   ]
  },
  {
   "cell_type": "code",
   "execution_count": 38,
   "id": "caroline-thailand",
   "metadata": {},
   "outputs": [
    {
     "data": {
      "text/plain": [
       "['pesda', 'pesada', 'pesaada', 'pesaaada', 'pesaaaaaada']"
      ]
     },
     "execution_count": 38,
     "metadata": {},
     "output_type": "execute_result"
    }
   ],
   "source": [
    "re.findall(r'pesa*da', 'pesda pesada pesaada pesaaada pesaaaaaada')"
   ]
  },
  {
   "cell_type": "markdown",
   "id": "sound-action",
   "metadata": {},
   "source": [
    "Um número específico de vezes"
   ]
  },
  {
   "cell_type": "code",
   "execution_count": 39,
   "id": "tough-modeling",
   "metadata": {},
   "outputs": [
    {
     "data": {
      "text/plain": [
       "['pesaada']"
      ]
     },
     "execution_count": 39,
     "metadata": {},
     "output_type": "execute_result"
    }
   ],
   "source": [
    "re.findall(r'pesa{2}da', 'pesda pesada pesaada pesaaada pesaaaaaada')"
   ]
  },
  {
   "cell_type": "code",
   "execution_count": 40,
   "id": "5dcd4273",
   "metadata": {},
   "outputs": [
    {
     "data": {
      "text/plain": [
       "['pesda', 'pesada', 'pesaada']"
      ]
     },
     "execution_count": 40,
     "metadata": {},
     "output_type": "execute_result"
    }
   ],
   "source": [
    "re.findall(r'pesa{,2}da', 'pesda pesada pesaada pesaaada pesaaaaaada')"
   ]
  },
  {
   "cell_type": "markdown",
   "id": "recovered-commonwealth",
   "metadata": {},
   "source": [
    "Podemos também procurar números nos textos:"
   ]
  },
  {
   "cell_type": "code",
   "execution_count": 41,
   "id": "square-gasoline",
   "metadata": {},
   "outputs": [
    {
     "name": "stdout",
     "output_type": "stream",
     "text": [
      "\n",
      "A Lyft, rival da Uber nos Estados Unidos,\n",
      "vai vender sua unidade de tecnologia de carros autônomos para\n",
      "a Toyota em um acordo de 550 milhões de dólares, anunciaram as\n",
      "empresas nesta segunda-feira. A venda vai ajudar a lyft a se\n",
      "concentrar em parcerias com a ajuda de companhias de direção autônoma que\n",
      "querem disponibilizar tecnologia na plataforma da empresa, em vez\n",
      "da companhia ter de investir pesaaaaaadas somas em desenvolvimento de\n",
      "tecnologia que ainda não foi colocada em uso amplo.\n",
      "\n"
     ]
    }
   ],
   "source": [
    "print(noticia)"
   ]
  },
  {
   "cell_type": "code",
   "execution_count": 42,
   "id": "optical-courtesy",
   "metadata": {},
   "outputs": [
    {
     "data": {
      "text/plain": [
       "['5', '5', '0']"
      ]
     },
     "execution_count": 42,
     "metadata": {},
     "output_type": "execute_result"
    }
   ],
   "source": [
    "re.findall(r'[0-9]', noticia)"
   ]
  },
  {
   "cell_type": "code",
   "execution_count": 43,
   "id": "phantom-assets",
   "metadata": {},
   "outputs": [
    {
     "data": {
      "text/plain": [
       "['550']"
      ]
     },
     "execution_count": 43,
     "metadata": {},
     "output_type": "execute_result"
    }
   ],
   "source": [
    "re.findall(r'[0-9]+', noticia)"
   ]
  },
  {
   "cell_type": "code",
   "execution_count": 44,
   "id": "moved-reaction",
   "metadata": {},
   "outputs": [
    {
     "data": {
      "text/plain": [
       "['19', '350']"
      ]
     },
     "execution_count": 44,
     "metadata": {},
     "output_type": "execute_result"
    }
   ],
   "source": [
    "re.findall(r'[0-9]+', 'passaram 19 pessoas 350 vezes')"
   ]
  },
  {
   "cell_type": "code",
   "execution_count": 45,
   "id": "eastern-square",
   "metadata": {},
   "outputs": [
    {
     "data": {
      "text/plain": [
       "['19', '350']"
      ]
     },
     "execution_count": 45,
     "metadata": {},
     "output_type": "execute_result"
    }
   ],
   "source": [
    "re.findall(r'\\d+', 'passaram 19 pessoas 350 vezes')"
   ]
  },
  {
   "cell_type": "markdown",
   "id": "christian-threat",
   "metadata": {},
   "source": [
    "Podemos fazer o mesmo com as letras!"
   ]
  },
  {
   "cell_type": "code",
   "execution_count": 47,
   "id": "special-stage",
   "metadata": {},
   "outputs": [
    {
     "name": "stdout",
     "output_type": "stream",
     "text": [
      "['a', 's', 's', 'a', 'r', 'a', 'p', 'e', 's', 's', 'o', 'a', 's', 'v', 'e', 'z', 'e', 's']\n"
     ]
    }
   ],
   "source": [
    "print(re.findall(r'[a-z]', 'PassaraM 19 pessoas 350 vezes'))"
   ]
  },
  {
   "cell_type": "code",
   "execution_count": 48,
   "id": "czech-australian",
   "metadata": {},
   "outputs": [
    {
     "name": "stdout",
     "output_type": "stream",
     "text": [
      "['P', 'a', 's', 's', 'a', 'r', 'a', 'M', 'p', 'e', 's', 's', 'o', 'a', 's', 'v', 'e', 'z', 'e', 's']\n"
     ]
    }
   ],
   "source": [
    "print(re.findall(r'[a-zA-Z]', 'PassaraM 19 pessoas 350 vezes'))"
   ]
  },
  {
   "cell_type": "code",
   "execution_count": 49,
   "id": "critical-figure",
   "metadata": {},
   "outputs": [
    {
     "name": "stdout",
     "output_type": "stream",
     "text": [
      "['P', 'a', 's', 's', 'a', 'r', 'a', 'M', '1', '9', 'p', 'e', 's', 's', 'o', 'a', 's', '3', '5', '0', 'v', 'e', 'z', 'e', 's']\n"
     ]
    }
   ],
   "source": [
    "print(re.findall(r'[a-zA-Z0-9]', 'PassaraM 19 pessoas 350 vezes'))"
   ]
  },
  {
   "cell_type": "code",
   "execution_count": 51,
   "id": "cc4419b2",
   "metadata": {},
   "outputs": [
    {
     "name": "stdout",
     "output_type": "stream",
     "text": [
      "['PassaraM', '19', 'pessoas', '350', 'vezes', 'cora', 'o']\n"
     ]
    }
   ],
   "source": [
    "print(re.findall(r'[a-zA-Z0-9]+', 'PassaraM 19 pessoas 350 vezes coração'))"
   ]
  },
  {
   "cell_type": "code",
   "execution_count": 52,
   "id": "61459d7a",
   "metadata": {},
   "outputs": [
    {
     "name": "stdout",
     "output_type": "stream",
     "text": [
      "['PassaraM', '19', 'pessoas', '350', 'vezes', 'coração']\n"
     ]
    }
   ],
   "source": [
    "print(re.findall(r'[a-zA-Zà-ú0-9]+', 'PassaraM 19 pessoas 350 vezes coração'))"
   ]
  },
  {
   "cell_type": "code",
   "execution_count": 59,
   "id": "academic-giving",
   "metadata": {},
   "outputs": [
    {
     "name": "stdout",
     "output_type": "stream",
     "text": [
      "['PassaraM', '19', 'pessoas', '350', 'vezes', 'coração']\n"
     ]
    }
   ],
   "source": [
    "print(re.findall(r'\\w+', 'PassaraM 19 pessoas 350 vezes coração'))"
   ]
  },
  {
   "cell_type": "code",
   "execution_count": null,
   "id": "impressed-lying",
   "metadata": {},
   "outputs": [],
   "source": []
  },
  {
   "cell_type": "code",
   "execution_count": null,
   "id": "pleased-lambda",
   "metadata": {},
   "outputs": [],
   "source": []
  },
  {
   "cell_type": "code",
   "execution_count": null,
   "id": "modern-yahoo",
   "metadata": {},
   "outputs": [],
   "source": []
  },
  {
   "cell_type": "code",
   "execution_count": null,
   "id": "elder-watts",
   "metadata": {},
   "outputs": [],
   "source": []
  },
  {
   "cell_type": "code",
   "execution_count": null,
   "id": "settled-offset",
   "metadata": {},
   "outputs": [],
   "source": []
  },
  {
   "cell_type": "markdown",
   "id": "equivalent-jimmy",
   "metadata": {},
   "source": [
    "Procurando textos entre parênteses:"
   ]
  },
  {
   "cell_type": "code",
   "execution_count": 62,
   "id": "exposed-sucking",
   "metadata": {},
   "outputs": [
    {
     "name": "stdout",
     "output_type": "stream",
     "text": [
      "['(pessoas)']\n"
     ]
    }
   ],
   "source": [
    "print(re.findall(r'\\(\\w+\\)', 'PassaraM 19 (pessoas) 350 vezes coração'))"
   ]
  },
  {
   "cell_type": "code",
   "execution_count": 70,
   "id": "5fb5739b",
   "metadata": {},
   "outputs": [
    {
     "name": "stdout",
     "output_type": "stream",
     "text": [
      "['(pessoas espertas)']\n"
     ]
    }
   ],
   "source": [
    "print(re.findall(r'\\(\\w+\\s\\w+\\)', 'PassaraM 19 (pessoas espertas) 350 vezes coração'))"
   ]
  },
  {
   "cell_type": "code",
   "execution_count": 68,
   "id": "d0e4874e",
   "metadata": {},
   "outputs": [
    {
     "name": "stdout",
     "output_type": "stream",
     "text": [
      "[' ', ' ', ' ', ' ', ' ', ' ']\n"
     ]
    }
   ],
   "source": [
    "print(re.findall(r'\\s', 'PassaraM 19 (pessoas espertas) 350 vezes coração'))"
   ]
  },
  {
   "cell_type": "markdown",
   "id": "patent-suggestion",
   "metadata": {},
   "source": [
    "# Resumindo\n",
    "\n",
    "**|** ⟶ OU\n",
    "\n",
    "**.** ⟶ Qualquer caractere, exceto quebra de linha\n",
    "\n",
    "**[az]** ⟶ O caractere \"a\" OU \"z\". Pode ser qualquer caractere do conjunto\n",
    "\n",
    "**[a-z]** ⟶ Qualquer caractere de \"a\" até \"z\" minúsculo\n",
    "\n",
    "**[A-Z]** ⟶ Qualquer caractere de \"A\" até \"Z\" maiúsculo\n",
    "\n",
    "**[0-9]** ⟶ Dígitos numéricos de \"0\" até \"9\"\n",
    "\n",
    "**[^a-c]** ⟶ Qualquer caractere, exceto de \"a\" até \"c\"\n",
    "\n",
    "**^[a-z]** ⟶ Qualquer caractere de \"a\" até \"z\". String deve começar com o padrão.\n",
    "\n",
    "**[a-z]*** ⟶ Zero ou mais letras de \"a\" até \"z\"\n",
    "\n",
    "**[A-Z]+** ⟶ Uma ou mais letras de \"A\" até \"Z\"\n",
    "\n",
    "**a{5}** ⟶ Cinco **a**'s\n",
    "\n",
    "**a{2,5}** ⟶ De dois a cinco **a**'s\n",
    "\n",
    "**[a-z]{,3}** ⟶ Até três letras de \"a\" até \"z\"\n",
    "\n",
    "**\\w** ⟶ [a-zA-ZÀ-ú0-9], mas apenas um caractere destes\n",
    "\n",
    "**\\w+** ⟶ um ou mais [a-zA-ZÀ-ú0-9], formando uma palavra\n",
    "\n",
    "**\\s** ⟶ separadores\n"
   ]
  },
  {
   "cell_type": "markdown",
   "id": "medieval-basis",
   "metadata": {},
   "source": [
    "\n",
    "# RegEx tester\n",
    "\n",
    "Uma ferramenta legal para conferir expressões regulares é o https://regex101.com ou https://www.regextester.com\n",
    "\n",
    "Nele, você pode conferir se há, para alguma expressão regular, match com palavras de um texto."
   ]
  },
  {
   "cell_type": "markdown",
   "id": "mexican-definition",
   "metadata": {},
   "source": [
    "# Exercícios"
   ]
  },
  {
   "cell_type": "markdown",
   "id": "subsequent-discrimination",
   "metadata": {},
   "source": [
    "**Exercício 1)** Considere a seguinte string:"
   ]
  },
  {
   "cell_type": "code",
   "execution_count": null,
   "id": "fancy-chapter",
   "metadata": {},
   "outputs": [],
   "source": [
    "msg = 'Uber e Lyft fizeram aprox. 15 milhões de corridas, isso em 2020. Em ritmo de crescimento!'"
   ]
  },
  {
   "cell_type": "markdown",
   "id": "single-blowing",
   "metadata": {},
   "source": [
    "a) Crie uma expressão regular para encontrar ocorrências dos termos **milhões** ou **crescimento** ou **investimento**"
   ]
  },
  {
   "cell_type": "code",
   "execution_count": null,
   "id": "controlled-pulse",
   "metadata": {},
   "outputs": [],
   "source": []
  },
  {
   "cell_type": "markdown",
   "id": "welcome-chamber",
   "metadata": {},
   "source": [
    "b) Crie uma expressão regular para encontrar todos os números na mensagem."
   ]
  },
  {
   "cell_type": "code",
   "execution_count": null,
   "id": "secondary-marine",
   "metadata": {},
   "outputs": [],
   "source": []
  },
  {
   "cell_type": "markdown",
   "id": "brave-substance",
   "metadata": {},
   "source": [
    "c) Crie uma expressão regular para alterar de **aprox.** para **aproximadamente**."
   ]
  },
  {
   "cell_type": "code",
   "execution_count": null,
   "id": "broke-rebecca",
   "metadata": {},
   "outputs": [],
   "source": []
  },
  {
   "cell_type": "markdown",
   "id": "cross-investing",
   "metadata": {},
   "source": [
    "d) Crie uma expressão regular para remover *ponto* e *exclamação* das mensagens."
   ]
  },
  {
   "cell_type": "code",
   "execution_count": null,
   "id": "opened-webster",
   "metadata": {},
   "outputs": [],
   "source": []
  },
  {
   "cell_type": "markdown",
   "id": "joint-radiation",
   "metadata": {},
   "source": [
    "**Exercício 2)** Crie um programa para substituir todas as ocorrências de espaço, vírgula e interrogação por dois pontos :"
   ]
  },
  {
   "cell_type": "code",
   "execution_count": null,
   "id": "limited-australian",
   "metadata": {},
   "outputs": [],
   "source": [
    "text = 'Eu? Aprendendo, expressões regulares.'\n",
    "\n"
   ]
  },
  {
   "cell_type": "markdown",
   "id": "adolescent-sessions",
   "metadata": {},
   "source": [
    "**Exercício 3)** Crie um programa para obter uma lista das palavras no texto (incluindo números). As palavras devolvidas devem estar sem pontuação.\n",
    "\n",
    "Dica: \\w"
   ]
  },
  {
   "cell_type": "code",
   "execution_count": null,
   "id": "registered-texas",
   "metadata": {},
   "outputs": [],
   "source": [
    "msg = 'Uber e Lyft fizeram aprox. 860 milhões de corridas, isso em 2020'"
   ]
  },
  {
   "cell_type": "code",
   "execution_count": null,
   "id": "excessive-conference",
   "metadata": {},
   "outputs": [],
   "source": []
  },
  {
   "cell_type": "code",
   "execution_count": null,
   "id": "found-crack",
   "metadata": {},
   "outputs": [],
   "source": []
  },
  {
   "cell_type": "code",
   "execution_count": null,
   "id": "opening-profit",
   "metadata": {},
   "outputs": [],
   "source": []
  },
  {
   "cell_type": "markdown",
   "id": "inside-sterling",
   "metadata": {},
   "source": [
    "**Exercício 4)** Considere a seguinte mensagem:"
   ]
  },
  {
   "cell_type": "code",
   "execution_count": null,
   "id": "ranging-international",
   "metadata": {},
   "outputs": [],
   "source": [
    "msg = 'João nasceu em 12/05/2016, e em 12/05/18 completou 2 anos de vida! Em 5/3/34, iniciou seu ensino superior!'"
   ]
  },
  {
   "cell_type": "markdown",
   "id": "charitable-racing",
   "metadata": {},
   "source": [
    "a) Crie uma expressão regular para encontrar todos os números na mensagem"
   ]
  },
  {
   "cell_type": "code",
   "execution_count": null,
   "id": "italian-tuner",
   "metadata": {},
   "outputs": [],
   "source": []
  },
  {
   "cell_type": "markdown",
   "id": "agreed-paintball",
   "metadata": {},
   "source": [
    "b) Crie uma expressão regular para encontrar datas na mensagem."
   ]
  },
  {
   "cell_type": "code",
   "execution_count": null,
   "id": "framed-korean",
   "metadata": {},
   "outputs": [],
   "source": []
  },
  {
   "cell_type": "code",
   "execution_count": null,
   "id": "prescribed-profile",
   "metadata": {},
   "outputs": [],
   "source": []
  },
  {
   "cell_type": "code",
   "execution_count": null,
   "id": "increasing-dominant",
   "metadata": {},
   "outputs": [],
   "source": []
  },
  {
   "cell_type": "markdown",
   "id": "positive-participation",
   "metadata": {},
   "source": [
    "**Exercício 5)** Crie um programa para encontrar URLs em uma string."
   ]
  },
  {
   "cell_type": "code",
   "execution_count": null,
   "id": "successful-reply",
   "metadata": {},
   "outputs": [],
   "source": [
    "txt = 'Embora você possa digitar https://oficinadanet.com.br para acessar nosso site, em segundo plano, o navegador primeiro envia uma solicitação aos servidores DNS para resolver o nome do site em um endereço IP. Quando o endereço é encontrado, ele retorna e, em seguida, o navegador faz o download do conteúdo e mostra a página. Utilize http://www.google.com/ para ir ao buscador.'"
   ]
  },
  {
   "cell_type": "code",
   "execution_count": null,
   "id": "02a3b1dd",
   "metadata": {},
   "outputs": [],
   "source": [
    "print(txt)"
   ]
  },
  {
   "cell_type": "code",
   "execution_count": null,
   "id": "clean-synthetic",
   "metadata": {},
   "outputs": [],
   "source": []
  },
  {
   "cell_type": "markdown",
   "id": "final-border",
   "metadata": {},
   "source": [
    "**Exercício 6)** Crie um programa para identificar se um CPF está ou não formatado de acordo com o padrão 000.000.000-00. Exiba a mensagem *está correto* ou *está errado*\n",
    "\n",
    "DICA: procure pela função `re.match`"
   ]
  },
  {
   "cell_type": "code",
   "execution_count": null,
   "id": "governmental-interstate",
   "metadata": {},
   "outputs": [],
   "source": [
    "cpf = '012.345.678-90'\n",
    "\n"
   ]
  },
  {
   "cell_type": "markdown",
   "id": "internal-shoot",
   "metadata": {},
   "source": [
    "b) Crie uma função para fazer esta validação."
   ]
  },
  {
   "cell_type": "code",
   "execution_count": null,
   "id": "backed-beach",
   "metadata": {},
   "outputs": [],
   "source": [
    "def valid_cpf(cpf):\n",
    "    # Seu código aqui!\n",
    "    return"
   ]
  },
  {
   "cell_type": "code",
   "execution_count": null,
   "id": "12c4cebd",
   "metadata": {},
   "outputs": [],
   "source": [
    "print(valid_cpf('089.988.355-19'))\n",
    "print(valid_cpf('011.233.455-9'))\n",
    "print(valid_cpf('23.578.399-54'))"
   ]
  },
  {
   "cell_type": "markdown",
   "id": "attempted-correction",
   "metadata": {},
   "source": [
    "**Exercício 7)** Crie uma função para validar se um telefone está no formato correto:\n",
    "\n",
    "Ex: (11) 98765-4321"
   ]
  },
  {
   "cell_type": "code",
   "execution_count": null,
   "id": "d0a4a124",
   "metadata": {},
   "outputs": [],
   "source": [
    "def valid_tel(tel):\n",
    "    # Seu código aqui!\n",
    "    return"
   ]
  },
  {
   "cell_type": "code",
   "execution_count": null,
   "id": "opening-startup",
   "metadata": {},
   "outputs": [],
   "source": [
    "tel = '(11) 98765-4321'\n",
    "print(valid_tel(tel))\n",
    "\n",
    "tel = '(11) 987654321'\n",
    "print(valid_tel(tel))\n",
    "\n",
    "tel = '11 98765-4321'\n",
    "print(valid_tel(tel))\n",
    "\n",
    "tel = '(11) 98765-432'\n",
    "print(valid_tel(tel))"
   ]
  },
  {
   "cell_type": "markdown",
   "id": "saved-affairs",
   "metadata": {},
   "source": [
    "**Exercício 8)** Crie uma função para encontrar todos os telefones em um texto\n",
    "\n",
    "Ex: (11) 98765-4321"
   ]
  },
  {
   "cell_type": "code",
   "execution_count": null,
   "id": "protecting-equation",
   "metadata": {},
   "outputs": [],
   "source": [
    "def find_all_tel(txt):\n",
    "    # Seu código aqui!\n",
    "    return"
   ]
  },
  {
   "cell_type": "code",
   "execution_count": null,
   "id": "7775fa20",
   "metadata": {},
   "outputs": [],
   "source": [
    "txt = 'liga neste (11) 98765-4321 ou neste (11) 98765-4321'\n",
    "\n",
    "find_all_tel(txt)"
   ]
  },
  {
   "cell_type": "markdown",
   "id": "metallic-progress",
   "metadata": {},
   "source": [
    "**Exercício 9)** Encontre e teste um RegEx para validar email!\n"
   ]
  },
  {
   "cell_type": "code",
   "execution_count": null,
   "id": "visible-jewel",
   "metadata": {},
   "outputs": [],
   "source": []
  },
  {
   "cell_type": "markdown",
   "id": "c07299af",
   "metadata": {},
   "source": [
    "**Exercício 10)** Uma empresa deseja monitorar menções a ela em notícias. Crie uma função que recebe um texto (notícia) e o nome da `empresa`. Caso a notícia faça menção a empresa, devolva a quantas palavras negativas são encontradas na notícia."
   ]
  },
  {
   "cell_type": "code",
   "execution_count": null,
   "id": "63bda5ca",
   "metadata": {},
   "outputs": [],
   "source": [
    "def monitora_neg(notica, empresa):\n",
    "    # Seu código aqui!\n",
    "    return"
   ]
  },
  {
   "cell_type": "code",
   "execution_count": null,
   "id": "affeed46",
   "metadata": {},
   "outputs": [],
   "source": [
    "noticia = 'A Microsoft fez um péssimo trabalho no desenvolvimento do Onedrive. Os clientes, irritados, '\n",
    "print(monitora_neg(noticia, 'Microsoft'))\n",
    "\n",
    "noticia = 'A Microsoft fez um péssimo trabalho no desenvolvimento do Onedrive. Os clientes, irritados, tentam se localizar'\n",
    "print(monitora_neg(noticia, 'Apple'))\n",
    "\n",
    "noticia = '''\n",
    "Pânico e recessão globais. O Lehman Brothers entrou com pedido\n",
    "de recuperação judicial em 15 de setembro de 2008, uma segunda-feira\n",
    "e teve sua falência decretada. Com uma dívida de US$ 613 bilhões,\n",
    "o banco, fundado em 1847, empregava cerca de\n",
    "25 mil pessoas no mundo todo. Cliente irados não saem do telefone.\n",
    "'''\n",
    "print(monitora_neg(noticia, 'Lehman Brothers'))\n"
   ]
  }
 ],
 "metadata": {
  "kernelspec": {
   "display_name": "Python 3 (ipykernel)",
   "language": "python",
   "name": "python3"
  },
  "language_info": {
   "codemirror_mode": {
    "name": "ipython",
    "version": 3
   },
   "file_extension": ".py",
   "mimetype": "text/x-python",
   "name": "python",
   "nbconvert_exporter": "python",
   "pygments_lexer": "ipython3",
   "version": "3.8.16"
  }
 },
 "nbformat": 4,
 "nbformat_minor": 5
}
